{
  "nbformat": 4,
  "nbformat_minor": 0,
  "metadata": {
    "colab": {
      "provenance": []
    },
    "kernelspec": {
      "name": "python3",
      "display_name": "Python 3"
    },
    "language_info": {
      "name": "python"
    }
  },
  "cells": [
    {
      "cell_type": "markdown",
      "source": [
        "Create a new notebook to train a baseline model (TrainBaseModel.ipynb)\n",
        "Implement and train a transfer learning model, selecting a model from Keras Built-in Vision Models\n",
        "Make sure you look make the learning curves.\n",
        "Save the model using model.save() (see Keras Model Saving\n",
        "Create a new notebook to see effect of data augmentation a baseline model (TrainBaseModelAugmentation.ipynb):\n",
        "Add data augmentation.\n",
        "Select at least 3 augmentations that make sense for your datasets (see Keras Image Augmentation Layers).\n",
        "Visualize the data augmentation to make sure it's working as expected.\n",
        "Train the same model now with data augmentation.\n",
        "Save the new model.\n",
        "Test if data augmentation is helping:\n",
        "Create a new notebook (CompareAugmentation.ipynb)\n",
        "Load the 2 models and compare the ROC curves with and without augmentation.\n",
        "Train the three different transfer learning models (Train-XXXX.ipynb):\n",
        "Select 2 additional models from Keras Built-in Vision Models.\n",
        "Create a new notebook for the each model.\n",
        "Implement and train the model.\n",
        "Make sure you look make the learning curves.\n",
        "Save the model using model.save (see Keras Model Saving\n",
        "Copy the notebook and try a different base model.\n",
        "Compare the three models:\n",
        "Create a new notebook (CompareModels.ipynb)\n",
        "Load the 3 models.\n",
        "Make a plot comparing the 3 ROC curves of the 3 models on the validation dataset."
      ],
      "metadata": {
        "id": "QSTN28IOP8Kw"
      }
    },
    {
      "cell_type": "markdown",
      "source": [],
      "metadata": {
        "id": "SZjEq8mTP4mk"
      }
    },
    {
      "cell_type": "code",
      "source": [
        "from google.colab import drive\n",
        "drive.mount('/content/drive')"
      ],
      "metadata": {
        "colab": {
          "base_uri": "https://localhost:8080/"
        },
        "id": "M_H8tsejQCuE",
        "outputId": "cb1ef492-61d6-4e88-cf13-bbcb1beab6b7"
      },
      "execution_count": null,
      "outputs": [
        {
          "output_type": "stream",
          "name": "stdout",
          "text": [
            "Mounted at /content/drive\n"
          ]
        }
      ]
    },
    {
      "cell_type": "code",
      "source": [
        "archive_path = '/content/drive/MyDrive/archive'"
      ],
      "metadata": {
        "id": "b8SPD96KQNAm"
      },
      "execution_count": null,
      "outputs": []
    },
    {
      "cell_type": "code",
      "source": [
        "# Model Chosen: MobileNet\n",
        "\n",
        "\n",
        "# Import necessary libraries\n",
        "import numpy as np\n",
        "import matplotlib.pyplot as plt\n",
        "import tensorflow as tf\n",
        "from tensorflow.keras.preprocessing.image import ImageDataGenerator\n",
        "from tensorflow.keras.applications import MobileNet  # MobileNet model\n",
        "from tensorflow.keras.layers import GlobalAveragePooling2D, Dense\n",
        "from tensorflow.keras.models import Model"
      ],
      "metadata": {
        "id": "KXbvX6JZYDVC"
      },
      "execution_count": null,
      "outputs": []
    },
    {
      "cell_type": "code",
      "source": [
        "import os\n",
        "\n",
        "# Define the path to your dataset directory\n",
        "dataset_dir = '/content/drive/MyDrive/archive/Train_Test_Valid/Train'  # Update with the path to your dataset\n",
        "\n",
        "# Get the list of subdirectories (classes) in the dataset directory\n",
        "classes = os.listdir(dataset_dir)\n",
        "\n",
        "# Print the number of classes and the list of classes\n",
        "num_classes = len(classes)\n",
        "print(f\"Number of classes: {num_classes}\")\n",
        "print(\"Classes:\")\n",
        "for class_name in classes:\n",
        "    print(class_name)\n"
      ],
      "metadata": {
        "colab": {
          "base_uri": "https://localhost:8080/"
        },
        "id": "tcr-JXoWA21I",
        "outputId": "55173b04-f683-46d9-cd16-3668475aff14"
      },
      "execution_count": null,
      "outputs": [
        {
          "output_type": "stream",
          "name": "stdout",
          "text": [
            "Number of classes: 6\n",
            "Classes:\n",
            "blue_jellyfish\n",
            "barrel_jellyfish\n",
            "mauve_stinger_jellyfish\n",
            "lions_mane_jellyfish\n",
            "Moon_jellyfish\n",
            "compass_jellyfish\n"
          ]
        }
      ]
    },
    {
      "cell_type": "code",
      "source": [
        "# Import necessary libraries\n",
        "import numpy as np\n",
        "import matplotlib.pyplot as plt\n",
        "import tensorflow as tf\n",
        "from tensorflow.keras.preprocessing.image import ImageDataGenerator\n",
        "from tensorflow.keras.applications import MobileNet  # MobileNet model\n",
        "from tensorflow.keras.layers import GlobalAveragePooling2D, Dense\n",
        "from tensorflow.keras.models import Model\n",
        "import os  # Import os module for file operations\n"
      ],
      "metadata": {
        "id": "cacYNF4gB0Gg"
      },
      "execution_count": null,
      "outputs": []
    },
    {
      "cell_type": "code",
      "source": [
        "# Set random seed for reproducibility\n",
        "np.random.seed(42)\n",
        "tf.random.set_seed(42)\n",
        "\n",
        "# Define constants\n",
        "IMAGE_SIZE = (224, 224)\n",
        "BATCH_SIZE = 32\n",
        "EPOCHS = 20\n",
        "NUM_CLASSES = 6  # Update this to match the actual number of classes in your dataset\n"
      ],
      "metadata": {
        "id": "Z5R8tUfmCBfw"
      },
      "execution_count": null,
      "outputs": []
    },
    {
      "cell_type": "code",
      "source": [
        "# Define paths to your dataset\n",
        "archive_path = '/content/drive/MyDrive/archive'\n",
        "train_dir = '/content/drive/MyDrive/archive/Train_Test_Valid/Train'\n",
        "validation_dir = '/content/drive/MyDrive/archive/Train_Test_Valid/valid'\n",
        "test_dir = '/content/drive/MyDrive/archive/Train_Test_Valid/test'"
      ],
      "metadata": {
        "id": "QS_2_dzlCF-z"
      },
      "execution_count": null,
      "outputs": []
    },
    {
      "cell_type": "code",
      "source": [
        "# Data preprocessing and augmentation\n",
        "train_datagen = ImageDataGenerator(\n",
        "    rescale=1./255,\n",
        "    rotation_range=20,\n",
        "    width_shift_range=0.2,\n",
        "    height_shift_range=0.2,\n",
        "    shear_range=0.2,\n",
        "    zoom_range=0.2,\n",
        "    horizontal_flip=True,\n",
        "    fill_mode='nearest'\n",
        ")"
      ],
      "metadata": {
        "id": "LmKWqvlRCJX-"
      },
      "execution_count": null,
      "outputs": []
    },
    {
      "cell_type": "code",
      "source": [
        "validation_datagen = ImageDataGenerator(rescale=1./255)"
      ],
      "metadata": {
        "id": "pRZda6JzCL4J"
      },
      "execution_count": null,
      "outputs": []
    },
    {
      "cell_type": "code",
      "source": [
        "train_generator = train_datagen.flow_from_directory(\n",
        "    train_dir,\n",
        "    target_size=IMAGE_SIZE,\n",
        "    batch_size=BATCH_SIZE,\n",
        "    class_mode='categorical'\n",
        ")\n",
        "\n",
        "validation_generator = validation_datagen.flow_from_directory(\n",
        "    validation_dir,\n",
        "    target_size=IMAGE_SIZE,\n",
        "    batch_size=BATCH_SIZE,\n",
        "    class_mode='categorical'\n",
        ")"
      ],
      "metadata": {
        "colab": {
          "base_uri": "https://localhost:8080/"
        },
        "id": "h5KV8EjSCPmW",
        "outputId": "5c09438e-c3f2-4740-df95-4d41583c8b34"
      },
      "execution_count": null,
      "outputs": [
        {
          "output_type": "stream",
          "name": "stdout",
          "text": [
            "Found 900 images belonging to 6 classes.\n",
            "Found 39 images belonging to 6 classes.\n"
          ]
        }
      ]
    },
    {
      "cell_type": "code",
      "source": [
        "validation_generator = validation_datagen.flow_from_directory(\n",
        "    validation_dir,\n",
        "    target_size=IMAGE_SIZE,\n",
        "    batch_size=BATCH_SIZE,\n",
        "    class_mode='categorical'\n",
        ")\n"
      ],
      "metadata": {
        "colab": {
          "base_uri": "https://localhost:8080/"
        },
        "id": "4edLYSbIEHEk",
        "outputId": "b7833ac5-ba86-44cf-92d2-aff1c4904089"
      },
      "execution_count": null,
      "outputs": [
        {
          "output_type": "stream",
          "name": "stdout",
          "text": [
            "Found 39 images belonging to 6 classes.\n"
          ]
        }
      ]
    },
    {
      "cell_type": "code",
      "source": [
        "# Load pre-trained MobileNet model\n",
        "base_model = MobileNet(weights='imagenet', include_top=False, input_shape=(IMAGE_SIZE[0], IMAGE_SIZE[1], 3))\n",
        "\n",
        "# Freeze the pre-trained layers\n",
        "for layer in base_model.layers:\n",
        "    layer.trainable = False\n",
        "\n",
        "# Add custom classification layers\n",
        "x = base_model.output\n",
        "x = GlobalAveragePooling2D()(x)\n",
        "x = Dense(512, activation='relu')(x)\n",
        "predictions = Dense(NUM_CLASSES, activation='softmax')(x)\n"
      ],
      "metadata": {
        "colab": {
          "base_uri": "https://localhost:8080/"
        },
        "id": "g4_bl0yKEMDV",
        "outputId": "cfc27225-4514-4f45-dc25-b677ec0ec07b"
      },
      "execution_count": null,
      "outputs": [
        {
          "output_type": "stream",
          "name": "stdout",
          "text": [
            "Downloading data from https://storage.googleapis.com/tensorflow/keras-applications/mobilenet/mobilenet_1_0_224_tf_no_top.h5\n",
            "17225924/17225924 [==============================] - 1s 0us/step\n"
          ]
        }
      ]
    },
    {
      "cell_type": "code",
      "source": [
        "# Create the final model\n",
        "model = Model(inputs=base_model.input, outputs=predictions)\n",
        "\n",
        "# Compile the model\n",
        "model.compile(optimizer='adam',\n",
        "              loss='categorical_crossentropy',\n",
        "              metrics=['accuracy'])\n",
        "\n",
        "# Train the model\n",
        "history = model.fit(\n",
        "    train_generator,\n",
        "    epochs=EPOCHS,\n",
        "    validation_data=validation_generator\n",
        ")\n"
      ],
      "metadata": {
        "colab": {
          "base_uri": "https://localhost:8080/"
        },
        "id": "atai9rpuEQKj",
        "outputId": "64143727-1668-4206-93af-c92c7bf6cde6"
      },
      "execution_count": null,
      "outputs": [
        {
          "output_type": "stream",
          "name": "stdout",
          "text": [
            "Epoch 1/20\n",
            "29/29 [==============================] - 346s 12s/step - loss: 1.2192 - accuracy: 0.6244 - val_loss: 0.9858 - val_accuracy: 0.7179\n",
            "Epoch 2/20\n",
            "29/29 [==============================] - 61s 2s/step - loss: 0.2882 - accuracy: 0.9078 - val_loss: 1.1267 - val_accuracy: 0.6923\n",
            "Epoch 3/20\n",
            "29/29 [==============================] - 59s 2s/step - loss: 0.2168 - accuracy: 0.9256 - val_loss: 0.9889 - val_accuracy: 0.7179\n",
            "Epoch 4/20\n",
            "29/29 [==============================] - 55s 2s/step - loss: 0.1122 - accuracy: 0.9700 - val_loss: 1.1331 - val_accuracy: 0.6667\n",
            "Epoch 5/20\n",
            "29/29 [==============================] - 58s 2s/step - loss: 0.1016 - accuracy: 0.9711 - val_loss: 1.0810 - val_accuracy: 0.7436\n",
            "Epoch 6/20\n",
            "29/29 [==============================] - 58s 2s/step - loss: 0.0643 - accuracy: 0.9844 - val_loss: 1.2403 - val_accuracy: 0.7436\n",
            "Epoch 7/20\n",
            "29/29 [==============================] - 58s 2s/step - loss: 0.0724 - accuracy: 0.9789 - val_loss: 1.1728 - val_accuracy: 0.7179\n",
            "Epoch 8/20\n",
            "29/29 [==============================] - 60s 2s/step - loss: 0.0630 - accuracy: 0.9811 - val_loss: 1.1892 - val_accuracy: 0.7692\n",
            "Epoch 9/20\n",
            "29/29 [==============================] - 58s 2s/step - loss: 0.0496 - accuracy: 0.9867 - val_loss: 1.0692 - val_accuracy: 0.7436\n",
            "Epoch 10/20\n",
            "29/29 [==============================] - 59s 2s/step - loss: 0.0356 - accuracy: 0.9900 - val_loss: 1.2245 - val_accuracy: 0.7179\n",
            "Epoch 11/20\n",
            "29/29 [==============================] - 60s 2s/step - loss: 0.0316 - accuracy: 0.9944 - val_loss: 1.1550 - val_accuracy: 0.7692\n",
            "Epoch 12/20\n",
            "29/29 [==============================] - 56s 2s/step - loss: 0.0217 - accuracy: 0.9956 - val_loss: 1.2686 - val_accuracy: 0.7692\n",
            "Epoch 13/20\n",
            "29/29 [==============================] - 58s 2s/step - loss: 0.0304 - accuracy: 0.9922 - val_loss: 1.2254 - val_accuracy: 0.7692\n",
            "Epoch 14/20\n",
            "29/29 [==============================] - 60s 2s/step - loss: 0.0346 - accuracy: 0.9889 - val_loss: 1.1713 - val_accuracy: 0.7949\n",
            "Epoch 15/20\n",
            "29/29 [==============================] - 58s 2s/step - loss: 0.0224 - accuracy: 0.9956 - val_loss: 1.2903 - val_accuracy: 0.7436\n",
            "Epoch 16/20\n",
            "29/29 [==============================] - 55s 2s/step - loss: 0.0239 - accuracy: 0.9922 - val_loss: 1.5100 - val_accuracy: 0.7692\n",
            "Epoch 17/20\n",
            "29/29 [==============================] - 59s 2s/step - loss: 0.0237 - accuracy: 0.9933 - val_loss: 1.3487 - val_accuracy: 0.7179\n",
            "Epoch 18/20\n",
            "29/29 [==============================] - 56s 2s/step - loss: 0.0137 - accuracy: 0.9978 - val_loss: 1.3602 - val_accuracy: 0.7179\n",
            "Epoch 19/20\n",
            "29/29 [==============================] - 59s 2s/step - loss: 0.0225 - accuracy: 0.9944 - val_loss: 1.3901 - val_accuracy: 0.7436\n",
            "Epoch 20/20\n",
            "29/29 [==============================] - 58s 2s/step - loss: 0.0110 - accuracy: 0.9967 - val_loss: 1.3035 - val_accuracy: 0.7692\n"
          ]
        }
      ]
    },
    {
      "cell_type": "code",
      "source": [
        "# Plot learning curves\n",
        "plt.plot(history.history['accuracy'], label='accuracy')\n",
        "plt.plot(history.history['val_accuracy'], label='val_accuracy')\n",
        "plt.xlabel('Epoch')\n",
        "plt.ylabel('Accuracy')\n",
        "plt.legend()\n",
        "plt.show()\n"
      ],
      "metadata": {
        "colab": {
          "base_uri": "https://localhost:8080/",
          "height": 449
        },
        "id": "SQqo7rkIWJed",
        "outputId": "5179c08c-d355-4f21-d576-d30e4c986c97"
      },
      "execution_count": null,
      "outputs": [
        {
          "output_type": "display_data",
          "data": {
            "text/plain": [
              "<Figure size 640x480 with 1 Axes>"
            ],
            "image/png": "[encoded data removed]"
          },
          "metadata": {}
        }
      ]
    },
    {
      "cell_type": "markdown",
      "source": [
        "Comments: The training accuracy of 1 indicates that the model has learned to perfectly predict the training data. This could be a sign of overfitting if the validation accuracy is considerably lower.\n",
        "The validation accuracy of 0.73 suggests that the model's performance on unseen data (validation data) is not as good as its performance on the training data. This performance gap indicates that the model is not generalizing well to new data and is likely overfitting."
      ],
      "metadata": {
        "id": "7AIb2efMsSEP"
      }
    },
    {
      "cell_type": "code",
      "source": [
        "# Define the file path where you want to save the model\n",
        "model_file_path = \"/content/drive/MyDrive/TrainBaseModel.h5\"\n",
        "\n",
        "# Save the model\n",
        "model.save(model_file_path)\n",
        "\n",
        "print(\"Model saved successfully at:\", model_file_path)\n"
      ],
      "metadata": {
        "colab": {
          "base_uri": "https://localhost:8080/"
        },
        "id": "_TjXQPjZtAAn",
        "outputId": "3fca0451-76ef-445f-815f-7a23679ad822"
      },
      "execution_count": null,
      "outputs": [
        {
          "output_type": "stream",
          "name": "stderr",
          "text": [
            "/usr/local/lib/python3.10/dist-packages/keras/src/engine/training.py:3103: UserWarning: You are saving your model as an HDF5 file via `model.save()`. This file format is considered legacy. We recommend using instead the native Keras format, e.g. `model.save('my_model.keras')`.\n",
            "  saving_api.save_model(\n"
          ]
        },
        {
          "output_type": "stream",
          "name": "stdout",
          "text": [
            "Model saved successfully at: /content/drive/MyDrive/TrainBaseModel.h5\n"
          ]
        }
      ]
    }
  ]
}