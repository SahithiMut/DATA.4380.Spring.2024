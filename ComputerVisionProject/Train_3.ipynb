{
  "nbformat": 4,
  "nbformat_minor": 0,
  "metadata": {
    "colab": {
      "provenance": []
    },
    "kernelspec": {
      "name": "python3",
      "display_name": "Python 3"
    },
    "language_info": {
      "name": "python"
    }
  },
  "cells": [
    {
      "cell_type": "code",
      "execution_count": null,
      "metadata": {
        "colab": {
          "base_uri": "https://localhost:8080/"
        },
        "id": "_PNV0UJ2lGOJ",
        "outputId": "3bdbe60e-a869-43d9-dbc3-82029475eec7"
      },
      "outputs": [
        {
          "output_type": "stream",
          "name": "stdout",
          "text": [
            "Mounted at /content/drive\n"
          ]
        }
      ],
      "source": [
        "from google.colab import drive\n",
        "drive.mount('/content/drive')"
      ]
    },
    {
      "cell_type": "code",
      "source": [
        "import numpy as np\n",
        "import matplotlib.pyplot as plt\n",
        "from tensorflow.keras.preprocessing.image import ImageDataGenerator\n",
        "from tensorflow.keras.applications import VGG16\n",
        "from tensorflow.keras.layers import GlobalAveragePooling2D, Dense\n",
        "from tensorflow.keras.models import Model\n"
      ],
      "metadata": {
        "id": "lS2UQSrPlPOV"
      },
      "execution_count": null,
      "outputs": []
    },
    {
      "cell_type": "code",
      "source": [
        "from tensorflow.keras.applications import EfficientNetB0\n"
      ],
      "metadata": {
        "id": "EWKpI8agmLPp"
      },
      "execution_count": null,
      "outputs": []
    },
    {
      "cell_type": "code",
      "source": [
        "train_dir = '/content/drive/MyDrive/archive/Train_Test_Valid/Train'\n",
        "validation_dir = '/content/drive/MyDrive/archive/Train_Test_Valid/valid'\n",
        "test_dir = '/content/drive/MyDrive/archive/Train_Test_Valid/test'"
      ],
      "metadata": {
        "id": "00xLvbIIlmGM"
      },
      "execution_count": null,
      "outputs": []
    },
    {
      "cell_type": "code",
      "source": [
        "IMAGE_SIZE = (224, 224)\n",
        "BATCH_SIZE = 32\n"
      ],
      "metadata": {
        "id": "5GND-iprluSR"
      },
      "execution_count": null,
      "outputs": []
    },
    {
      "cell_type": "code",
      "source": [
        "train_datagen = ImageDataGenerator(\n",
        "    rescale=1./255,\n",
        "    rotation_range=20,\n",
        "    width_shift_range=0.2,\n",
        "    height_shift_range=0.2,\n",
        "    shear_range=0.2,\n",
        "    zoom_range=0.2,\n",
        "    horizontal_flip=True,\n",
        "    fill_mode='nearest'\n",
        ")\n",
        "\n",
        "validation_datagen = ImageDataGenerator(rescale=1./255)\n",
        "test_datagen = ImageDataGenerator(rescale=1./255)\n",
        "\n",
        "train_generator = train_datagen.flow_from_directory(\n",
        "    train_dir,\n",
        "    target_size=IMAGE_SIZE,\n",
        "    batch_size=BATCH_SIZE,\n",
        "    class_mode='categorical'\n",
        ")\n",
        "\n",
        "validation_generator = validation_datagen.flow_from_directory(\n",
        "    validation_dir,\n",
        "    target_size=IMAGE_SIZE,\n",
        "    batch_size=BATCH_SIZE,\n",
        "    class_mode='categorical'\n",
        ")\n",
        "\n",
        "test_generator = test_datagen.flow_from_directory(\n",
        "    test_dir,\n",
        "    target_size=IMAGE_SIZE,\n",
        "    batch_size=BATCH_SIZE,\n",
        "    class_mode='categorical',\n",
        "    shuffle=False\n",
        ")\n"
      ],
      "metadata": {
        "colab": {
          "base_uri": "https://localhost:8080/"
        },
        "id": "BYovAUD1lvNf",
        "outputId": "8d5d587c-be38-499e-c82a-8fe57a9370f0"
      },
      "execution_count": null,
      "outputs": [
        {
          "output_type": "stream",
          "name": "stdout",
          "text": [
            "Found 900 images belonging to 6 classes.\n",
            "Found 39 images belonging to 6 classes.\n",
            "Found 40 images belonging to 6 classes.\n"
          ]
        }
      ]
    },
    {
      "cell_type": "code",
      "source": [
        "base_model = EfficientNetB0(weights='imagenet', include_top=False, input_shape=(IMAGE_SIZE[0], IMAGE_SIZE[1], 3))\n"
      ],
      "metadata": {
        "colab": {
          "base_uri": "https://localhost:8080/"
        },
        "id": "UEx7U5QRlvRC",
        "outputId": "c08da26b-cdc0-4a72-b660-6416fa075ea8"
      },
      "execution_count": null,
      "outputs": [
        {
          "output_type": "stream",
          "name": "stdout",
          "text": [
            "Downloading data from https://storage.googleapis.com/keras-applications/efficientnetb0_notop.h5\n",
            "16705208/16705208 [==============================] - 0s 0us/step\n"
          ]
        }
      ]
    },
    {
      "cell_type": "code",
      "source": [
        "for layer in base_model.layers:\n",
        "    layer.trainable = False\n"
      ],
      "metadata": {
        "id": "At_-hoP-lvUR"
      },
      "execution_count": null,
      "outputs": []
    },
    {
      "cell_type": "code",
      "source": [
        "x = base_model.output\n",
        "x = GlobalAveragePooling2D()(x)\n",
        "x = Dense(512, activation='relu')(x)\n",
        "predictions = Dense(6, activation='softmax')(x)  # Assuming 6 classes for jellyfish dataset\n"
      ],
      "metadata": {
        "id": "R-8idUnKlvXJ"
      },
      "execution_count": null,
      "outputs": []
    },
    {
      "cell_type": "code",
      "source": [
        "model = Model(inputs=base_model.input, outputs=predictions)\n"
      ],
      "metadata": {
        "id": "Y_s-2pv4lvaQ"
      },
      "execution_count": null,
      "outputs": []
    },
    {
      "cell_type": "code",
      "source": [
        "model.compile(optimizer='adam', loss='categorical_crossentropy', metrics=['accuracy'])\n"
      ],
      "metadata": {
        "id": "22rX53mBlvc-"
      },
      "execution_count": null,
      "outputs": []
    },
    {
      "cell_type": "code",
      "source": [
        "history = model.fit(\n",
        "    train_generator,\n",
        "    epochs=20,\n",
        "    validation_data=validation_generator,\n",
        "    steps_per_epoch=len(train_generator),\n",
        "    validation_steps=len(validation_generator)\n",
        ")\n"
      ],
      "metadata": {
        "colab": {
          "base_uri": "https://localhost:8080/"
        },
        "id": "KE1nt1U5lvgG",
        "outputId": "6071d8a6-0d29-4103-940e-6edfb1004419"
      },
      "execution_count": null,
      "outputs": [
        {
          "output_type": "stream",
          "name": "stdout",
          "text": [
            "Epoch 1/20\n",
            "29/29 [==============================] - 250s 8s/step - loss: 1.9061 - accuracy: 0.1511 - val_loss: 1.8531 - val_accuracy: 0.1538\n",
            "Epoch 2/20\n",
            "29/29 [==============================] - 89s 3s/step - loss: 1.8338 - accuracy: 0.1511 - val_loss: 1.8180 - val_accuracy: 0.1795\n",
            "Epoch 3/20\n",
            "29/29 [==============================] - 88s 3s/step - loss: 1.8049 - accuracy: 0.1633 - val_loss: 1.8006 - val_accuracy: 0.1795\n",
            "Epoch 4/20\n",
            "29/29 [==============================] - 87s 3s/step - loss: 1.8009 - accuracy: 0.1511 - val_loss: 1.7990 - val_accuracy: 0.1282\n",
            "Epoch 5/20\n",
            "29/29 [==============================] - 88s 3s/step - loss: 1.7997 - accuracy: 0.1589 - val_loss: 1.7982 - val_accuracy: 0.1795\n",
            "Epoch 6/20\n",
            "29/29 [==============================] - 87s 3s/step - loss: 1.8028 - accuracy: 0.1667 - val_loss: 1.7969 - val_accuracy: 0.1795\n",
            "Epoch 7/20\n",
            "29/29 [==============================] - 89s 3s/step - loss: 1.7966 - accuracy: 0.1522 - val_loss: 1.7929 - val_accuracy: 0.1795\n",
            "Epoch 8/20\n",
            "29/29 [==============================] - 88s 3s/step - loss: 1.7948 - accuracy: 0.1378 - val_loss: 1.7901 - val_accuracy: 0.1795\n",
            "Epoch 9/20\n",
            "29/29 [==============================] - 86s 3s/step - loss: 1.7924 - accuracy: 0.1422 - val_loss: 1.7975 - val_accuracy: 0.1282\n",
            "Epoch 10/20\n",
            "29/29 [==============================] - 88s 3s/step - loss: 1.7948 - accuracy: 0.1622 - val_loss: 1.7905 - val_accuracy: 0.1795\n",
            "Epoch 11/20\n",
            "29/29 [==============================] - 83s 3s/step - loss: 1.7930 - accuracy: 0.1633 - val_loss: 1.7913 - val_accuracy: 0.1795\n",
            "Epoch 12/20\n",
            "29/29 [==============================] - 91s 3s/step - loss: 1.7918 - accuracy: 0.1667 - val_loss: 1.7913 - val_accuracy: 0.1795\n",
            "Epoch 13/20\n",
            "29/29 [==============================] - 90s 3s/step - loss: 1.7919 - accuracy: 0.1644 - val_loss: 1.7915 - val_accuracy: 0.1795\n",
            "Epoch 14/20\n",
            "29/29 [==============================] - 87s 3s/step - loss: 1.7919 - accuracy: 0.1622 - val_loss: 1.7914 - val_accuracy: 0.1795\n",
            "Epoch 15/20\n",
            "29/29 [==============================] - 86s 3s/step - loss: 1.7918 - accuracy: 0.1678 - val_loss: 1.7916 - val_accuracy: 0.1795\n",
            "Epoch 16/20\n",
            "29/29 [==============================] - 86s 3s/step - loss: 1.7919 - accuracy: 0.1667 - val_loss: 1.7917 - val_accuracy: 0.1795\n",
            "Epoch 17/20\n",
            "29/29 [==============================] - 89s 3s/step - loss: 1.7919 - accuracy: 0.1667 - val_loss: 1.7918 - val_accuracy: 0.1795\n",
            "Epoch 18/20\n",
            "29/29 [==============================] - 86s 3s/step - loss: 1.7931 - accuracy: 0.1711 - val_loss: 1.7991 - val_accuracy: 0.1795\n",
            "Epoch 19/20\n",
            "29/29 [==============================] - 87s 3s/step - loss: 1.7921 - accuracy: 0.1644 - val_loss: 1.7915 - val_accuracy: 0.1795\n",
            "Epoch 20/20\n",
            "29/29 [==============================] - 86s 3s/step - loss: 1.7938 - accuracy: 0.1711 - val_loss: 1.7916 - val_accuracy: 0.1795\n"
          ]
        }
      ]
    },
    {
      "cell_type": "code",
      "source": [
        "# Define the file path where you want to save the model\n",
        "model_path = \"Train-3.ipynb.h5\"\n",
        "\n",
        "# Save the model\n",
        "model.save(model_path)\n",
        "\n",
        "print(\"Model saved successfully at:\", model_path)"
      ],
      "metadata": {
        "colab": {
          "base_uri": "https://localhost:8080/"
        },
        "id": "MuzWxC13mqkZ",
        "outputId": "07411878-3c24-4929-d59b-ecbdeba7ec34"
      },
      "execution_count": null,
      "outputs": [
        {
          "output_type": "stream",
          "name": "stderr",
          "text": [
            "/usr/local/lib/python3.10/dist-packages/keras/src/engine/training.py:3103: UserWarning: You are saving your model as an HDF5 file via `model.save()`. This file format is considered legacy. We recommend using instead the native Keras format, e.g. `model.save('my_model.keras')`.\n",
            "  saving_api.save_model(\n"
          ]
        },
        {
          "output_type": "stream",
          "name": "stdout",
          "text": [
            "Model saved successfully at: Train-3.ipynb.h5\n"
          ]
        }
      ]
    },
    {
      "cell_type": "code",
      "source": [
        "plt.plot(history.history['accuracy'], label='accuracy')\n",
        "plt.plot(history.history['val_accuracy'], label = 'val_accuracy')\n",
        "plt.xlabel('Epoch')\n",
        "plt.ylabel('Accuracy')\n",
        "plt.ylim([0, 1])\n",
        "plt.legend(loc='lower right')\n",
        "plt.show()\n"
      ],
      "metadata": {
        "colab": {
          "base_uri": "https://localhost:8080/",
          "height": 455
        },
        "id": "fkeFWlDwlvjF",
        "outputId": "7c223314-79e9-4563-9d7e-45e14aa77bd3"
      },
      "execution_count": null,
      "outputs": [
        {
          "output_type": "display_data",
          "data": {
            "text/plain": [
              "<Figure size 640x480 with 1 Axes>"
            ],
            "image/png": "[encoded data removed]"
          },
          "metadata": {}
        }
      ]
    },
    {
      "cell_type": "markdown",
      "source": [
        "Comments:\n",
        "Accuracy at 0.18: This means that, on average, the model correctly predicts the class of only 18% of the training examples. In other words, it is performing poorly on the training data, and the majority of predictions are incorrect.\n",
        "Validation Accuracy at 0.19: Similarly, the validation accuracy indicates that the model correctly predicts the class of only 19% of the validation examples. This suggests that the model's performance is consistent across both the training and validation datasets, but it is still not able to generalize well to unseen data."
      ],
      "metadata": {
        "id": "mXgfiJHXwcXo"
      }
    },
    {
      "cell_type": "code",
      "source": [],
      "metadata": {
        "id": "zA47jABWlvq0"
      },
      "execution_count": null,
      "outputs": []
    }
  ]
}