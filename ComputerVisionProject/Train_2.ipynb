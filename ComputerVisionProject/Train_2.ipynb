{
  "nbformat": 4,
  "nbformat_minor": 0,
  "metadata": {
    "colab": {
      "provenance": []
    },
    "kernelspec": {
      "name": "python3",
      "display_name": "Python 3"
    },
    "language_info": {
      "name": "python"
    }
  },
  "cells": [
    {
      "cell_type": "code",
      "execution_count": 1,
      "metadata": {
        "colab": {
          "base_uri": "https://localhost:8080/"
        },
        "id": "Ue872KWmiBMj",
        "outputId": "64a4044b-ab87-4f05-bfc6-956ef8a26091"
      },
      "outputs": [
        {
          "output_type": "stream",
          "name": "stdout",
          "text": [
            "Mounted at /content/drive\n"
          ]
        }
      ],
      "source": [
        "from google.colab import drive\n",
        "drive.mount('/content/drive')"
      ]
    },
    {
      "cell_type": "code",
      "source": [
        "archive_path = '/content/drive/MyDrive/archive'"
      ],
      "metadata": {
        "id": "BCSXpDsRiNKN"
      },
      "execution_count": 2,
      "outputs": []
    },
    {
      "cell_type": "markdown",
      "source": [
        "Here, we are using the Transfer Learning Model VGG16."
      ],
      "metadata": {
        "id": "Z59EZLt9kq_E"
      }
    },
    {
      "cell_type": "code",
      "source": [
        "import numpy as np\n",
        "import matplotlib.pyplot as plt\n",
        "from tensorflow.keras.preprocessing.image import ImageDataGenerator\n",
        "from tensorflow.keras.applications import VGG16\n",
        "from tensorflow.keras.layers import GlobalAveragePooling2D, Dense\n",
        "from tensorflow.keras.models import Model\n"
      ],
      "metadata": {
        "id": "mOOxJ6mjibyl"
      },
      "execution_count": 3,
      "outputs": []
    },
    {
      "cell_type": "code",
      "source": [
        "train_dir = '/content/drive/MyDrive/archive/Train_Test_Valid/Train'\n",
        "validation_dir = '/content/drive/MyDrive/archive/Train_Test_Valid/valid'\n",
        "test_dir = '/content/drive/MyDrive/archive/Train_Test_Valid/test'\n"
      ],
      "metadata": {
        "id": "MvVvpRIPioUK"
      },
      "execution_count": 4,
      "outputs": []
    },
    {
      "cell_type": "code",
      "source": [
        "IMAGE_SIZE = (224, 224)\n",
        "BATCH_SIZE = 32\n"
      ],
      "metadata": {
        "id": "adh4CfHCirWU"
      },
      "execution_count": 5,
      "outputs": []
    },
    {
      "cell_type": "code",
      "source": [
        "train_datagen = ImageDataGenerator(\n",
        "    rescale=1./255,\n",
        "    rotation_range=20,\n",
        "    width_shift_range=0.2,\n",
        "    height_shift_range=0.2,\n",
        "    shear_range=0.2,\n",
        "    zoom_range=0.2,\n",
        "    horizontal_flip=True,\n",
        "    fill_mode='nearest'\n",
        ")\n",
        "\n",
        "validation_datagen = ImageDataGenerator(rescale=1./255)\n",
        "test_datagen = ImageDataGenerator(rescale=1./255)\n",
        "\n",
        "train_generator = train_datagen.flow_from_directory(\n",
        "    train_dir,\n",
        "    target_size=IMAGE_SIZE,\n",
        "    batch_size=BATCH_SIZE,\n",
        "    class_mode='categorical'\n",
        ")\n",
        "\n",
        "validation_generator = validation_datagen.flow_from_directory(\n",
        "    validation_dir,\n",
        "    target_size=IMAGE_SIZE,\n",
        "    batch_size=BATCH_SIZE,\n",
        "    class_mode='categorical'\n",
        ")\n",
        "\n",
        "test_generator = test_datagen.flow_from_directory(\n",
        "    test_dir,\n",
        "    target_size=IMAGE_SIZE,\n",
        "    batch_size=BATCH_SIZE,\n",
        "    class_mode='categorical',\n",
        "    shuffle=False\n",
        ")"
      ],
      "metadata": {
        "colab": {
          "base_uri": "https://localhost:8080/"
        },
        "id": "7gk_NgUGiwCw",
        "outputId": "94dba8bd-8b30-4bd3-bceb-3cf5d939e1e2"
      },
      "execution_count": 6,
      "outputs": [
        {
          "output_type": "stream",
          "name": "stdout",
          "text": [
            "Found 900 images belonging to 6 classes.\n",
            "Found 39 images belonging to 6 classes.\n",
            "Found 40 images belonging to 6 classes.\n"
          ]
        }
      ]
    },
    {
      "cell_type": "code",
      "source": [
        "base_model = VGG16(weights='imagenet', include_top=False, input_shape=(IMAGE_SIZE[0], IMAGE_SIZE[1], 3))\n"
      ],
      "metadata": {
        "colab": {
          "base_uri": "https://localhost:8080/"
        },
        "id": "1G-CHidji3jk",
        "outputId": "b5baa0fc-99e5-461f-f42f-33bcc1387343"
      },
      "execution_count": 7,
      "outputs": [
        {
          "output_type": "stream",
          "name": "stdout",
          "text": [
            "Downloading data from https://storage.googleapis.com/tensorflow/keras-applications/vgg16/vgg16_weights_tf_dim_ordering_tf_kernels_notop.h5\n",
            "58889256/58889256 [==============================] - 0s 0us/step\n"
          ]
        }
      ]
    },
    {
      "cell_type": "code",
      "source": [
        "for layer in base_model.layers:\n",
        "    layer.trainable = False\n"
      ],
      "metadata": {
        "id": "mh-MHzKEi6ui"
      },
      "execution_count": 8,
      "outputs": []
    },
    {
      "cell_type": "code",
      "source": [
        "x = base_model.output\n",
        "x = GlobalAveragePooling2D()(x)\n",
        "x = Dense(512, activation='relu')(x)\n",
        "predictions = Dense(6, activation='softmax')(x)  # Assuming 6 classes for jellyfish dataset\n"
      ],
      "metadata": {
        "id": "m9P6VdqHi-C9"
      },
      "execution_count": 9,
      "outputs": []
    },
    {
      "cell_type": "code",
      "source": [
        "model = Model(inputs=base_model.input, outputs=predictions)\n"
      ],
      "metadata": {
        "id": "ZfowWVWIjA0I"
      },
      "execution_count": 10,
      "outputs": []
    },
    {
      "cell_type": "code",
      "source": [
        "model.compile(optimizer='adam', loss='categorical_crossentropy', metrics=['accuracy'])\n"
      ],
      "metadata": {
        "id": "98Z8lWv1jEIY"
      },
      "execution_count": 11,
      "outputs": []
    },
    {
      "cell_type": "code",
      "source": [
        "history = model.fit(\n",
        "    train_generator,\n",
        "    epochs=20,\n",
        "    validation_data=validation_generator,\n",
        "    steps_per_epoch=len(train_generator),\n",
        "    validation_steps=len(validation_generator)\n",
        ")\n"
      ],
      "metadata": {
        "colab": {
          "base_uri": "https://localhost:8080/"
        },
        "id": "hmoMElRdjKJR",
        "outputId": "782e88c1-4cdd-4cc1-8f13-274cdefe165d"
      },
      "execution_count": 12,
      "outputs": [
        {
          "output_type": "stream",
          "name": "stdout",
          "text": [
            "Epoch 1/20\n",
            "29/29 [==============================] - 678s 23s/step - loss: 1.6934 - accuracy: 0.3189 - val_loss: 1.5000 - val_accuracy: 0.4359\n",
            "Epoch 2/20\n",
            "29/29 [==============================] - 629s 22s/step - loss: 1.3252 - accuracy: 0.5678 - val_loss: 1.2856 - val_accuracy: 0.5128\n",
            "Epoch 3/20\n",
            "29/29 [==============================] - 633s 22s/step - loss: 1.1243 - accuracy: 0.6311 - val_loss: 1.2224 - val_accuracy: 0.6154\n",
            "Epoch 4/20\n",
            "29/29 [==============================] - 630s 22s/step - loss: 0.9588 - accuracy: 0.7033 - val_loss: 1.2184 - val_accuracy: 0.5897\n",
            "Epoch 5/20\n",
            "29/29 [==============================] - 632s 22s/step - loss: 0.8568 - accuracy: 0.7367 - val_loss: 1.1080 - val_accuracy: 0.6410\n",
            "Epoch 6/20\n",
            "29/29 [==============================] - 616s 21s/step - loss: 0.7795 - accuracy: 0.7556 - val_loss: 1.1168 - val_accuracy: 0.5897\n",
            "Epoch 7/20\n",
            "29/29 [==============================] - 614s 21s/step - loss: 0.7344 - accuracy: 0.7489 - val_loss: 1.1989 - val_accuracy: 0.6410\n",
            "Epoch 8/20\n",
            "29/29 [==============================] - 639s 22s/step - loss: 0.6486 - accuracy: 0.7978 - val_loss: 1.1043 - val_accuracy: 0.5641\n",
            "Epoch 9/20\n",
            "29/29 [==============================] - 613s 21s/step - loss: 0.6109 - accuracy: 0.8033 - val_loss: 1.1706 - val_accuracy: 0.5641\n",
            "Epoch 10/20\n",
            "29/29 [==============================] - 612s 21s/step - loss: 0.5626 - accuracy: 0.8122 - val_loss: 1.2250 - val_accuracy: 0.6154\n",
            "Epoch 11/20\n",
            "29/29 [==============================] - 610s 21s/step - loss: 0.5095 - accuracy: 0.8467 - val_loss: 1.1563 - val_accuracy: 0.6154\n",
            "Epoch 12/20\n",
            "29/29 [==============================] - 609s 21s/step - loss: 0.4980 - accuracy: 0.8633 - val_loss: 1.1919 - val_accuracy: 0.6410\n",
            "Epoch 13/20\n",
            "29/29 [==============================] - 607s 21s/step - loss: 0.4802 - accuracy: 0.8444 - val_loss: 1.2349 - val_accuracy: 0.5641\n",
            "Epoch 14/20\n",
            "29/29 [==============================] - 606s 21s/step - loss: 0.4519 - accuracy: 0.8467 - val_loss: 1.2294 - val_accuracy: 0.5897\n",
            "Epoch 15/20\n",
            "29/29 [==============================] - 609s 21s/step - loss: 0.4306 - accuracy: 0.8578 - val_loss: 1.2535 - val_accuracy: 0.5641\n",
            "Epoch 16/20\n",
            "29/29 [==============================] - 609s 21s/step - loss: 0.4119 - accuracy: 0.8656 - val_loss: 1.2375 - val_accuracy: 0.5897\n",
            "Epoch 17/20\n",
            "29/29 [==============================] - 608s 21s/step - loss: 0.3882 - accuracy: 0.8722 - val_loss: 1.3267 - val_accuracy: 0.5897\n",
            "Epoch 18/20\n",
            "29/29 [==============================] - 612s 21s/step - loss: 0.3718 - accuracy: 0.8833 - val_loss: 1.3029 - val_accuracy: 0.5897\n",
            "Epoch 19/20\n",
            "29/29 [==============================] - 604s 21s/step - loss: 0.3712 - accuracy: 0.8911 - val_loss: 1.3196 - val_accuracy: 0.6154\n",
            "Epoch 20/20\n",
            "29/29 [==============================] - 609s 21s/step - loss: 0.3676 - accuracy: 0.8756 - val_loss: 1.4162 - val_accuracy: 0.5897\n"
          ]
        }
      ]
    },
    {
      "cell_type": "code",
      "source": [
        "# Define the file path where you want to save the model\n",
        "model_path = \"Train-2.ipynb.h5\"\n",
        "\n",
        "# Save the model\n",
        "model.save(model_path)\n",
        "\n",
        "print(\"Model saved successfully at:\", model_path)"
      ],
      "metadata": {
        "colab": {
          "base_uri": "https://localhost:8080/"
        },
        "id": "pMggDTE_jfSv",
        "outputId": "c6e0a6f3-1cbf-4dfe-defb-1a8acac05885"
      },
      "execution_count": 13,
      "outputs": [
        {
          "output_type": "stream",
          "name": "stderr",
          "text": [
            "/usr/local/lib/python3.10/dist-packages/keras/src/engine/training.py:3103: UserWarning: You are saving your model as an HDF5 file via `model.save()`. This file format is considered legacy. We recommend using instead the native Keras format, e.g. `model.save('my_model.keras')`.\n",
            "  saving_api.save_model(\n"
          ]
        },
        {
          "output_type": "stream",
          "name": "stdout",
          "text": [
            "Model saved successfully at: Train-2.ipynb.h5\n"
          ]
        }
      ]
    },
    {
      "cell_type": "code",
      "source": [
        "plt.plot(history.history['accuracy'], label='accuracy')\n",
        "plt.plot(history.history['val_accuracy'], label = 'val_accuracy')\n",
        "plt.xlabel('Epoch')\n",
        "plt.ylabel('Accuracy')\n",
        "plt.ylim([0, 1])\n",
        "plt.legend(loc='lower right')\n",
        "plt.show()\n"
      ],
      "metadata": {
        "colab": {
          "base_uri": "https://localhost:8080/",
          "height": 455
        },
        "id": "uGZfPBGvjM8a",
        "outputId": "8e6cf846-9f85-457d-c195-2dd2e7b82dde"
      },
      "execution_count": 14,
      "outputs": [
        {
          "output_type": "display_data",
          "data": {
            "text/plain": [
              "<Figure size 640x480 with 1 Axes>"
            ],
            "image/png": "[encoded data removed]"
          },
          "metadata": {}
        }
      ]
    },
    {
      "cell_type": "markdown",
      "source": [
        "Comments:\n",
        "\n",
        "Training Accuracy:\n",
        "The training accuracy rising from 0.3 to 0.8 indicates that the model's performance on the training data improves significantly during training. This means that the model is learning from the training data and becoming better at predicting it.\n",
        "\n",
        "Validation Accuracy:\n",
        "The validation accuracy rising from 0.4 to 0.6 suggests that the model's performance on unseen validation data also improves during training, but to a lesser extent compared to the training data. While the validation accuracy does increase, it lags behind the training accuracy, indicating that the model may not generalize as well to unseen data as it does to the training data."
      ],
      "metadata": {
        "id": "wNoUgn1m3F2q"
      }
    },
    {
      "cell_type": "code",
      "source": [],
      "metadata": {
        "id": "6Zth6LE53HEi"
      },
      "execution_count": null,
      "outputs": []
    }
  ]
}