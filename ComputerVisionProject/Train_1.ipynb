{
  "nbformat": 4,
  "nbformat_minor": 0,
  "metadata": {
    "colab": {
      "provenance": []
    },
    "kernelspec": {
      "name": "python3",
      "display_name": "Python 3"
    },
    "language_info": {
      "name": "python"
    }
  },
  "cells": [
    {
      "cell_type": "markdown",
      "source": [
        "Train the three different transfer learning models (Train-XXXX.ipynb):\n",
        "Select 2 additional models from Keras Built-in Vision Models.\n",
        "Create a new notebook for the each model.\n",
        "Implement and train the model.\n",
        "Make sure you look make the learning curves.\n",
        "Save the model using model.save (see Keras Model Saving\n",
        "Copy the notebook and try a different base model.\n",
        "Compare the three models:"
      ],
      "metadata": {
        "id": "9obR-RMn_wgG"
      }
    },
    {
      "cell_type": "markdown",
      "source": [
        "Here, we are using the Transfer Learning  model Xception."
      ],
      "metadata": {
        "id": "hA9Hm5Stkjny"
      }
    },
    {
      "cell_type": "code",
      "source": [
        "from google.colab import drive\n",
        "drive.mount('/content/drive')"
      ],
      "metadata": {
        "colab": {
          "base_uri": "https://localhost:8080/"
        },
        "id": "dN2xC58D_z_x",
        "outputId": "9953d49e-4d6d-410c-9812-9ae2a8f9f385"
      },
      "execution_count": 1,
      "outputs": [
        {
          "output_type": "stream",
          "name": "stdout",
          "text": [
            "Mounted at /content/drive\n"
          ]
        }
      ]
    },
    {
      "cell_type": "code",
      "source": [
        "archive_path = '/content/drive/MyDrive/archive'"
      ],
      "metadata": {
        "id": "skE4tuew_3tU"
      },
      "execution_count": 2,
      "outputs": []
    },
    {
      "cell_type": "code",
      "source": [
        "import numpy as np\n",
        "import matplotlib.pyplot as plt\n",
        "import tensorflow as tf\n",
        "from tensorflow.keras.preprocessing.image import ImageDataGenerator\n",
        "from tensorflow.keras.applications import Xception\n",
        "from tensorflow.keras.layers import GlobalAveragePooling2D, Dense\n",
        "from tensorflow.keras.models import Model\n"
      ],
      "metadata": {
        "id": "UdCf8cWtAc-U"
      },
      "execution_count": 3,
      "outputs": []
    },
    {
      "cell_type": "code",
      "source": [
        "train_dir = '/content/drive/MyDrive/archive/Train_Test_Valid/Train'\n",
        "validation_dir = '/content/drive/MyDrive/archive/Train_Test_Valid/valid'\n",
        "test_dir = '/content/drive/MyDrive/archive/Train_Test_Valid/test'\n"
      ],
      "metadata": {
        "id": "rw2WG_ebBlER"
      },
      "execution_count": 4,
      "outputs": []
    },
    {
      "cell_type": "code",
      "source": [
        "IMAGE_SIZE = (224, 224)\n",
        "BATCH_SIZE = 32\n",
        "NUM_CLASSES = 6  # Update with the correct number of classes in your dataset\n",
        "\n",
        "train_datagen = ImageDataGenerator(\n",
        "    rescale=1./255,\n",
        "    rotation_range=20,\n",
        "    width_shift_range=0.2,\n",
        "    height_shift_range=0.2,\n",
        "    shear_range=0.2,\n",
        "    zoom_range=0.2,\n",
        "    horizontal_flip=True,\n",
        "    fill_mode='nearest'\n",
        ")\n",
        "\n",
        "validation_datagen = ImageDataGenerator(rescale=1./255)\n",
        "\n",
        "test_datagen = ImageDataGenerator(rescale=1./255)\n",
        "\n",
        "train_generator = train_datagen.flow_from_directory(\n",
        "    train_dir,\n",
        "    target_size=IMAGE_SIZE,\n",
        "    batch_size=BATCH_SIZE,\n",
        "    class_mode='categorical'\n",
        ")\n",
        "\n",
        "validation_generator = validation_datagen.flow_from_directory(\n",
        "    validation_dir,\n",
        "    target_size=IMAGE_SIZE,\n",
        "    batch_size=BATCH_SIZE,\n",
        "    class_mode='categorical'\n",
        ")\n",
        "\n",
        "test_generator = test_datagen.flow_from_directory(\n",
        "    test_dir,\n",
        "    target_size=IMAGE_SIZE,\n",
        "    batch_size=BATCH_SIZE,\n",
        "    class_mode='categorical',\n",
        "    shuffle=False\n",
        ")\n",
        "\n",
        "base_model = Xception(weights='imagenet', include_top=False, input_shape=(IMAGE_SIZE[0], IMAGE_SIZE[1], 3))\n",
        "\n",
        "\n",
        "for layer in base_model.layers:\n",
        "    layer.trainable = False\n",
        "\n",
        "\n",
        "x = base_model.output\n",
        "x = GlobalAveragePooling2D()(x)\n",
        "x = Dense(512, activation='relu')(x)\n",
        "predictions = Dense(NUM_CLASSES, activation='softmax')(x)\n",
        "\n",
        "\n",
        "model = Model(inputs=base_model.input, outputs=predictions)\n",
        "\n",
        "model.compile(optimizer='adam',\n",
        "              loss='categorical_crossentropy',\n",
        "              metrics=['accuracy'])\n"
      ],
      "metadata": {
        "colab": {
          "base_uri": "https://localhost:8080/"
        },
        "id": "P5uj_7AvBnlx",
        "outputId": "e1d340fa-a696-41aa-b6c1-763789db2ecd"
      },
      "execution_count": 5,
      "outputs": [
        {
          "output_type": "stream",
          "name": "stdout",
          "text": [
            "Found 900 images belonging to 6 classes.\n",
            "Found 39 images belonging to 6 classes.\n",
            "Found 40 images belonging to 6 classes.\n",
            "Downloading data from https://storage.googleapis.com/tensorflow/keras-applications/xception/xception_weights_tf_dim_ordering_tf_kernels_notop.h5\n",
            "83683744/83683744 [==============================] - 1s 0us/step\n"
          ]
        }
      ]
    },
    {
      "cell_type": "code",
      "source": [
        "history = model.fit(\n",
        "    train_generator,\n",
        "    epochs=20,\n",
        "    validation_data=validation_generator\n",
        ")\n"
      ],
      "metadata": {
        "colab": {
          "base_uri": "https://localhost:8080/"
        },
        "id": "TkTjBtaiB6uT",
        "outputId": "d408ef02-4345-45ea-fb20-5ccc59c83cbb"
      },
      "execution_count": 6,
      "outputs": [
        {
          "output_type": "stream",
          "name": "stdout",
          "text": [
            "Epoch 1/20\n",
            "29/29 [==============================] - 271s 9s/step - loss: 0.9244 - accuracy: 0.6678 - val_loss: 0.9111 - val_accuracy: 0.7179\n",
            "Epoch 2/20\n",
            "29/29 [==============================] - 242s 8s/step - loss: 0.4462 - accuracy: 0.8500 - val_loss: 0.9427 - val_accuracy: 0.6410\n",
            "Epoch 3/20\n",
            "29/29 [==============================] - 238s 8s/step - loss: 0.3211 - accuracy: 0.8944 - val_loss: 0.7681 - val_accuracy: 0.7179\n",
            "Epoch 4/20\n",
            "29/29 [==============================] - 265s 9s/step - loss: 0.2645 - accuracy: 0.9178 - val_loss: 0.8537 - val_accuracy: 0.7436\n",
            "Epoch 5/20\n",
            "29/29 [==============================] - 241s 8s/step - loss: 0.2111 - accuracy: 0.9344 - val_loss: 0.8729 - val_accuracy: 0.7179\n",
            "Epoch 6/20\n",
            "29/29 [==============================] - 241s 8s/step - loss: 0.1585 - accuracy: 0.9500 - val_loss: 0.8924 - val_accuracy: 0.8205\n",
            "Epoch 7/20\n",
            "29/29 [==============================] - 235s 8s/step - loss: 0.1603 - accuracy: 0.9478 - val_loss: 1.1159 - val_accuracy: 0.7179\n",
            "Epoch 8/20\n",
            "29/29 [==============================] - 240s 8s/step - loss: 0.1754 - accuracy: 0.9356 - val_loss: 1.2195 - val_accuracy: 0.7179\n",
            "Epoch 9/20\n",
            "29/29 [==============================] - 235s 8s/step - loss: 0.1281 - accuracy: 0.9600 - val_loss: 1.1262 - val_accuracy: 0.8205\n",
            "Epoch 10/20\n",
            "29/29 [==============================] - 232s 8s/step - loss: 0.1144 - accuracy: 0.9656 - val_loss: 1.0339 - val_accuracy: 0.7179\n",
            "Epoch 11/20\n",
            "29/29 [==============================] - 233s 8s/step - loss: 0.1995 - accuracy: 0.9200 - val_loss: 1.2424 - val_accuracy: 0.7436\n",
            "Epoch 12/20\n",
            "29/29 [==============================] - 236s 8s/step - loss: 0.1128 - accuracy: 0.9611 - val_loss: 1.0860 - val_accuracy: 0.7949\n",
            "Epoch 13/20\n",
            "29/29 [==============================] - 233s 8s/step - loss: 0.0798 - accuracy: 0.9778 - val_loss: 1.2420 - val_accuracy: 0.7949\n",
            "Epoch 14/20\n",
            "29/29 [==============================] - 235s 8s/step - loss: 0.0754 - accuracy: 0.9778 - val_loss: 1.1142 - val_accuracy: 0.7692\n",
            "Epoch 15/20\n",
            "29/29 [==============================] - 233s 8s/step - loss: 0.0731 - accuracy: 0.9778 - val_loss: 1.1772 - val_accuracy: 0.7949\n",
            "Epoch 16/20\n",
            "29/29 [==============================] - 231s 8s/step - loss: 0.0756 - accuracy: 0.9767 - val_loss: 1.3191 - val_accuracy: 0.7436\n",
            "Epoch 17/20\n",
            "29/29 [==============================] - 239s 8s/step - loss: 0.0635 - accuracy: 0.9833 - val_loss: 1.1921 - val_accuracy: 0.7179\n",
            "Epoch 18/20\n",
            "29/29 [==============================] - 229s 8s/step - loss: 0.0826 - accuracy: 0.9733 - val_loss: 1.5846 - val_accuracy: 0.7179\n",
            "Epoch 19/20\n",
            "29/29 [==============================] - 237s 8s/step - loss: 0.0469 - accuracy: 0.9878 - val_loss: 1.5066 - val_accuracy: 0.7436\n",
            "Epoch 20/20\n",
            "29/29 [==============================] - 236s 8s/step - loss: 0.0643 - accuracy: 0.9778 - val_loss: 1.4218 - val_accuracy: 0.7436\n"
          ]
        }
      ]
    },
    {
      "cell_type": "code",
      "source": [
        "# Define the file path where you want to save the model\n",
        "model_path = \"Train-1.ipynb.h5\"\n",
        "\n",
        "# Save the model\n",
        "model.save(model_path)\n",
        "\n",
        "print(\"Model saved successfully at:\", model_path)"
      ],
      "metadata": {
        "colab": {
          "base_uri": "https://localhost:8080/"
        },
        "id": "Gs-lponhjTtD",
        "outputId": "d0aff7bb-1fcf-4df3-f2be-a00726084bdb"
      },
      "execution_count": 7,
      "outputs": [
        {
          "output_type": "stream",
          "name": "stderr",
          "text": [
            "/usr/local/lib/python3.10/dist-packages/keras/src/engine/training.py:3103: UserWarning: You are saving your model as an HDF5 file via `model.save()`. This file format is considered legacy. We recommend using instead the native Keras format, e.g. `model.save('my_model.keras')`.\n",
            "  saving_api.save_model(\n"
          ]
        },
        {
          "output_type": "stream",
          "name": "stdout",
          "text": [
            "Model saved successfully at: Train-1.ipynb.h5\n"
          ]
        }
      ]
    },
    {
      "cell_type": "code",
      "source": [
        "plt.plot(history.history['accuracy'], label='accuracy')\n",
        "plt.plot(history.history['val_accuracy'], label = 'val_accuracy')\n",
        "plt.xlabel('Epoch')\n",
        "plt.ylabel('Accuracy')\n",
        "plt.ylim([0, 1])\n",
        "plt.legend(loc='lower right')\n",
        "plt.show()\n"
      ],
      "metadata": {
        "colab": {
          "base_uri": "https://localhost:8080/",
          "height": 455
        },
        "id": "3bJvDFDfREUW",
        "outputId": "a74c6280-8f09-4762-9183-82e911a14cf8"
      },
      "execution_count": 8,
      "outputs": [
        {
          "output_type": "display_data",
          "data": {
            "text/plain": [
              "<Figure size 640x480 with 1 Axes>"
            ],
            "image/png": "[encoded data removed]"
          },
          "metadata": {}
        }
      ]
    },
    {
      "cell_type": "markdown",
      "source": [
        "Comments:\n",
        "\n",
        "The training accuracy reaching and staying at 1 (100%) indicates that the model is able to perfectly predict the training data.The fact that validation accuracy is lower than training accuracy is expected, as the model may not perform as well on unseen data as it does on the data it was trained on.The fluctuation of validation accuracy between 0.6 and 0.8 suggests that the model's performance on unseen validation data is inconsistent. This could be due to the model's inability to generalize well to new data, which is a common symptom of overfitting."
      ],
      "metadata": {
        "id": "LMvnpQc6nMBe"
      }
    },
    {
      "cell_type": "code",
      "source": [],
      "metadata": {
        "id": "kDRrkadQ270L"
      },
      "execution_count": null,
      "outputs": []
    }
  ]
}