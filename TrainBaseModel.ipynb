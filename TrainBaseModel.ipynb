{
  "nbformat": 4,
  "nbformat_minor": 0,
  "metadata": {
    "colab": {
      "provenance": []
    },
    "kernelspec": {
      "name": "python3",
      "display_name": "Python 3"
    },
    "language_info": {
      "name": "python"
    }
  },
  "cells": [
    {
      "cell_type": "markdown",
      "source": [
        "Create a new notebook to train a baseline model (TrainBaseModel.ipynb)\n",
        "Implement and train a transfer learning model, selecting a model from Keras Built-in Vision Models\n",
        "Make sure you look make the learning curves.\n",
        "Save the model using model.save() (see Keras Model Saving\n",
        "Create a new notebook to see effect of data augmentation a baseline model (TrainBaseModelAugmentation.ipynb):\n",
        "Add data augmentation.\n",
        "Select at least 3 augmentations that make sense for your datasets (see Keras Image Augmentation Layers).\n",
        "Visualize the data augmentation to make sure it's working as expected.\n",
        "Train the same model now with data augmentation.\n",
        "Save the new model.\n",
        "Test if data augmentation is helping:\n",
        "Create a new notebook (CompareAugmentation.ipynb)\n",
        "Load the 2 models and compare the ROC curves with and without augmentation.\n",
        "Train the three different transfer learning models (Train-XXXX.ipynb):\n",
        "Select 2 additional models from Keras Built-in Vision Models.\n",
        "Create a new notebook for the each model.\n",
        "Implement and train the model.\n",
        "Make sure you look make the learning curves.\n",
        "Save the model using model.save (see Keras Model Saving\n",
        "Copy the notebook and try a different base model.\n",
        "Compare the three models:\n",
        "Create a new notebook (CompareModels.ipynb)\n",
        "Load the 3 models.\n",
        "Make a plot comparing the 3 ROC curves of the 3 models on the validation dataset."
      ],
      "metadata": {
        "id": "QSTN28IOP8Kw"
      }
    },
    {
      "cell_type": "markdown",
      "source": [],
      "metadata": {
        "id": "SZjEq8mTP4mk"
      }
    },
    {
      "cell_type": "code",
      "source": [
        "from google.colab import drive\n",
        "drive.mount('/content/drive')"
      ],
      "metadata": {
        "colab": {
          "base_uri": "https://localhost:8080/"
        },
        "id": "M_H8tsejQCuE",
        "outputId": "342f2ded-2c95-44ce-c3e3-44b63cd08ded"
      },
      "execution_count": 1,
      "outputs": [
        {
          "output_type": "stream",
          "name": "stdout",
          "text": [
            "Mounted at /content/drive\n"
          ]
        }
      ]
    },
    {
      "cell_type": "code",
      "source": [
        "archive_path = '/content/drive/MyDrive/archive'"
      ],
      "metadata": {
        "id": "b8SPD96KQNAm"
      },
      "execution_count": 2,
      "outputs": []
    },
    {
      "cell_type": "code",
      "source": [
        "# Model Chosen: MobileNet\n",
        "# TrainBaseModel.ipynb\n",
        "\n",
        "# Import necessary libraries\n",
        "import numpy as np\n",
        "import matplotlib.pyplot as plt\n",
        "import tensorflow as tf\n",
        "from tensorflow.keras.preprocessing.image import ImageDataGenerator\n",
        "from tensorflow.keras.applications import MobileNet  # MobileNet model\n",
        "from tensorflow.keras.layers import GlobalAveragePooling2D, Dense\n",
        "from tensorflow.keras.models import Model"
      ],
      "metadata": {
        "id": "KXbvX6JZYDVC"
      },
      "execution_count": 32,
      "outputs": []
    },
    {
      "cell_type": "code",
      "source": [
        "import os\n",
        "\n",
        "# Define the path to your dataset directory\n",
        "dataset_dir = '/content/drive/MyDrive/archive/Train_Test_Valid/Train'  # Update with the path to your dataset\n",
        "\n",
        "# Get the list of subdirectories (classes) in the dataset directory\n",
        "classes = os.listdir(dataset_dir)\n",
        "\n",
        "# Print the number of classes and the list of classes\n",
        "num_classes = len(classes)\n",
        "print(f\"Number of classes: {num_classes}\")\n",
        "print(\"Classes:\")\n",
        "for class_name in classes:\n",
        "    print(class_name)\n"
      ],
      "metadata": {
        "colab": {
          "base_uri": "https://localhost:8080/"
        },
        "id": "tcr-JXoWA21I",
        "outputId": "4fcca8a9-b197-46cd-a476-0cf6f8e3c52a"
      },
      "execution_count": 33,
      "outputs": [
        {
          "output_type": "stream",
          "name": "stdout",
          "text": [
            "Number of classes: 6\n",
            "Classes:\n",
            "blue_jellyfish\n",
            "barrel_jellyfish\n",
            "mauve_stinger_jellyfish\n",
            "lions_mane_jellyfish\n",
            "Moon_jellyfish\n",
            "compass_jellyfish\n"
          ]
        }
      ]
    },
    {
      "cell_type": "code",
      "source": [
        "# Import necessary libraries\n",
        "import numpy as np\n",
        "import matplotlib.pyplot as plt\n",
        "import tensorflow as tf\n",
        "from tensorflow.keras.preprocessing.image import ImageDataGenerator\n",
        "from tensorflow.keras.applications import MobileNet  # MobileNet model\n",
        "from tensorflow.keras.layers import GlobalAveragePooling2D, Dense\n",
        "from tensorflow.keras.models import Model\n",
        "import os  # Import os module for file operations\n"
      ],
      "metadata": {
        "id": "cacYNF4gB0Gg"
      },
      "execution_count": 41,
      "outputs": []
    },
    {
      "cell_type": "code",
      "source": [
        "# Set random seed for reproducibility\n",
        "np.random.seed(42)\n",
        "tf.random.set_seed(42)\n",
        "\n",
        "# Define constants\n",
        "IMAGE_SIZE = (224, 224)\n",
        "BATCH_SIZE = 32\n",
        "EPOCHS = 20\n",
        "NUM_CLASSES = 6  # Update this to match the actual number of classes in your dataset\n"
      ],
      "metadata": {
        "id": "Z5R8tUfmCBfw"
      },
      "execution_count": 42,
      "outputs": []
    },
    {
      "cell_type": "code",
      "source": [
        "# Define paths to your dataset\n",
        "archive_path = '/content/drive/MyDrive/archive'\n",
        "train_dir = '/content/drive/MyDrive/archive/Train_Test_Valid/Train'\n",
        "validation_dir = '/content/drive/MyDrive/archive/Train_Test_Valid/valid'\n",
        "test_dir = '/content/drive/MyDrive/archive/Train_Test_Valid/test'"
      ],
      "metadata": {
        "id": "QS_2_dzlCF-z"
      },
      "execution_count": 46,
      "outputs": []
    },
    {
      "cell_type": "code",
      "source": [
        "# Data preprocessing and augmentation\n",
        "train_datagen = ImageDataGenerator(\n",
        "    rescale=1./255,\n",
        "    rotation_range=20,\n",
        "    width_shift_range=0.2,\n",
        "    height_shift_range=0.2,\n",
        "    shear_range=0.2,\n",
        "    zoom_range=0.2,\n",
        "    horizontal_flip=True,\n",
        "    fill_mode='nearest'\n",
        ")"
      ],
      "metadata": {
        "id": "LmKWqvlRCJX-"
      },
      "execution_count": 47,
      "outputs": []
    },
    {
      "cell_type": "code",
      "source": [
        "validation_datagen = ImageDataGenerator(rescale=1./255)"
      ],
      "metadata": {
        "id": "pRZda6JzCL4J"
      },
      "execution_count": 48,
      "outputs": []
    },
    {
      "cell_type": "code",
      "source": [
        "train_generator = train_datagen.flow_from_directory(\n",
        "    train_dir,\n",
        "    target_size=IMAGE_SIZE,\n",
        "    batch_size=BATCH_SIZE,\n",
        "    class_mode='categorical'\n",
        ")\n",
        "\n",
        "validation_generator = validation_datagen.flow_from_directory(\n",
        "    validation_dir,\n",
        "    target_size=IMAGE_SIZE,\n",
        "    batch_size=BATCH_SIZE,\n",
        "    class_mode='categorical'\n",
        ")"
      ],
      "metadata": {
        "colab": {
          "base_uri": "https://localhost:8080/"
        },
        "id": "h5KV8EjSCPmW",
        "outputId": "67155155-aa7a-4605-d98a-cffc320a0c58"
      },
      "execution_count": 49,
      "outputs": [
        {
          "output_type": "stream",
          "name": "stdout",
          "text": [
            "Found 900 images belonging to 6 classes.\n",
            "Found 39 images belonging to 6 classes.\n"
          ]
        }
      ]
    },
    {
      "cell_type": "code",
      "source": [
        "validation_generator = validation_datagen.flow_from_directory(\n",
        "    validation_dir,\n",
        "    target_size=IMAGE_SIZE,\n",
        "    batch_size=BATCH_SIZE,\n",
        "    class_mode='categorical'\n",
        ")\n"
      ],
      "metadata": {
        "colab": {
          "base_uri": "https://localhost:8080/"
        },
        "id": "4edLYSbIEHEk",
        "outputId": "56f2fe1b-1092-49e7-9b1b-dcd834b1b8df"
      },
      "execution_count": 50,
      "outputs": [
        {
          "output_type": "stream",
          "name": "stdout",
          "text": [
            "Found 39 images belonging to 6 classes.\n"
          ]
        }
      ]
    },
    {
      "cell_type": "code",
      "source": [
        "# Load pre-trained MobileNet model\n",
        "base_model = MobileNet(weights='imagenet', include_top=False, input_shape=(IMAGE_SIZE[0], IMAGE_SIZE[1], 3))\n",
        "\n",
        "# Freeze the pre-trained layers\n",
        "for layer in base_model.layers:\n",
        "    layer.trainable = False\n",
        "\n",
        "# Add custom classification layers\n",
        "x = base_model.output\n",
        "x = GlobalAveragePooling2D()(x)\n",
        "x = Dense(512, activation='relu')(x)\n",
        "predictions = Dense(NUM_CLASSES, activation='softmax')(x)\n"
      ],
      "metadata": {
        "id": "g4_bl0yKEMDV"
      },
      "execution_count": 51,
      "outputs": []
    },
    {
      "cell_type": "code",
      "source": [
        "# Create the final model\n",
        "model = Model(inputs=base_model.input, outputs=predictions)\n",
        "\n",
        "# Compile the model\n",
        "model.compile(optimizer='adam',\n",
        "              loss='categorical_crossentropy',\n",
        "              metrics=['accuracy'])\n",
        "\n",
        "# Train the model\n",
        "history = model.fit(\n",
        "    train_generator,\n",
        "    epochs=EPOCHS,\n",
        "    validation_data=validation_generator\n",
        ")\n"
      ],
      "metadata": {
        "colab": {
          "base_uri": "https://localhost:8080/"
        },
        "id": "atai9rpuEQKj",
        "outputId": "f55a24eb-1146-4414-e90f-08378e340261"
      },
      "execution_count": 52,
      "outputs": [
        {
          "output_type": "stream",
          "name": "stdout",
          "text": [
            "Epoch 1/20\n",
            "29/29 [==============================] - 151s 5s/step - loss: 1.0633 - accuracy: 0.6244 - val_loss: 0.8241 - val_accuracy: 0.7436\n",
            "Epoch 2/20\n",
            "29/29 [==============================] - 60s 2s/step - loss: 0.3200 - accuracy: 0.8756 - val_loss: 0.9437 - val_accuracy: 0.7179\n",
            "Epoch 3/20\n",
            "29/29 [==============================] - 57s 2s/step - loss: 0.1655 - accuracy: 0.9544 - val_loss: 0.9729 - val_accuracy: 0.7179\n",
            "Epoch 4/20\n",
            "29/29 [==============================] - 53s 2s/step - loss: 0.1254 - accuracy: 0.9633 - val_loss: 1.1124 - val_accuracy: 0.6923\n",
            "Epoch 5/20\n",
            "29/29 [==============================] - 54s 2s/step - loss: 0.0833 - accuracy: 0.9800 - val_loss: 1.0510 - val_accuracy: 0.6923\n",
            "Epoch 6/20\n",
            "29/29 [==============================] - 52s 2s/step - loss: 0.0904 - accuracy: 0.9756 - val_loss: 1.2080 - val_accuracy: 0.7692\n",
            "Epoch 7/20\n",
            "29/29 [==============================] - 55s 2s/step - loss: 0.0697 - accuracy: 0.9778 - val_loss: 1.0447 - val_accuracy: 0.7179\n",
            "Epoch 8/20\n",
            "29/29 [==============================] - 53s 2s/step - loss: 0.0435 - accuracy: 0.9944 - val_loss: 1.1157 - val_accuracy: 0.6923\n",
            "Epoch 9/20\n",
            "29/29 [==============================] - 54s 2s/step - loss: 0.0220 - accuracy: 0.9989 - val_loss: 1.1049 - val_accuracy: 0.7436\n",
            "Epoch 10/20\n",
            "29/29 [==============================] - 55s 2s/step - loss: 0.0285 - accuracy: 0.9911 - val_loss: 1.1921 - val_accuracy: 0.6923\n",
            "Epoch 11/20\n",
            "29/29 [==============================] - 53s 2s/step - loss: 0.0375 - accuracy: 0.9900 - val_loss: 1.1897 - val_accuracy: 0.6667\n",
            "Epoch 12/20\n",
            "29/29 [==============================] - 57s 2s/step - loss: 0.0191 - accuracy: 0.9989 - val_loss: 1.3279 - val_accuracy: 0.6410\n",
            "Epoch 13/20\n",
            "29/29 [==============================] - 54s 2s/step - loss: 0.0152 - accuracy: 0.9978 - val_loss: 1.3435 - val_accuracy: 0.7179\n",
            "Epoch 14/20\n",
            "29/29 [==============================] - 54s 2s/step - loss: 0.0194 - accuracy: 0.9944 - val_loss: 1.2484 - val_accuracy: 0.6667\n",
            "Epoch 15/20\n",
            "29/29 [==============================] - 52s 2s/step - loss: 0.0450 - accuracy: 0.9811 - val_loss: 1.3936 - val_accuracy: 0.6410\n",
            "Epoch 16/20\n",
            "29/29 [==============================] - 55s 2s/step - loss: 0.0512 - accuracy: 0.9878 - val_loss: 1.1314 - val_accuracy: 0.7436\n",
            "Epoch 17/20\n",
            "29/29 [==============================] - 51s 2s/step - loss: 0.0359 - accuracy: 0.9900 - val_loss: 1.3130 - val_accuracy: 0.7436\n",
            "Epoch 18/20\n",
            "29/29 [==============================] - 56s 2s/step - loss: 0.0113 - accuracy: 0.9978 - val_loss: 1.2130 - val_accuracy: 0.7436\n",
            "Epoch 19/20\n",
            "29/29 [==============================] - 56s 2s/step - loss: 0.0170 - accuracy: 0.9944 - val_loss: 1.1698 - val_accuracy: 0.7436\n",
            "Epoch 20/20\n",
            "29/29 [==============================] - 52s 2s/step - loss: 0.0233 - accuracy: 0.9944 - val_loss: 1.2737 - val_accuracy: 0.7179\n"
          ]
        }
      ]
    },
    {
      "cell_type": "code",
      "source": [
        "# Plot learning curves\n",
        "plt.plot(history.history['accuracy'], label='accuracy')\n",
        "plt.plot(history.history['val_accuracy'], label='val_accuracy')\n",
        "plt.xlabel('Epoch')\n",
        "plt.ylabel('Accuracy')\n",
        "plt.legend()\n",
        "plt.show()\n"
      ],
      "metadata": {
        "colab": {
          "base_uri": "https://localhost:8080/",
          "height": 449
        },
        "id": "SQqo7rkIWJed",
        "outputId": "56003008-f9fd-456a-80aa-1f8fa6478240"
      },
      "execution_count": 53,
      "outputs": [
        {
          "output_type": "display_data",
          "data": {
            "text/plain": [
              "<Figure size 640x480 with 1 Axes>"
            ],
            "image/png": "[encoded data removed]"
          },
          "metadata": {}
        }
      ]
    },
    {
      "cell_type": "code",
      "source": [
        "# Save the model\n",
        "model.save('jellyfish_classifier_mobilenet.h5')"
      ],
      "metadata": {
        "colab": {
          "base_uri": "https://localhost:8080/"
        },
        "id": "kxqqdHXUWRT3",
        "outputId": "a3fcc7e4-cd15-48a5-ecec-d0aa6ba45b39"
      },
      "execution_count": 54,
      "outputs": [
        {
          "output_type": "stream",
          "name": "stderr",
          "text": [
            "/usr/local/lib/python3.10/dist-packages/keras/src/engine/training.py:3103: UserWarning: You are saving your model as an HDF5 file via `model.save()`. This file format is considered legacy. We recommend using instead the native Keras format, e.g. `model.save('my_model.keras')`.\n",
            "  saving_api.save_model(\n"
          ]
        }
      ]
    }
  ]
}