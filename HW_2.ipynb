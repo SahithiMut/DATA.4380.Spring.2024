{
  "nbformat": 4,
  "nbformat_minor": 0,
  "metadata": {
    "colab": {
      "provenance": []
    },
    "kernelspec": {
      "name": "python3",
      "display_name": "Python 3"
    },
    "language_info": {
      "name": "python"
    }
  },
  "cells": [
    {
      "cell_type": "code",
      "execution_count": 1,
      "metadata": {
        "colab": {
          "base_uri": "https://localhost:8080/"
        },
        "id": "ppzahhfxDv2d",
        "outputId": "8ef0d9b1-6c25-44bb-869d-65a4b2c08be1"
      },
      "outputs": [
        {
          "output_type": "stream",
          "name": "stdout",
          "text": [
            "Mounted at /content/drive\n"
          ]
        }
      ],
      "source": [
        "# It imports the Pandas library as \"pd\" alias and reads a CSV file located at '/content/drive/My Drive/stock_prices.csv' into a DataFrame named \"stock_prices_df\".\n",
        "from google.colab import drive\n",
        "drive.mount('/content/drive')"
      ]
    },
    {
      "cell_type": "code",
      "source": [
        "import pandas as pd\n",
        "\n",
        "# Define the file path in my Google Drive\n",
        "file_path = '/content/drive/My Drive/stock_prices.csv'\n",
        "\n",
        "# Read the CSV file into a DataFrame\n",
        "stock_prices_df = pd.read_csv(file_path)"
      ],
      "metadata": {
        "id": "h4-bggWWEM52"
      },
      "execution_count": 2,
      "outputs": []
    },
    {
      "cell_type": "code",
      "source": [
        "# Access the \"Close\" column of the DataFrame\n",
        "close_values = stock_prices_df['Close']\n",
        "\n",
        "# Print the first few values of the \"Close\" column\n",
        "print(close_values.head())\n",
        "\n",
        "\n",
        "print(close_values.describe())"
      ],
      "metadata": {
        "colab": {
          "base_uri": "https://localhost:8080/"
        },
        "id": "68zWtBU4ECWd",
        "outputId": "42f67741-9f50-4bb8-eed8-8d9bf82895f8"
      },
      "execution_count": 3,
      "outputs": [
        {
          "output_type": "stream",
          "name": "stdout",
          "text": [
            "0    2742.0\n",
            "1     571.0\n",
            "2    3210.0\n",
            "3    1550.0\n",
            "4    3330.0\n",
            "Name: Close, dtype: float64\n",
            "count    2.324923e+06\n",
            "mean     2.594023e+03\n",
            "std      3.576538e+03\n",
            "min      1.400000e+01\n",
            "25%      1.022000e+03\n",
            "50%      1.811000e+03\n",
            "75%      3.030000e+03\n",
            "max      1.095500e+05\n",
            "Name: Close, dtype: float64\n"
          ]
        }
      ]
    },
    {
      "cell_type": "code",
      "source": [
        "# Define new class intervals based on quartiles or percentiles of Close prices\n",
        "q1 = stock_prices_df['Close'].quantile(0.25)\n",
        "q2 = stock_prices_df['Close'].quantile(0.50)\n",
        "q3 = stock_prices_df['Close'].quantile(0.75)\n",
        "class_intervals = [(0, q1), (q1, q2), (q2, q3), (q3, stock_prices_df['Close'].max() + 1)]  # Add 1 to include the maximum value\n",
        "\n",
        "# Define function to assign classes based on target value\n",
        "def assign_class(value):\n",
        "    for i, interval in enumerate(class_intervals, start=1):\n",
        "        if interval[0] <= value < interval[1]:  # Adjust the condition to include values in the third quartile\n",
        "            return f'Class {i}'\n",
        "    return 'Outside Range'\n",
        "\n",
        "# Apply function to assign classes to each data point\n",
        "stock_prices_df['Class'] = stock_prices_df['Close'].apply(assign_class)\n",
        "\n",
        "# Display the DataFrame with assigned classes\n",
        "print(stock_prices_df[['RowId', 'Close', 'Class']])\n"
      ],
      "metadata": {
        "colab": {
          "base_uri": "https://localhost:8080/"
        },
        "id": "UQuCQx4qD604",
        "outputId": "83d9985c-27f5-478f-91ae-775e6b500a12"
      },
      "execution_count": 4,
      "outputs": [
        {
          "output_type": "stream",
          "name": "stdout",
          "text": [
            "                 RowId   Close    Class\n",
            "0        20170104_1301  2742.0  Class 3\n",
            "1        20170104_1332   571.0  Class 1\n",
            "2        20170104_1333  3210.0  Class 4\n",
            "3        20170104_1376  1550.0  Class 2\n",
            "4        20170104_1377  3330.0  Class 4\n",
            "...                ...     ...      ...\n",
            "2332526  20211203_9990   528.0  Class 1\n",
            "2332527  20211203_9991   794.0  Class 1\n",
            "2332528  20211203_9993  1645.0  Class 2\n",
            "2332529  20211203_9994  2389.0  Class 3\n",
            "2332530  20211203_9997   696.0  Class 1\n",
            "\n",
            "[2332531 rows x 3 columns]\n"
          ]
        }
      ]
    },
    {
      "cell_type": "code",
      "source": [
        "# Size of the dataset\n",
        "dataset_size = stock_prices_df.shape\n",
        "print(\"Dataset Size:\", dataset_size)\n"
      ],
      "metadata": {
        "colab": {
          "base_uri": "https://localhost:8080/"
        },
        "id": "0P__vcsMD2Wo",
        "outputId": "7906f027-0876-42dd-d343-af2206864614"
      },
      "execution_count": 5,
      "outputs": [
        {
          "output_type": "stream",
          "name": "stdout",
          "text": [
            "Dataset Size: (2332531, 13)\n"
          ]
        }
      ]
    },
    {
      "cell_type": "code",
      "source": [
        "import pandas as pd\n",
        "\n",
        "# To make my life easier so I don't have to type out a longer variable name\n",
        "df = stock_prices_df\n"
      ],
      "metadata": {
        "id": "nhV1eAFtNfGG"
      },
      "execution_count": 6,
      "outputs": []
    },
    {
      "cell_type": "code",
      "source": [
        "import pandas as pd\n",
        "\n",
        "# Convert 'Date' column to datetime format\n",
        "df['Date'] = pd.to_datetime(df['Date'])\n"
      ],
      "metadata": {
        "id": "srrAMrLnNpGj"
      },
      "execution_count": 7,
      "outputs": []
    },
    {
      "cell_type": "code",
      "source": [
        "\n",
        "# Check for duplicate records\n",
        "duplicates = df.duplicated().sum()\n",
        "print(\"Number of Duplicate Records:\", duplicates)"
      ],
      "metadata": {
        "colab": {
          "base_uri": "https://localhost:8080/"
        },
        "id": "YlBv1kmJNtQq",
        "outputId": "125395ca-3df0-4c6b-953c-248ea121ef04"
      },
      "execution_count": 9,
      "outputs": [
        {
          "output_type": "stream",
          "name": "stdout",
          "text": [
            "Number of Duplicate Records: 0\n"
          ]
        }
      ]
    },
    {
      "cell_type": "code",
      "source": [
        "# Check for format inconsistencies in RowId\n",
        "row_id_format_inconsistencies = df[~df['RowId'].str.match(r'\\d{8}_\\d{4}$')]\n",
        "print(\"Format Inconsistencies in RowId:\")\n",
        "print(row_id_format_inconsistencies)\n",
        "\n",
        "# Check for format inconsistencies in SecuritiesCode\n",
        "securities_code_format_inconsistencies = df[~df['SecuritiesCode'].astype(str).str.isdigit()]\n",
        "print(\"\\nFormat Inconsistencies in SecuritiesCode:\")\n",
        "print(securities_code_format_inconsistencies)\n",
        "\n",
        "# Check for unexpected values in Open, High, Low, Close\n",
        "price_columns = ['Open', 'High', 'Low', 'Close']\n",
        "price_format_inconsistencies = df[~df[price_columns].applymap(lambda x: isinstance(x, (int, float)))].dropna()\n",
        "print(\"\\nFormat Inconsistencies in Price Columns:\")\n",
        "print(price_format_inconsistencies)\n",
        "\n",
        "# Check for format inconsistencies in Volume\n",
        "volume_format_inconsistencies = df[~df['Volume'].astype(str).str.isdigit()]\n",
        "print(\"\\nFormat Inconsistencies in Volume:\")\n",
        "print(volume_format_inconsistencies)\n",
        "\n",
        "# Check for unexpected values in AdjustmentFactor\n",
        "adjustment_factor_format_inconsistencies = df[~df['AdjustmentFactor'].apply(lambda x: isinstance(x, (int, float)))]\n",
        "print(\"\\nFormat Inconsistencies in AdjustmentFactor:\")\n",
        "print(adjustment_factor_format_inconsistencies)\n",
        "\n",
        "\n",
        "\n",
        "# Check for unexpected values in Target\n",
        "Target_inconsistencies = df[~df['Target'].isnull()]\n",
        "print(\"\\nFormat Inconsistencies in Target:\")\n",
        "print(Target_inconsistencies)\n",
        "\n"
      ],
      "metadata": {
        "colab": {
          "base_uri": "https://localhost:8080/"
        },
        "id": "1ik27onHNwCd",
        "outputId": "ddf7ef14-d982-439c-b7b3-933db82aab9b"
      },
      "execution_count": 9,
      "outputs": [
        {
          "output_type": "stream",
          "name": "stdout",
          "text": [
            "Format Inconsistencies in RowId:\n",
            "Empty DataFrame\n",
            "Columns: [RowId, Date, SecuritiesCode, Open, High, Low, Close, Volume, AdjustmentFactor, ExpectedDividend, SupervisionFlag, Target, Class]\n",
            "Index: []\n",
            "\n",
            "Format Inconsistencies in SecuritiesCode:\n",
            "Empty DataFrame\n",
            "Columns: [RowId, Date, SecuritiesCode, Open, High, Low, Close, Volume, AdjustmentFactor, ExpectedDividend, SupervisionFlag, Target, Class]\n",
            "Index: []\n",
            "\n",
            "Format Inconsistencies in Price Columns:\n",
            "Empty DataFrame\n",
            "Columns: [RowId, Date, SecuritiesCode, Open, High, Low, Close, Volume, AdjustmentFactor, ExpectedDividend, SupervisionFlag, Target, Class]\n",
            "Index: []\n",
            "\n",
            "Format Inconsistencies in Volume:\n",
            "Empty DataFrame\n",
            "Columns: [RowId, Date, SecuritiesCode, Open, High, Low, Close, Volume, AdjustmentFactor, ExpectedDividend, SupervisionFlag, Target, Class]\n",
            "Index: []\n",
            "\n",
            "Format Inconsistencies in AdjustmentFactor:\n",
            "Empty DataFrame\n",
            "Columns: [RowId, Date, SecuritiesCode, Open, High, Low, Close, Volume, AdjustmentFactor, ExpectedDividend, SupervisionFlag, Target, Class]\n",
            "Index: []\n",
            "\n",
            "Format Inconsistencies in Target:\n",
            "                 RowId       Date  SecuritiesCode    Open    High     Low  \\\n",
            "0        20170104_1301 2017-01-04            1301  2734.0  2755.0  2730.0   \n",
            "1        20170104_1332 2017-01-04            1332   568.0   576.0   563.0   \n",
            "2        20170104_1333 2017-01-04            1333  3150.0  3210.0  3140.0   \n",
            "3        20170104_1376 2017-01-04            1376  1510.0  1550.0  1510.0   \n",
            "4        20170104_1377 2017-01-04            1377  3270.0  3350.0  3270.0   \n",
            "...                ...        ...             ...     ...     ...     ...   \n",
            "2332526  20211203_9990 2021-12-03            9990   514.0   528.0   513.0   \n",
            "2332527  20211203_9991 2021-12-03            9991   782.0   794.0   782.0   \n",
            "2332528  20211203_9993 2021-12-03            9993  1690.0  1690.0  1645.0   \n",
            "2332529  20211203_9994 2021-12-03            9994  2388.0  2396.0  2380.0   \n",
            "2332530  20211203_9997 2021-12-03            9997   690.0   711.0   686.0   \n",
            "\n",
            "          Close   Volume  AdjustmentFactor  ExpectedDividend  SupervisionFlag  \\\n",
            "0        2742.0    31400               1.0               NaN            False   \n",
            "1         571.0  2798500               1.0               NaN            False   \n",
            "2        3210.0   270800               1.0               NaN            False   \n",
            "3        1550.0    11300               1.0               NaN            False   \n",
            "4        3330.0   150800               1.0               NaN            False   \n",
            "...         ...      ...               ...               ...              ...   \n",
            "2332526   528.0    44200               1.0               NaN            False   \n",
            "2332527   794.0    35900               1.0               NaN            False   \n",
            "2332528  1645.0     7200               1.0               NaN            False   \n",
            "2332529  2389.0     6500               1.0               NaN            False   \n",
            "2332530   696.0   381100               1.0               NaN            False   \n",
            "\n",
            "           Target    Class  \n",
            "0        0.000730  Class 3  \n",
            "1        0.012324  Class 1  \n",
            "2        0.006154  Class 4  \n",
            "3        0.011053  Class 2  \n",
            "4        0.003026  Class 4  \n",
            "...           ...      ...  \n",
            "2332526  0.034816  Class 1  \n",
            "2332527  0.025478  Class 1  \n",
            "2332528 -0.004302  Class 2  \n",
            "2332529  0.009098  Class 3  \n",
            "2332530  0.018414  Class 1  \n",
            "\n",
            "[2332293 rows x 13 columns]\n"
          ]
        }
      ]
    },
    {
      "cell_type": "code",
      "source": [
        "\n",
        "# Missing Data\n",
        "missing_data = df.isnull().sum()\n",
        "print(\"Missing Data:\\n\", missing_data)"
      ],
      "metadata": {
        "colab": {
          "base_uri": "https://localhost:8080/"
        },
        "id": "q_MeEVzFOUc3",
        "outputId": "62f69ed3-a1dd-483e-afc1-d2b993936e2d"
      },
      "execution_count": 10,
      "outputs": [
        {
          "output_type": "stream",
          "name": "stdout",
          "text": [
            "Missing Data:\n",
            " RowId                     0\n",
            "Date                      0\n",
            "SecuritiesCode            0\n",
            "Open                   7608\n",
            "High                   7608\n",
            "Low                    7608\n",
            "Close                  7608\n",
            "Volume                    0\n",
            "AdjustmentFactor          0\n",
            "ExpectedDividend    2313666\n",
            "SupervisionFlag           0\n",
            "Target                  238\n",
            "Class                     0\n",
            "dtype: int64\n"
          ]
        }
      ]
    },
    {
      "cell_type": "code",
      "source": [
        "df.drop(columns=['ExpectedDividend'], inplace=True)"
      ],
      "metadata": {
        "id": "7oF4J26DObJW"
      },
      "execution_count": 8,
      "outputs": []
    },
    {
      "cell_type": "code",
      "source": [
        "# Calculate median for each column\n",
        "median_open = df['Open'].median()\n",
        "median_high = df['High'].median()\n",
        "median_low = df['Low'].median()\n",
        "median_close = df['Close'].median()\n",
        "median_Target = df['Target'].median()\n",
        "\n",
        "\n",
        "# Fill missing values with median\n",
        "df['Open'].fillna(median_open, inplace=True)\n",
        "df['High'].fillna(median_high, inplace=True)\n",
        "df['Low'].fillna(median_low, inplace=True)\n",
        "df['Close'].fillna(median_close, inplace=True)\n",
        "df['Target'].fillna(median_Target, inplace=True)\n"
      ],
      "metadata": {
        "id": "5rQo9N7LPub-"
      },
      "execution_count": 9,
      "outputs": []
    },
    {
      "cell_type": "code",
      "source": [
        "# Recheck missingness\n",
        "print(\"Missing Data After Imputation:\\n\", df.isnull().sum())"
      ],
      "metadata": {
        "colab": {
          "base_uri": "https://localhost:8080/"
        },
        "id": "KRd0nbfmQDDg",
        "outputId": "b5efc4bc-2a7e-4db7-ba04-30e657ea4040"
      },
      "execution_count": 49,
      "outputs": [
        {
          "output_type": "stream",
          "name": "stdout",
          "text": [
            "Missing Data After Imputation:\n",
            " RowId               0\n",
            "Date                0\n",
            "SecuritiesCode      0\n",
            "Open                0\n",
            "High                0\n",
            "Low                 0\n",
            "Close               0\n",
            "Volume              0\n",
            "AdjustmentFactor    0\n",
            "SupervisionFlag     0\n",
            "Target              0\n",
            "Class               0\n",
            "dtype: int64\n"
          ]
        }
      ]
    },
    {
      "cell_type": "code",
      "source": [
        "# Define a function to detect outliers based on the IQR method\n",
        "def detect_outliers(column):\n",
        "    Q1 = column.quantile(0.25)\n",
        "    Q3 = column.quantile(0.75)\n",
        "    IQR = Q3 - Q1\n",
        "    lower_bound = Q1 - 1.5 * IQR\n",
        "    upper_bound = Q3 + 1.5 * IQR\n",
        "    return (column < lower_bound) | (column > upper_bound)\n",
        "\n",
        "# Apply outlier detection\n",
        "outliers_open = detect_outliers(df['Open']).sum()\n",
        "outliers_high = detect_outliers(df['High']).sum()\n",
        "outliers_low = detect_outliers(df['Low']).sum()\n",
        "outliers_close = detect_outliers(df['Close']).sum()\n",
        "outliers_volume = detect_outliers(df['Volume']).sum()\n",
        "outliers_adjustment_factor = detect_outliers(df['AdjustmentFactor']).sum()\n",
        "\n",
        "\n",
        "outliers_summary = {\n",
        "    'Open Outliers': outliers_open,\n",
        "    'High Outliers': outliers_high,\n",
        "    'Low Outliers': outliers_low,\n",
        "    'Close Outliers': outliers_close,\n",
        "    'Volume Outliers': outliers_volume,\n",
        "    'AdjustmentFactor Outliers': outliers_adjustment_factor\n",
        "\n",
        "}\n",
        "\n",
        "outliers_summary"
      ],
      "metadata": {
        "colab": {
          "base_uri": "https://localhost:8080/"
        },
        "id": "MtXu_cpsQGvO",
        "outputId": "b2ff5cae-3712-4ebf-c1a5-b8ff43dccf2c"
      },
      "execution_count": 10,
      "outputs": [
        {
          "output_type": "execute_result",
          "data": {
            "text/plain": [
              "{'Open Outliers': 145183,\n",
              " 'High Outliers': 145803,\n",
              " 'Low Outliers': 144944,\n",
              " 'Close Outliers': 145371,\n",
              " 'Volume Outliers': 308239,\n",
              " 'AdjustmentFactor Outliers': 730}"
            ]
          },
          "metadata": {},
          "execution_count": 10
        }
      ]
    },
    {
      "cell_type": "code",
      "source": [
        "import pandas as pd\n",
        "\n",
        "\n",
        "\n",
        "# Summary statistics for the 'Volume' column\n",
        "volume_stats = df['Volume'].describe()\n",
        "\n",
        "# Summary statistics for the 'AdjustmentFactor' column\n",
        "adjustment_factor_stats = df['AdjustmentFactor'].describe()\n",
        "\n",
        "# Display summary statistics\n",
        "print(\"Summary Statistics for Volume Column:\")\n",
        "print(volume_stats)\n",
        "print(\"\\nSummary Statistics for AdjustmentFactor Column:\")\n",
        "print(adjustment_factor_stats)\n",
        "\n",
        "# Skewness and kurtosis for both columns\n",
        "volume_skewness = df['Volume'].skew()\n",
        "volume_kurtosis = df['Volume'].kurtosis()\n",
        "\n",
        "adjustment_factor_skewness = df['AdjustmentFactor'].skew()\n",
        "adjustment_factor_kurtosis = df['AdjustmentFactor'].kurtosis()\n",
        "\n",
        "print(\"\\nSkewness for Volume Column:\", volume_skewness)\n",
        "print(\"Kurtosis for Volume Column:\", volume_kurtosis)\n",
        "\n",
        "print(\"\\nSkewness for AdjustmentFactor Column:\", adjustment_factor_skewness)\n",
        "print(\"Kurtosis for AdjustmentFactor Column:\", adjustment_factor_kurtosis)\n"
      ],
      "metadata": {
        "colab": {
          "base_uri": "https://localhost:8080/"
        },
        "id": "80qLoT3OQMxV",
        "outputId": "4f9fde2b-77f6-4ab7-d673-319218d07e18"
      },
      "execution_count": 11,
      "outputs": [
        {
          "output_type": "stream",
          "name": "stdout",
          "text": [
            "Summary Statistics for Volume Column:\n",
            "count    2.332531e+06\n",
            "mean     6.919366e+05\n",
            "std      3.911256e+06\n",
            "min      0.000000e+00\n",
            "25%      3.030000e+04\n",
            "50%      1.071000e+05\n",
            "75%      4.021000e+05\n",
            "max      6.436540e+08\n",
            "Name: Volume, dtype: float64\n",
            "\n",
            "Summary Statistics for AdjustmentFactor Column:\n",
            "count    2.332531e+06\n",
            "mean     1.000508e+00\n",
            "std      6.773040e-02\n",
            "min      1.000000e-01\n",
            "25%      1.000000e+00\n",
            "50%      1.000000e+00\n",
            "75%      1.000000e+00\n",
            "max      2.000000e+01\n",
            "Name: AdjustmentFactor, dtype: float64\n",
            "\n",
            "Skewness for Volume Column: 36.042606002811546\n",
            "Kurtosis for Volume Column: 2368.1649879155293\n",
            "\n",
            "Skewness for AdjustmentFactor Column: 122.99565467169053\n",
            "Kurtosis for AdjustmentFactor Column: 17008.27380321588\n"
          ]
        }
      ]
    },
    {
      "cell_type": "code",
      "source": [
        "# Removing outliers from volume column\n",
        "\n",
        "#Step 1: Calculate IQR\n",
        "Q1 = df['Volume'].quantile(0.25)\n",
        "Q3 = df['Volume'].quantile(0.75)\n",
        "IQR = Q3 - Q1\n",
        "\n",
        "# Step 2: Define lower and upper bounds\n",
        "lower_bound = Q1 - 1.5 * IQR\n",
        "upper_bound = Q3 + 1.5 * IQR\n",
        "\n",
        "# Step 3: Filter DataFrame to exclude outliers\n",
        "df_filtered = df[(df['Volume'] >= lower_bound) & (df['Volume'] <= upper_bound)]\n",
        "\n",
        "\n"
      ],
      "metadata": {
        "id": "4SjopnYdQPrx"
      },
      "execution_count": 12,
      "outputs": []
    },
    {
      "cell_type": "code",
      "source": [
        "# Summary statistics before outlier removal\n",
        "print(\"Summary Statistics for Volume Column (Before):\")\n",
        "print(df['Volume'].describe())\n",
        "\n",
        "# Summary statistics after outlier removal\n",
        "print(\"\\nSummary Statistics for Volume Column (After):\")\n",
        "print(df_filtered['Volume'].describe())"
      ],
      "metadata": {
        "colab": {
          "base_uri": "https://localhost:8080/"
        },
        "id": "al35JOzHQTwY",
        "outputId": "715ecf9b-9873-4a0e-fe3c-d71dad8aba9e"
      },
      "execution_count": 16,
      "outputs": [
        {
          "output_type": "stream",
          "name": "stdout",
          "text": [
            "Summary Statistics for Volume Column (Before):\n",
            "count    2.332531e+06\n",
            "mean     6.919366e+05\n",
            "std      3.911256e+06\n",
            "min      0.000000e+00\n",
            "25%      3.030000e+04\n",
            "50%      1.071000e+05\n",
            "75%      4.021000e+05\n",
            "max      6.436540e+08\n",
            "Name: Volume, dtype: float64\n",
            "\n",
            "Summary Statistics for Volume Column (After):\n",
            "count    2.024292e+06\n",
            "mean     1.686656e+05\n",
            "std      2.117761e+05\n",
            "min      0.000000e+00\n",
            "25%      2.470000e+04\n",
            "50%      7.830000e+04\n",
            "75%      2.249000e+05\n",
            "max      9.598000e+05\n",
            "Name: Volume, dtype: float64\n"
          ]
        }
      ]
    },
    {
      "cell_type": "code",
      "source": [
        "import numpy as np\n",
        "\n",
        "# Log transformation for Volume column\n",
        "df['Volume_Log'] = np.log(df['Volume'])\n",
        "\n",
        "# Display the first few rows to show all columns including the log-transformed Volume\n",
        "print(df.head())"
      ],
      "metadata": {
        "colab": {
          "base_uri": "https://localhost:8080/"
        },
        "id": "Jz3YPKR5QXLW",
        "outputId": "20589c0a-7db6-4427-e9d9-6185d2adaf88"
      },
      "execution_count": 13,
      "outputs": [
        {
          "output_type": "stream",
          "name": "stdout",
          "text": [
            "           RowId       Date  SecuritiesCode    Open    High     Low   Close  \\\n",
            "0  20170104_1301 2017-01-04            1301  2734.0  2755.0  2730.0  2742.0   \n",
            "1  20170104_1332 2017-01-04            1332   568.0   576.0   563.0   571.0   \n",
            "2  20170104_1333 2017-01-04            1333  3150.0  3210.0  3140.0  3210.0   \n",
            "3  20170104_1376 2017-01-04            1376  1510.0  1550.0  1510.0  1550.0   \n",
            "4  20170104_1377 2017-01-04            1377  3270.0  3350.0  3270.0  3330.0   \n",
            "\n",
            "    Volume  AdjustmentFactor  SupervisionFlag    Target    Class  Volume_Log  \n",
            "0    31400               1.0            False  0.000730  Class 3   10.354563  \n",
            "1  2798500               1.0            False  0.012324  Class 1   14.844594  \n",
            "2   270800               1.0            False  0.006154  Class 4   12.509136  \n",
            "3    11300               1.0            False  0.011053  Class 2    9.332558  \n",
            "4   150800               1.0            False  0.003026  Class 4   11.923710  \n"
          ]
        },
        {
          "output_type": "stream",
          "name": "stderr",
          "text": [
            "/usr/local/lib/python3.10/dist-packages/pandas/core/arraylike.py:396: RuntimeWarning: divide by zero encountered in log\n",
            "  result = getattr(ufunc, method)(*inputs, **kwargs)\n"
          ]
        }
      ]
    },
    {
      "cell_type": "code",
      "source": [
        "# Min-Max Scaling (Normalization)\n",
        "def min_max_scaling(feature):\n",
        "    min_val = feature.min()\n",
        "    max_val = feature.max()\n",
        "    return (feature - min_val) / (max_val - min_val)\n",
        "\n",
        "# Z-score Normalization (Standardization)\n",
        "def z_score_normalization(feature):\n",
        "    mean = feature.mean()\n",
        "    std_dev = feature.std()\n",
        "    return (feature - mean) / std_dev\n",
        "\n",
        "# Apply Min-Max Scaling and Z-score Normalization to the dataset\n",
        "normalized_df = pd.DataFrame()\n",
        "for col in df.columns:\n",
        "    if df[col].dtype in ['int64', 'float64']:\n",
        "        normalized_df[col + '_minmax'] = min_max_scaling(df[col])\n",
        "        normalized_df[col + '_zscore'] = z_score_normalization(df[col])\n",
        "\n",
        "# Display the normalized dataset\n",
        "print(normalized_df.head())"
      ],
      "metadata": {
        "colab": {
          "base_uri": "https://localhost:8080/"
        },
        "id": "5biUg_gVQaEO",
        "outputId": "c4cf0eaa-e1a2-475a-c8c0-7fe0958e697f"
      },
      "execution_count": 14,
      "outputs": [
        {
          "output_type": "stream",
          "name": "stdout",
          "text": [
            "   SecuritiesCode_minmax  SecuritiesCode_zscore  Open_minmax  Open_zscore  \\\n",
            "0               0.000000              -1.910785     0.024742     0.039769   \n",
            "1               0.003565              -1.897891     0.005039    -0.566676   \n",
            "2               0.003680              -1.897475     0.028526     0.156243   \n",
            "3               0.008625              -1.879589     0.013608    -0.302931   \n",
            "4               0.008740              -1.879173     0.029617     0.189841   \n",
            "\n",
            "   High_minmax  High_zscore  Low_minmax  Low_zscore  Close_minmax  \\\n",
            "0     0.024800     0.036263    0.025348    0.048551      0.024905   \n",
            "1     0.005078    -0.566714    0.005131   -0.565678      0.005085   \n",
            "2     0.028918     0.162171    0.029173    0.164764      0.029178   \n",
            "3     0.013893    -0.297187    0.013966   -0.297254      0.014023   \n",
            "4     0.030185     0.200913    0.030386    0.201612      0.030273   \n",
            "\n",
            "   Close_zscore  Volume_minmax  Volume_zscore  AdjustmentFactor_minmax  \\\n",
            "0      0.042154       0.000049      -0.168881                 0.045226   \n",
            "1     -0.565803       0.004348       0.538590                 0.045226   \n",
            "2      0.173210       0.000421      -0.107673                 0.045226   \n",
            "3     -0.291648       0.000018      -0.174020                 0.045226   \n",
            "4      0.206815       0.000234      -0.138354                 0.045226   \n",
            "\n",
            "   AdjustmentFactor_zscore  Target_minmax  Target_zscore  Volume_Log_minmax  \\\n",
            "0                -0.007495       0.341139       0.012198                NaN   \n",
            "1                -0.007495       0.347966       0.507697                NaN   \n",
            "2                -0.007495       0.344333       0.243991                NaN   \n",
            "3                -0.007495       0.347218       0.453391                NaN   \n",
            "4                -0.007495       0.342490       0.110296                NaN   \n",
            "\n",
            "   Volume_Log_zscore  \n",
            "0                NaN  \n",
            "1                NaN  \n",
            "2                NaN  \n",
            "3                NaN  \n",
            "4                NaN  \n"
          ]
        }
      ]
    },
    {
      "cell_type": "code",
      "source": [
        "# One-hot encode categorical features\n",
        "encoded_df = pd.get_dummies(df, columns=['SupervisionFlag'])\n",
        "\n",
        "# Display the encoded DataFrame\n",
        "print(encoded_df.head())\n"
      ],
      "metadata": {
        "colab": {
          "base_uri": "https://localhost:8080/"
        },
        "id": "JZXNd70aQeaG",
        "outputId": "1db1d428-ddef-4b07-b618-ec22cb1d3679"
      },
      "execution_count": 15,
      "outputs": [
        {
          "output_type": "stream",
          "name": "stdout",
          "text": [
            "           RowId       Date  SecuritiesCode    Open    High     Low   Close  \\\n",
            "0  20170104_1301 2017-01-04            1301  2734.0  2755.0  2730.0  2742.0   \n",
            "1  20170104_1332 2017-01-04            1332   568.0   576.0   563.0   571.0   \n",
            "2  20170104_1333 2017-01-04            1333  3150.0  3210.0  3140.0  3210.0   \n",
            "3  20170104_1376 2017-01-04            1376  1510.0  1550.0  1510.0  1550.0   \n",
            "4  20170104_1377 2017-01-04            1377  3270.0  3350.0  3270.0  3330.0   \n",
            "\n",
            "    Volume  AdjustmentFactor    Target    Class  Volume_Log  \\\n",
            "0    31400               1.0  0.000730  Class 3   10.354563   \n",
            "1  2798500               1.0  0.012324  Class 1   14.844594   \n",
            "2   270800               1.0  0.006154  Class 4   12.509136   \n",
            "3    11300               1.0  0.011053  Class 2    9.332558   \n",
            "4   150800               1.0  0.003026  Class 4   11.923710   \n",
            "\n",
            "   SupervisionFlag_False  SupervisionFlag_True  \n",
            "0                   True                 False  \n",
            "1                   True                 False  \n",
            "2                   True                 False  \n",
            "3                   True                 False  \n",
            "4                   True                 False  \n"
          ]
        }
      ]
    },
    {
      "cell_type": "code",
      "source": [
        "# Drop the specified columns\n",
        "df = df.drop(columns=['RowId', 'SupervisionFlag'])"
      ],
      "metadata": {
        "id": "wbeKwzTeQh2I"
      },
      "execution_count": 16,
      "outputs": []
    },
    {
      "cell_type": "code",
      "source": [
        "import pandas as pd\n",
        "\n",
        "# Assuming df is your DataFrame\n",
        "data_types = df.dtypes\n",
        "\n",
        "# Print data types along with column names\n",
        "print(\"Data Types:\")\n",
        "print(data_types)\n"
      ],
      "metadata": {
        "colab": {
          "base_uri": "https://localhost:8080/"
        },
        "id": "7n8G3AQFUVrE",
        "outputId": "5324b2de-3d65-492b-ce2a-64c751ea8022"
      },
      "execution_count": 57,
      "outputs": [
        {
          "output_type": "stream",
          "name": "stdout",
          "text": [
            "Data Types:\n",
            "Date                datetime64[ns]\n",
            "SecuritiesCode               int64\n",
            "Open                       float64\n",
            "High                       float64\n",
            "Low                        float64\n",
            "Close                      float64\n",
            "Volume                       int64\n",
            "AdjustmentFactor           float64\n",
            "Target                     float64\n",
            "Class                       object\n",
            "Volume_Log                 float64\n",
            "dtype: object\n"
          ]
        }
      ]
    },
    {
      "cell_type": "code",
      "source": [
        "from sklearn.preprocessing import LabelEncoder\n",
        "\n",
        "# Initialize LabelEncoder\n",
        "label_encoder = LabelEncoder()\n",
        "\n",
        "# Encode the 'Class' column and store the encoded values in a new column 'Class_encoded'\n",
        "stock_prices_df['Class_encoded'] = label_encoder.fit_transform(stock_prices_df['Class'])\n",
        "\n",
        "# Display the DataFrame with encoded classes\n",
        "print(stock_prices_df[['RowId', 'Close', 'Class', 'Class_encoded']])\n",
        "\n",
        "# Drop the original 'Class' column\n",
        "stock_prices_df = stock_prices_df.drop(columns=['Class'])\n",
        "\n",
        "# Verify column names after dropping 'Class'\n",
        "print(stock_prices_df.columns)\n",
        "\n"
      ],
      "metadata": {
        "colab": {
          "base_uri": "https://localhost:8080/"
        },
        "id": "hoj97C1QYxDR",
        "outputId": "a312b8f7-2656-4be9-dc83-2755c6a354e9"
      },
      "execution_count": 17,
      "outputs": [
        {
          "output_type": "stream",
          "name": "stdout",
          "text": [
            "                 RowId   Close    Class  Class_encoded\n",
            "0        20170104_1301  2742.0  Class 3              2\n",
            "1        20170104_1332   571.0  Class 1              0\n",
            "2        20170104_1333  3210.0  Class 4              3\n",
            "3        20170104_1376  1550.0  Class 2              1\n",
            "4        20170104_1377  3330.0  Class 4              3\n",
            "...                ...     ...      ...            ...\n",
            "2332526  20211203_9990   528.0  Class 1              0\n",
            "2332527  20211203_9991   794.0  Class 1              0\n",
            "2332528  20211203_9993  1645.0  Class 2              1\n",
            "2332529  20211203_9994  2389.0  Class 3              2\n",
            "2332530  20211203_9997   696.0  Class 1              0\n",
            "\n",
            "[2332531 rows x 4 columns]\n",
            "Index(['RowId', 'Date', 'SecuritiesCode', 'Open', 'High', 'Low', 'Close',\n",
            "       'Volume', 'AdjustmentFactor', 'SupervisionFlag', 'Target', 'Volume_Log',\n",
            "       'Class_encoded'],\n",
            "      dtype='object')\n"
          ]
        }
      ]
    },
    {
      "cell_type": "code",
      "source": [
        "from sklearn.preprocessing import LabelEncoder\n",
        "\n",
        "# Initialize LabelEncoder\n",
        "label_encoder = LabelEncoder()\n",
        "\n",
        "# Encode the 'Class' column\n",
        "df['Class_encoded'] = label_encoder.fit_transform(df['Class'])\n"
      ],
      "metadata": {
        "id": "YioJtERhSMde"
      },
      "execution_count": 18,
      "outputs": []
    },
    {
      "cell_type": "code",
      "source": [
        "# Drop the 'Class' column\n",
        "df = df.drop(columns=['Class'])\n"
      ],
      "metadata": {
        "id": "dzor6kApSP9V"
      },
      "execution_count": 19,
      "outputs": []
    },
    {
      "cell_type": "code",
      "source": [
        "import math\n",
        "\n",
        "# Calculate the total number of samples\n",
        "N_total = df.shape[0]\n",
        "\n",
        "# Specify the proportions for training, validation, and testing sets\n",
        "train_ratio = 0.8\n",
        "val_ratio = 0.1  # Splitting the remaining data equally for validation and testing\n",
        "test_ratio = 0.1\n",
        "\n",
        "# Calculate the number of samples for each set\n",
        "N_train = math.floor(train_ratio * N_total)\n",
        "N_val = math.floor(val_ratio * N_total)\n",
        "N_test = N_total - N_train - N_val\n",
        "\n",
        "# Split the dataset into training, validation, and testing sets\n",
        "X_train = df.iloc[:N_train, :-1]  # Assuming the last column is the target column\n",
        "y_train = df.iloc[:N_train, -1]   # Assuming the last column is the target column\n",
        "\n",
        "X_val = df.iloc[N_train:N_train + N_val, :-1]\n",
        "y_val = df.iloc[N_train:N_train + N_val, -1]\n",
        "\n",
        "X_test = df.iloc[N_train + N_val:, :-1]\n",
        "y_test = df.iloc[N_train + N_val:, -1]\n",
        "\n",
        "# Print the number of samples in the validation set\n",
        "print(\"Number of samples in the validation set:\", N_val)"
      ],
      "metadata": {
        "colab": {
          "base_uri": "https://localhost:8080/"
        },
        "id": "cXpA80Y6QnhA",
        "outputId": "884cdd1f-bcd2-45a0-c37d-60d7d4367766"
      },
      "execution_count": 20,
      "outputs": [
        {
          "output_type": "stream",
          "name": "stdout",
          "text": [
            "Number of samples in the validation set: 233253\n"
          ]
        }
      ]
    },
    {
      "cell_type": "code",
      "source": [
        "N_train"
      ],
      "metadata": {
        "colab": {
          "base_uri": "https://localhost:8080/"
        },
        "id": "cXKg5ycqROll",
        "outputId": "e0f50c8e-383f-488e-c7b5-8cbfe34de1f3"
      },
      "execution_count": 21,
      "outputs": [
        {
          "output_type": "execute_result",
          "data": {
            "text/plain": [
              "1866024"
            ]
          },
          "metadata": {},
          "execution_count": 21
        }
      ]
    },
    {
      "cell_type": "code",
      "source": [
        "from tensorflow.keras.models import Sequential\n",
        "from tensorflow.keras.layers import Dense\n",
        "\n",
        "model = Sequential()\n",
        "model.add(Dense(12, input_dim=X_train.shape[1], activation='relu'))\n",
        "model.add(Dense(8, activation='relu'))\n",
        "model.add(Dense(8, activation='relu'))\n",
        "model.add(Dense(1, activation='sigmoid'))"
      ],
      "metadata": {
        "id": "MbN1sYT2RSki"
      },
      "execution_count": 22,
      "outputs": []
    },
    {
      "cell_type": "code",
      "source": [
        "X_train.shape[1]"
      ],
      "metadata": {
        "colab": {
          "base_uri": "https://localhost:8080/"
        },
        "id": "CgpzBrxERVNl",
        "outputId": "8d7fabf1-f19b-4a25-a6c5-fa38e517d3f3"
      },
      "execution_count": 23,
      "outputs": [
        {
          "output_type": "execute_result",
          "data": {
            "text/plain": [
              "10"
            ]
          },
          "metadata": {},
          "execution_count": 23
        }
      ]
    },
    {
      "cell_type": "code",
      "source": [
        "# 1st Hidden layer\n",
        "X_train.shape[1]*12 + 12"
      ],
      "metadata": {
        "colab": {
          "base_uri": "https://localhost:8080/"
        },
        "id": "g_OJ5BosRXx5",
        "outputId": "4cb665d1-e73e-45c5-f3a0-c1f2d2a85753"
      },
      "execution_count": 24,
      "outputs": [
        {
          "output_type": "execute_result",
          "data": {
            "text/plain": [
              "132"
            ]
          },
          "metadata": {},
          "execution_count": 24
        }
      ]
    },
    {
      "cell_type": "code",
      "source": [
        "# 2nd Hidden layer\n",
        "12 * 8 + 8"
      ],
      "metadata": {
        "colab": {
          "base_uri": "https://localhost:8080/"
        },
        "id": "X7DYiXW_RX64",
        "outputId": "22628ece-df78-4de0-c679-51788c9c0cbd"
      },
      "execution_count": 25,
      "outputs": [
        {
          "output_type": "execute_result",
          "data": {
            "text/plain": [
              "104"
            ]
          },
          "metadata": {},
          "execution_count": 25
        }
      ]
    },
    {
      "cell_type": "code",
      "source": [
        "# 3rd Hidden layer\n",
        "8 * 8 + 8"
      ],
      "metadata": {
        "colab": {
          "base_uri": "https://localhost:8080/"
        },
        "id": "EjCOdcH_Rc8U",
        "outputId": "16ef63a2-5198-4762-9f8c-1687b1734f60"
      },
      "execution_count": 26,
      "outputs": [
        {
          "output_type": "execute_result",
          "data": {
            "text/plain": [
              "72"
            ]
          },
          "metadata": {},
          "execution_count": 26
        }
      ]
    },
    {
      "cell_type": "code",
      "source": [
        "model.summary()"
      ],
      "metadata": {
        "colab": {
          "base_uri": "https://localhost:8080/"
        },
        "id": "ByabfQEcRfaF",
        "outputId": "2dd68a3a-c0dd-435c-e18a-2143477e43fe"
      },
      "execution_count": 27,
      "outputs": [
        {
          "output_type": "stream",
          "name": "stdout",
          "text": [
            "Model: \"sequential\"\n",
            "_________________________________________________________________\n",
            " Layer (type)                Output Shape              Param #   \n",
            "=================================================================\n",
            " dense (Dense)               (None, 12)                132       \n",
            "                                                                 \n",
            " dense_1 (Dense)             (None, 8)                 104       \n",
            "                                                                 \n",
            " dense_2 (Dense)             (None, 8)                 72        \n",
            "                                                                 \n",
            " dense_3 (Dense)             (None, 1)                 9         \n",
            "                                                                 \n",
            "=================================================================\n",
            "Total params: 317 (1.24 KB)\n",
            "Trainable params: 317 (1.24 KB)\n",
            "Non-trainable params: 0 (0.00 Byte)\n",
            "_________________________________________________________________\n"
          ]
        }
      ]
    },
    {
      "cell_type": "code",
      "source": [
        "from keras.models import Model\n",
        "from keras.layers import Dense, Input\n",
        "\n",
        "in_x = Input(shape = X_train.shape[1:])\n",
        "x = Dense(12, input_dim=X_train.shape[1], activation='relu')(in_x)\n",
        "x = Dense(8, activation='relu')(x)\n",
        "x = Dense(8, activation='relu')(x)\n",
        "out_x = Dense(1, activation='sigmoid')(x)\n",
        "\n",
        "model = Model(in_x,out_x)\n",
        "\n",
        "model.summary()"
      ],
      "metadata": {
        "colab": {
          "base_uri": "https://localhost:8080/"
        },
        "id": "iDVdzoCERhfx",
        "outputId": "21113f22-22e2-462a-fd00-7a76c3f470b7"
      },
      "execution_count": 28,
      "outputs": [
        {
          "output_type": "stream",
          "name": "stdout",
          "text": [
            "Model: \"model\"\n",
            "_________________________________________________________________\n",
            " Layer (type)                Output Shape              Param #   \n",
            "=================================================================\n",
            " input_1 (InputLayer)        [(None, 10)]              0         \n",
            "                                                                 \n",
            " dense_4 (Dense)             (None, 12)                132       \n",
            "                                                                 \n",
            " dense_5 (Dense)             (None, 8)                 104       \n",
            "                                                                 \n",
            " dense_6 (Dense)             (None, 8)                 72        \n",
            "                                                                 \n",
            " dense_7 (Dense)             (None, 1)                 9         \n",
            "                                                                 \n",
            "=================================================================\n",
            "Total params: 317 (1.24 KB)\n",
            "Trainable params: 317 (1.24 KB)\n",
            "Non-trainable params: 0 (0.00 Byte)\n",
            "_________________________________________________________________\n"
          ]
        }
      ]
    },
    {
      "cell_type": "code",
      "source": [
        "from keras.activations import relu\n",
        "import keras\n",
        "\n",
        "in_x = Input(shape = X_train.shape[1:])\n",
        "x = keras.layers.Normalization(axis=-1)(in_x)\n",
        "x = Dense(12, input_dim=X_train.shape[1], activation='relu')(in_x)\n",
        "x = Dense(8)(x)\n",
        "x = relu(x)\n",
        "out_x = Dense(1, activation='sigmoid')(x)\n",
        "\n",
        "model = Model(in_x,out_x)\n",
        "\n",
        "model.summary()"
      ],
      "metadata": {
        "colab": {
          "base_uri": "https://localhost:8080/"
        },
        "id": "ZFFlfa_TRk69",
        "outputId": "f2ffa91a-11dd-4910-bbca-4792cea5648b"
      },
      "execution_count": 29,
      "outputs": [
        {
          "output_type": "stream",
          "name": "stdout",
          "text": [
            "Model: \"model_1\"\n",
            "_________________________________________________________________\n",
            " Layer (type)                Output Shape              Param #   \n",
            "=================================================================\n",
            " input_2 (InputLayer)        [(None, 10)]              0         \n",
            "                                                                 \n",
            " dense_8 (Dense)             (None, 12)                132       \n",
            "                                                                 \n",
            " dense_9 (Dense)             (None, 8)                 104       \n",
            "                                                                 \n",
            " tf.nn.relu (TFOpLambda)     (None, 8)                 0         \n",
            "                                                                 \n",
            " dense_10 (Dense)            (None, 1)                 9         \n",
            "                                                                 \n",
            "=================================================================\n",
            "Total params: 245 (980.00 Byte)\n",
            "Trainable params: 245 (980.00 Byte)\n",
            "Non-trainable params: 0 (0.00 Byte)\n",
            "_________________________________________________________________\n"
          ]
        }
      ]
    },
    {
      "cell_type": "code",
      "source": [
        "model.compile(loss='binary_crossentropy', optimizer='adam', metrics=['accuracy'])"
      ],
      "metadata": {
        "id": "li3vCfUmRokK"
      },
      "execution_count": 30,
      "outputs": []
    },
    {
      "cell_type": "code",
      "source": [
        "# Drop timestamp columns from X_train and X_Test\n",
        "X_train_numeric = X_train.drop(columns=['timestamp_column1', 'timestamp_column2', ...], errors='ignore')\n",
        "X_test_numeric = X_test.drop(columns=['timestamp_column1', 'timestamp_column2', ...], errors='ignore')\n",
        "\n",
        "# Convert all columns to numeric (excluding the timestamp columns)\n",
        "X_train_numeric = X_train_numeric.apply(pd.to_numeric, errors='ignore')\n",
        "X_test_numeric = X_test_numeric.apply(pd.to_numeric, errors='ignore')\n",
        "\n",
        "# Convert to NumPy array and cast to float\n",
        "X_train_numeric_array = X_train_numeric.to_numpy().astype(\"float\")\n",
        "X_test_numeric_array = X_test_numeric.to_numpy().astype(\"float\")\n",
        "\n",
        "# Train the model\n",
        "history = model.fit(X_train_numeric_array,\n",
        "                    y_train.to_numpy().astype(\"float\"),\n",
        "                    validation_data=(X_test_numeric_array, y_test.to_numpy().astype(\"float\")),\n",
        "                    epochs=100,\n",
        "                    batch_size=10)\n"
      ],
      "metadata": {
        "colab": {
          "base_uri": "https://localhost:8080/"
        },
        "id": "U9Wk9mDsRx7T",
        "outputId": "10f00668-4f05-4fc6-a202-43b958194de2"
      },
      "execution_count": null,
      "outputs": [
        {
          "output_type": "stream",
          "name": "stdout",
          "text": [
            "Epoch 1/100\n",
            "186603/186603 [==============================] - 389s 2ms/step - loss: nan - accuracy: 0.2538 - val_loss: nan - val_accuracy: 0.2279\n",
            "Epoch 2/100\n",
            "186603/186603 [==============================] - 381s 2ms/step - loss: nan - accuracy: 0.2538 - val_loss: nan - val_accuracy: 0.2279\n",
            "Epoch 3/100\n",
            "186603/186603 [==============================] - 383s 2ms/step - loss: nan - accuracy: 0.2538 - val_loss: nan - val_accuracy: 0.2279\n",
            "Epoch 4/100\n",
            "186603/186603 [==============================] - 373s 2ms/step - loss: nan - accuracy: 0.2538 - val_loss: nan - val_accuracy: 0.2279\n",
            "Epoch 5/100\n",
            "186603/186603 [==============================] - 373s 2ms/step - loss: nan - accuracy: 0.2538 - val_loss: nan - val_accuracy: 0.2279\n",
            "Epoch 6/100\n",
            "186603/186603 [==============================] - 397s 2ms/step - loss: nan - accuracy: 0.2538 - val_loss: nan - val_accuracy: 0.2279\n",
            "Epoch 7/100\n",
            "186603/186603 [==============================] - 384s 2ms/step - loss: nan - accuracy: 0.2538 - val_loss: nan - val_accuracy: 0.2279\n",
            "Epoch 8/100\n",
            "186603/186603 [==============================] - 392s 2ms/step - loss: nan - accuracy: 0.2538 - val_loss: nan - val_accuracy: 0.2279\n",
            "Epoch 9/100\n",
            "186603/186603 [==============================] - 395s 2ms/step - loss: nan - accuracy: 0.2538 - val_loss: nan - val_accuracy: 0.2279\n",
            "Epoch 10/100\n",
            "186603/186603 [==============================] - 415s 2ms/step - loss: nan - accuracy: 0.2538 - val_loss: nan - val_accuracy: 0.2279\n",
            "Epoch 11/100\n",
            "186603/186603 [==============================] - 401s 2ms/step - loss: nan - accuracy: 0.2538 - val_loss: nan - val_accuracy: 0.2279\n",
            "Epoch 12/100\n",
            "186603/186603 [==============================] - 404s 2ms/step - loss: nan - accuracy: 0.2538 - val_loss: nan - val_accuracy: 0.2279\n",
            "Epoch 13/100\n",
            "186603/186603 [==============================] - 419s 2ms/step - loss: nan - accuracy: 0.2538 - val_loss: nan - val_accuracy: 0.2279\n",
            "Epoch 14/100\n",
            "186603/186603 [==============================] - 403s 2ms/step - loss: nan - accuracy: 0.2538 - val_loss: nan - val_accuracy: 0.2279\n",
            "Epoch 15/100\n",
            "186603/186603 [==============================] - 398s 2ms/step - loss: nan - accuracy: 0.2538 - val_loss: nan - val_accuracy: 0.2279\n",
            "Epoch 16/100\n",
            "186603/186603 [==============================] - 409s 2ms/step - loss: nan - accuracy: 0.2538 - val_loss: nan - val_accuracy: 0.2279\n",
            "Epoch 17/100\n",
            "186603/186603 [==============================] - 404s 2ms/step - loss: nan - accuracy: 0.2538 - val_loss: nan - val_accuracy: 0.2279\n",
            "Epoch 18/100\n",
            "186603/186603 [==============================] - 404s 2ms/step - loss: nan - accuracy: 0.2538 - val_loss: nan - val_accuracy: 0.2279\n",
            "Epoch 19/100\n",
            "186603/186603 [==============================] - 406s 2ms/step - loss: nan - accuracy: 0.2538 - val_loss: nan - val_accuracy: 0.2279\n",
            "Epoch 20/100\n",
            "186603/186603 [==============================] - 409s 2ms/step - loss: nan - accuracy: 0.2538 - val_loss: nan - val_accuracy: 0.2279\n",
            "Epoch 21/100\n",
            "186603/186603 [==============================] - 407s 2ms/step - loss: nan - accuracy: 0.2538 - val_loss: nan - val_accuracy: 0.2279\n",
            "Epoch 22/100\n",
            "186603/186603 [==============================] - 394s 2ms/step - loss: nan - accuracy: 0.2538 - val_loss: nan - val_accuracy: 0.2279\n",
            "Epoch 23/100\n",
            "186603/186603 [==============================] - 391s 2ms/step - loss: nan - accuracy: 0.2538 - val_loss: nan - val_accuracy: 0.2279\n",
            "Epoch 24/100\n",
            "186603/186603 [==============================] - 415s 2ms/step - loss: nan - accuracy: 0.2538 - val_loss: nan - val_accuracy: 0.2279\n",
            "Epoch 25/100\n",
            "186603/186603 [==============================] - 401s 2ms/step - loss: nan - accuracy: 0.2538 - val_loss: nan - val_accuracy: 0.2279\n",
            "Epoch 26/100\n",
            "186603/186603 [==============================] - 397s 2ms/step - loss: nan - accuracy: 0.2538 - val_loss: nan - val_accuracy: 0.2279\n",
            "Epoch 27/100\n",
            "186603/186603 [==============================] - 416s 2ms/step - loss: nan - accuracy: 0.2538 - val_loss: nan - val_accuracy: 0.2279\n",
            "Epoch 28/100\n",
            "186603/186603 [==============================] - 416s 2ms/step - loss: nan - accuracy: 0.2538 - val_loss: nan - val_accuracy: 0.2279\n",
            "Epoch 29/100\n",
            "186603/186603 [==============================] - 410s 2ms/step - loss: nan - accuracy: 0.2538 - val_loss: nan - val_accuracy: 0.2279\n",
            "Epoch 30/100\n",
            "186603/186603 [==============================] - 396s 2ms/step - loss: nan - accuracy: 0.2538 - val_loss: nan - val_accuracy: 0.2279\n",
            "Epoch 31/100\n",
            "186603/186603 [==============================] - 394s 2ms/step - loss: nan - accuracy: 0.2538 - val_loss: nan - val_accuracy: 0.2279\n",
            "Epoch 32/100\n",
            "186603/186603 [==============================] - 386s 2ms/step - loss: nan - accuracy: 0.2538 - val_loss: nan - val_accuracy: 0.2279\n",
            "Epoch 33/100\n",
            "186603/186603 [==============================] - 393s 2ms/step - loss: nan - accuracy: 0.2538 - val_loss: nan - val_accuracy: 0.2279\n",
            "Epoch 34/100\n",
            "186603/186603 [==============================] - 380s 2ms/step - loss: nan - accuracy: 0.2538 - val_loss: nan - val_accuracy: 0.2279\n",
            "Epoch 35/100\n",
            "186603/186603 [==============================] - 393s 2ms/step - loss: nan - accuracy: 0.2538 - val_loss: nan - val_accuracy: 0.2279\n",
            "Epoch 36/100\n",
            "186603/186603 [==============================] - 383s 2ms/step - loss: nan - accuracy: 0.2538 - val_loss: nan - val_accuracy: 0.2279\n",
            "Epoch 37/100\n",
            "186603/186603 [==============================] - 395s 2ms/step - loss: nan - accuracy: 0.2538 - val_loss: nan - val_accuracy: 0.2279\n",
            "Epoch 38/100\n",
            "186603/186603 [==============================] - 383s 2ms/step - loss: nan - accuracy: 0.2538 - val_loss: nan - val_accuracy: 0.2279\n",
            "Epoch 39/100\n",
            "186603/186603 [==============================] - 383s 2ms/step - loss: nan - accuracy: 0.2538 - val_loss: nan - val_accuracy: 0.2279\n",
            "Epoch 40/100\n",
            "186603/186603 [==============================] - 380s 2ms/step - loss: nan - accuracy: 0.2538 - val_loss: nan - val_accuracy: 0.2279\n",
            "Epoch 41/100\n",
            "186603/186603 [==============================] - 389s 2ms/step - loss: nan - accuracy: 0.2538 - val_loss: nan - val_accuracy: 0.2279\n",
            "Epoch 42/100\n",
            "186603/186603 [==============================] - 373s 2ms/step - loss: nan - accuracy: 0.2538 - val_loss: nan - val_accuracy: 0.2279\n",
            "Epoch 43/100\n",
            "186603/186603 [==============================] - 392s 2ms/step - loss: nan - accuracy: 0.2538 - val_loss: nan - val_accuracy: 0.2279\n",
            "Epoch 44/100\n",
            "186603/186603 [==============================] - 382s 2ms/step - loss: nan - accuracy: 0.2538 - val_loss: nan - val_accuracy: 0.2279\n",
            "Epoch 45/100\n",
            "186603/186603 [==============================] - 393s 2ms/step - loss: nan - accuracy: 0.2538 - val_loss: nan - val_accuracy: 0.2279\n",
            "Epoch 46/100\n",
            "186603/186603 [==============================] - 394s 2ms/step - loss: nan - accuracy: 0.2538 - val_loss: nan - val_accuracy: 0.2279\n",
            "Epoch 47/100\n",
            "186603/186603 [==============================] - 381s 2ms/step - loss: nan - accuracy: 0.2538 - val_loss: nan - val_accuracy: 0.2279\n",
            "Epoch 48/100\n",
            "186603/186603 [==============================] - 387s 2ms/step - loss: nan - accuracy: 0.2538 - val_loss: nan - val_accuracy: 0.2279\n",
            "Epoch 49/100\n",
            "186603/186603 [==============================] - 383s 2ms/step - loss: nan - accuracy: 0.2538 - val_loss: nan - val_accuracy: 0.2279\n",
            "Epoch 50/100\n",
            "186603/186603 [==============================] - 409s 2ms/step - loss: nan - accuracy: 0.2538 - val_loss: nan - val_accuracy: 0.2279\n",
            "Epoch 51/100\n",
            "186603/186603 [==============================] - 391s 2ms/step - loss: nan - accuracy: 0.2538 - val_loss: nan - val_accuracy: 0.2279\n",
            "Epoch 52/100\n",
            "186603/186603 [==============================] - 406s 2ms/step - loss: nan - accuracy: 0.2538 - val_loss: nan - val_accuracy: 0.2279\n",
            "Epoch 53/100\n",
            "186603/186603 [==============================] - 406s 2ms/step - loss: nan - accuracy: 0.2538 - val_loss: nan - val_accuracy: 0.2279\n",
            "Epoch 54/100\n",
            "186603/186603 [==============================] - 395s 2ms/step - loss: nan - accuracy: 0.2538 - val_loss: nan - val_accuracy: 0.2279\n",
            "Epoch 55/100\n",
            "186603/186603 [==============================] - 394s 2ms/step - loss: nan - accuracy: 0.2538 - val_loss: nan - val_accuracy: 0.2279\n",
            "Epoch 56/100\n",
            "186603/186603 [==============================] - 400s 2ms/step - loss: nan - accuracy: 0.2538 - val_loss: nan - val_accuracy: 0.2279\n",
            "Epoch 57/100\n",
            "186603/186603 [==============================] - 399s 2ms/step - loss: nan - accuracy: 0.2538 - val_loss: nan - val_accuracy: 0.2279\n",
            "Epoch 58/100\n",
            "  2173/186603 [..............................] - ETA: 5:23 - loss: nan - accuracy: 0.2581"
          ]
        }
      ]
    },
    {
      "cell_type": "code",
      "source": [
        "# Drop timestamp columns from X_train and X_Test\n",
        "X_train_numeric = X_train.drop(columns=['timestamp_column1', 'timestamp_column2', ...], errors='ignore')\n",
        "X_test_numeric = X_test.drop(columns=['timestamp_column1', 'timestamp_column2', ...], errors='ignore')\n",
        "\n",
        "# Convert all columns to numeric (excluding the timestamp columns)\n",
        "X_train_numeric = X_train_numeric.apply(pd.to_numeric, errors='ignore')\n",
        "X_test_numeric = X_test_numeric.apply(pd.to_numeric, errors='ignore')\n",
        "\n",
        "# Convert to NumPy array and cast to float\n",
        "X_train_numeric_array = X_train_numeric.to_numpy().astype(\"float\")\n",
        "X_test_numeric_array = X_test_numeric.to_numpy().astype(\"float\")\n",
        "\n",
        "# Continue training the model from epoch 58 to epoch 100\n",
        "history = model.fit(X_train_numeric_array,\n",
        "                    y_train.to_numpy().astype(\"float\"),\n",
        "                    validation_data=(X_test_numeric_array, y_test.to_numpy().astype(\"float\")),\n",
        "                    epochs=100,\n",
        "                    initial_epoch=57,  # Start from epoch 58\n",
        "                    batch_size=10)\n",
        "\n",
        "\n",
        "\n"
      ],
      "metadata": {
        "colab": {
          "base_uri": "https://localhost:8080/"
        },
        "id": "4c9ym34CJ64B",
        "outputId": "28b05a9a-4655-4712-d128-e9c7c7311ebe"
      },
      "execution_count": 33,
      "outputs": [
        {
          "output_type": "stream",
          "name": "stdout",
          "text": [
            "Epoch 58/100\n",
            "186603/186603 [==============================] - 519s 3ms/step - loss: nan - accuracy: 0.2538 - val_loss: nan - val_accuracy: 0.2279\n",
            "Epoch 59/100\n",
            "186603/186603 [==============================] - 508s 3ms/step - loss: nan - accuracy: 0.2538 - val_loss: nan - val_accuracy: 0.2279\n",
            "Epoch 60/100\n",
            "186603/186603 [==============================] - 478s 3ms/step - loss: nan - accuracy: 0.2538 - val_loss: nan - val_accuracy: 0.2279\n",
            "Epoch 61/100\n",
            "186603/186603 [==============================] - 474s 3ms/step - loss: nan - accuracy: 0.2538 - val_loss: nan - val_accuracy: 0.2279\n",
            "Epoch 62/100\n",
            "186603/186603 [==============================] - 482s 3ms/step - loss: nan - accuracy: 0.2538 - val_loss: nan - val_accuracy: 0.2279\n",
            "Epoch 63/100\n",
            "186603/186603 [==============================] - 474s 3ms/step - loss: nan - accuracy: 0.2538 - val_loss: nan - val_accuracy: 0.2279\n",
            "Epoch 64/100\n",
            "186603/186603 [==============================] - 496s 3ms/step - loss: nan - accuracy: 0.2538 - val_loss: nan - val_accuracy: 0.2279\n",
            "Epoch 65/100\n",
            "186603/186603 [==============================] - 496s 3ms/step - loss: nan - accuracy: 0.2538 - val_loss: nan - val_accuracy: 0.2279\n",
            "Epoch 66/100\n",
            "186603/186603 [==============================] - 512s 3ms/step - loss: nan - accuracy: 0.2538 - val_loss: nan - val_accuracy: 0.2279\n",
            "Epoch 67/100\n",
            "186603/186603 [==============================] - 476s 3ms/step - loss: nan - accuracy: 0.2538 - val_loss: nan - val_accuracy: 0.2279\n",
            "Epoch 68/100\n",
            "186603/186603 [==============================] - 466s 2ms/step - loss: nan - accuracy: 0.2538 - val_loss: nan - val_accuracy: 0.2279\n",
            "Epoch 69/100\n",
            "186603/186603 [==============================] - 499s 3ms/step - loss: nan - accuracy: 0.2538 - val_loss: nan - val_accuracy: 0.2279\n",
            "Epoch 70/100\n",
            "186603/186603 [==============================] - 496s 3ms/step - loss: nan - accuracy: 0.2538 - val_loss: nan - val_accuracy: 0.2279\n",
            "Epoch 71/100\n",
            "186603/186603 [==============================] - 488s 3ms/step - loss: nan - accuracy: 0.2538 - val_loss: nan - val_accuracy: 0.2279\n",
            "Epoch 72/100\n",
            "186603/186603 [==============================] - 471s 3ms/step - loss: nan - accuracy: 0.2538 - val_loss: nan - val_accuracy: 0.2279\n",
            "Epoch 73/100\n",
            "186603/186603 [==============================] - 473s 3ms/step - loss: nan - accuracy: 0.2538 - val_loss: nan - val_accuracy: 0.2279\n",
            "Epoch 74/100\n",
            "186603/186603 [==============================] - 482s 3ms/step - loss: nan - accuracy: 0.2538 - val_loss: nan - val_accuracy: 0.2279\n",
            "Epoch 75/100\n",
            "186603/186603 [==============================] - 472s 3ms/step - loss: nan - accuracy: 0.2538 - val_loss: nan - val_accuracy: 0.2279\n",
            "Epoch 76/100\n",
            "186603/186603 [==============================] - 479s 3ms/step - loss: nan - accuracy: 0.2538 - val_loss: nan - val_accuracy: 0.2279\n",
            "Epoch 77/100\n",
            "186603/186603 [==============================] - 476s 3ms/step - loss: nan - accuracy: 0.2538 - val_loss: nan - val_accuracy: 0.2279\n",
            "Epoch 78/100\n",
            "186603/186603 [==============================] - 477s 3ms/step - loss: nan - accuracy: 0.2538 - val_loss: nan - val_accuracy: 0.2279\n",
            "Epoch 79/100\n",
            "186603/186603 [==============================] - 482s 3ms/step - loss: nan - accuracy: 0.2538 - val_loss: nan - val_accuracy: 0.2279\n",
            "Epoch 80/100\n",
            "186603/186603 [==============================] - 477s 3ms/step - loss: nan - accuracy: 0.2538 - val_loss: nan - val_accuracy: 0.2279\n",
            "Epoch 81/100\n",
            "186603/186603 [==============================] - 544s 3ms/step - loss: nan - accuracy: 0.2538 - val_loss: nan - val_accuracy: 0.2279\n",
            "Epoch 82/100\n",
            "186603/186603 [==============================] - 499s 3ms/step - loss: nan - accuracy: 0.2538 - val_loss: nan - val_accuracy: 0.2279\n",
            "Epoch 83/100\n",
            "186603/186603 [==============================] - 484s 3ms/step - loss: nan - accuracy: 0.2538 - val_loss: nan - val_accuracy: 0.2279\n",
            "Epoch 84/100\n",
            "186603/186603 [==============================] - 473s 3ms/step - loss: nan - accuracy: 0.2538 - val_loss: nan - val_accuracy: 0.2279\n",
            "Epoch 85/100\n",
            "186603/186603 [==============================] - 467s 3ms/step - loss: nan - accuracy: 0.2538 - val_loss: nan - val_accuracy: 0.2279\n",
            "Epoch 86/100\n",
            "186603/186603 [==============================] - 495s 3ms/step - loss: nan - accuracy: 0.2538 - val_loss: nan - val_accuracy: 0.2279\n",
            "Epoch 87/100\n",
            "186603/186603 [==============================] - 491s 3ms/step - loss: nan - accuracy: 0.2538 - val_loss: nan - val_accuracy: 0.2279\n",
            "Epoch 88/100\n",
            "186603/186603 [==============================] - 507s 3ms/step - loss: nan - accuracy: 0.2538 - val_loss: nan - val_accuracy: 0.2279\n",
            "Epoch 89/100\n",
            "186603/186603 [==============================] - 488s 3ms/step - loss: nan - accuracy: 0.2538 - val_loss: nan - val_accuracy: 0.2279\n",
            "Epoch 90/100\n",
            "186603/186603 [==============================] - 494s 3ms/step - loss: nan - accuracy: 0.2538 - val_loss: nan - val_accuracy: 0.2279\n",
            "Epoch 91/100\n",
            "186603/186603 [==============================] - 494s 3ms/step - loss: nan - accuracy: 0.2538 - val_loss: nan - val_accuracy: 0.2279\n",
            "Epoch 92/100\n",
            "186603/186603 [==============================] - 500s 3ms/step - loss: nan - accuracy: 0.2538 - val_loss: nan - val_accuracy: 0.2279\n",
            "Epoch 93/100\n",
            "186603/186603 [==============================] - 487s 3ms/step - loss: nan - accuracy: 0.2538 - val_loss: nan - val_accuracy: 0.2279\n",
            "Epoch 94/100\n",
            "186603/186603 [==============================] - 485s 3ms/step - loss: nan - accuracy: 0.2538 - val_loss: nan - val_accuracy: 0.2279\n",
            "Epoch 95/100\n",
            "186603/186603 [==============================] - 530s 3ms/step - loss: nan - accuracy: 0.2538 - val_loss: nan - val_accuracy: 0.2279\n",
            "Epoch 96/100\n",
            "186603/186603 [==============================] - 500s 3ms/step - loss: nan - accuracy: 0.2538 - val_loss: nan - val_accuracy: 0.2279\n",
            "Epoch 97/100\n",
            "186603/186603 [==============================] - 486s 3ms/step - loss: nan - accuracy: 0.2538 - val_loss: nan - val_accuracy: 0.2279\n",
            "Epoch 98/100\n",
            "186603/186603 [==============================] - 500s 3ms/step - loss: nan - accuracy: 0.2538 - val_loss: nan - val_accuracy: 0.2279\n",
            "Epoch 99/100\n",
            "186603/186603 [==============================] - 491s 3ms/step - loss: nan - accuracy: 0.2538 - val_loss: nan - val_accuracy: 0.2279\n",
            "Epoch 100/100\n",
            "186603/186603 [==============================] - 489s 3ms/step - loss: nan - accuracy: 0.2538 - val_loss: nan - val_accuracy: 0.2279\n"
          ]
        }
      ]
    },
    {
      "cell_type": "code",
      "source": [
        "\n",
        "print (history.history)"
      ],
      "metadata": {
        "colab": {
          "base_uri": "https://localhost:8080/"
        },
        "id": "om95hoa_NEhj",
        "outputId": "ff2cbef5-7674-4338-960f-596314d1da97"
      },
      "execution_count": 34,
      "outputs": [
        {
          "output_type": "stream",
          "name": "stdout",
          "text": [
            "{'loss': [nan, nan, nan, nan, nan, nan, nan, nan, nan, nan, nan, nan, nan, nan, nan, nan, nan, nan, nan, nan, nan, nan, nan, nan, nan, nan, nan, nan, nan, nan, nan, nan, nan, nan, nan, nan, nan, nan, nan, nan, nan, nan, nan], 'accuracy': [0.2538290023803711, 0.2538290023803711, 0.2538290023803711, 0.2538290023803711, 0.2538290023803711, 0.2538290023803711, 0.2538290023803711, 0.2538290023803711, 0.2538290023803711, 0.2538290023803711, 0.2538290023803711, 0.2538290023803711, 0.2538290023803711, 0.2538290023803711, 0.2538290023803711, 0.2538290023803711, 0.2538290023803711, 0.2538290023803711, 0.2538290023803711, 0.2538290023803711, 0.2538290023803711, 0.2538290023803711, 0.2538290023803711, 0.2538290023803711, 0.2538290023803711, 0.2538290023803711, 0.2538290023803711, 0.2538290023803711, 0.2538290023803711, 0.2538290023803711, 0.2538290023803711, 0.2538290023803711, 0.2538290023803711, 0.2538290023803711, 0.2538290023803711, 0.2538290023803711, 0.2538290023803711, 0.2538290023803711, 0.2538290023803711, 0.2538290023803711, 0.2538290023803711, 0.2538290023803711, 0.2538290023803711], 'val_loss': [nan, nan, nan, nan, nan, nan, nan, nan, nan, nan, nan, nan, nan, nan, nan, nan, nan, nan, nan, nan, nan, nan, nan, nan, nan, nan, nan, nan, nan, nan, nan, nan, nan, nan, nan, nan, nan, nan, nan, nan, nan, nan, nan], 'val_accuracy': [0.22787605226039886, 0.22787605226039886, 0.22787605226039886, 0.22787605226039886, 0.22787605226039886, 0.22787605226039886, 0.22787605226039886, 0.22787605226039886, 0.22787605226039886, 0.22787605226039886, 0.22787605226039886, 0.22787605226039886, 0.22787605226039886, 0.22787605226039886, 0.22787605226039886, 0.22787605226039886, 0.22787605226039886, 0.22787605226039886, 0.22787605226039886, 0.22787605226039886, 0.22787605226039886, 0.22787605226039886, 0.22787605226039886, 0.22787605226039886, 0.22787605226039886, 0.22787605226039886, 0.22787605226039886, 0.22787605226039886, 0.22787605226039886, 0.22787605226039886, 0.22787605226039886, 0.22787605226039886, 0.22787605226039886, 0.22787605226039886, 0.22787605226039886, 0.22787605226039886, 0.22787605226039886, 0.22787605226039886, 0.22787605226039886, 0.22787605226039886, 0.22787605226039886, 0.22787605226039886, 0.22787605226039886]}\n"
          ]
        }
      ]
    },
    {
      "cell_type": "code",
      "source": [
        "import matplotlib.pyplot as plt"
      ],
      "metadata": {
        "id": "jcimCdDwgYD8"
      },
      "execution_count": 36,
      "outputs": []
    },
    {
      "cell_type": "code",
      "source": [
        "plt.plot(range(len(history.history[\"loss\"])),history.history[\"loss\"],label=\"Training Loss\")\n",
        "plt.plot(range(len(history.history[\"val_loss\"])),history.history[\"val_loss\"],label=\"Validation Loss\")\n",
        "plt.legend()"
      ],
      "metadata": {
        "colab": {
          "base_uri": "https://localhost:8080/",
          "height": 447
        },
        "id": "yMAAkOPK9Nkf",
        "outputId": "95d6f6fe-fd50-4d78-d590-e676eca5456f"
      },
      "execution_count": 37,
      "outputs": [
        {
          "output_type": "execute_result",
          "data": {
            "text/plain": [
              "<matplotlib.legend.Legend at 0x7b83c235e530>"
            ]
          },
          "metadata": {},
          "execution_count": 37
        },
        {
          "output_type": "display_data",
          "data": {
            "text/plain": [
              "<Figure size 640x480 with 1 Axes>"
            ],
            "image/png": "[encoded data removed]"
          },
          "metadata": {}
        }
      ]
    },
    {
      "cell_type": "code",
      "source": [
        "plt.plot(range(len(history.history[\"accuracy\"])),history.history[\"accuracy\"],label=\"Training accuracy\")\n",
        "plt.plot(range(len(history.history[\"val_accuracy\"])),history.history[\"val_accuracy\"],label=\"Validation accuracy\")\n",
        "plt.legend()"
      ],
      "metadata": {
        "colab": {
          "base_uri": "https://localhost:8080/",
          "height": 451
        },
        "id": "TlqMKOUJ9Q2J",
        "outputId": "6210f072-41db-4426-dd00-d681566261cd"
      },
      "execution_count": 38,
      "outputs": [
        {
          "output_type": "execute_result",
          "data": {
            "text/plain": [
              "<matplotlib.legend.Legend at 0x7b83c2275450>"
            ]
          },
          "metadata": {},
          "execution_count": 38
        },
        {
          "output_type": "display_data",
          "data": {
            "text/plain": [
              "<Figure size 640x480 with 1 Axes>"
            ],
            "image/png": "[encoded data removed]"
          },
          "metadata": {}
        }
      ]
    },
    {
      "cell_type": "code",
      "source": [
        "scores = model.evaluate(X_test, y_test)\n",
        "print(scores)"
      ],
      "metadata": {
        "colab": {
          "base_uri": "https://localhost:8080/",
          "height": 316
        },
        "id": "Bl2bY5399VHN",
        "outputId": "36231372-99af-4160-bb57-40cd596abf20"
      },
      "execution_count": 46,
      "outputs": [
        {
          "output_type": "error",
          "ename": "ValueError",
          "evalue": "Failed to convert a NumPy array to a Tensor (Unsupported object type Timestamp).",
          "traceback": [
            "\u001b[0;31m---------------------------------------------------------------------------\u001b[0m",
            "\u001b[0;31mValueError\u001b[0m                                Traceback (most recent call last)",
            "\u001b[0;32m<ipython-input-46-08d5afcd86bf>\u001b[0m in \u001b[0;36m<cell line: 1>\u001b[0;34m()\u001b[0m\n\u001b[0;32m----> 1\u001b[0;31m \u001b[0mscores\u001b[0m \u001b[0;34m=\u001b[0m \u001b[0mmodel\u001b[0m\u001b[0;34m.\u001b[0m\u001b[0mevaluate\u001b[0m\u001b[0;34m(\u001b[0m\u001b[0mX_test\u001b[0m\u001b[0;34m,\u001b[0m \u001b[0my_test\u001b[0m\u001b[0;34m)\u001b[0m\u001b[0;34m\u001b[0m\u001b[0;34m\u001b[0m\u001b[0m\n\u001b[0m\u001b[1;32m      2\u001b[0m \u001b[0mprint\u001b[0m\u001b[0;34m(\u001b[0m\u001b[0mscores\u001b[0m\u001b[0;34m)\u001b[0m\u001b[0;34m\u001b[0m\u001b[0;34m\u001b[0m\u001b[0m\n",
            "\u001b[0;32m/usr/local/lib/python3.10/dist-packages/keras/src/utils/traceback_utils.py\u001b[0m in \u001b[0;36merror_handler\u001b[0;34m(*args, **kwargs)\u001b[0m\n\u001b[1;32m     68\u001b[0m             \u001b[0;31m# To get the full stack trace, call:\u001b[0m\u001b[0;34m\u001b[0m\u001b[0;34m\u001b[0m\u001b[0m\n\u001b[1;32m     69\u001b[0m             \u001b[0;31m# `tf.debugging.disable_traceback_filtering()`\u001b[0m\u001b[0;34m\u001b[0m\u001b[0;34m\u001b[0m\u001b[0m\n\u001b[0;32m---> 70\u001b[0;31m             \u001b[0;32mraise\u001b[0m \u001b[0me\u001b[0m\u001b[0;34m.\u001b[0m\u001b[0mwith_traceback\u001b[0m\u001b[0;34m(\u001b[0m\u001b[0mfiltered_tb\u001b[0m\u001b[0;34m)\u001b[0m \u001b[0;32mfrom\u001b[0m \u001b[0;32mNone\u001b[0m\u001b[0;34m\u001b[0m\u001b[0;34m\u001b[0m\u001b[0m\n\u001b[0m\u001b[1;32m     71\u001b[0m         \u001b[0;32mfinally\u001b[0m\u001b[0;34m:\u001b[0m\u001b[0;34m\u001b[0m\u001b[0;34m\u001b[0m\u001b[0m\n\u001b[1;32m     72\u001b[0m             \u001b[0;32mdel\u001b[0m \u001b[0mfiltered_tb\u001b[0m\u001b[0;34m\u001b[0m\u001b[0;34m\u001b[0m\u001b[0m\n",
            "\u001b[0;32m/usr/local/lib/python3.10/dist-packages/tensorflow/python/framework/constant_op.py\u001b[0m in \u001b[0;36mconvert_to_eager_tensor\u001b[0;34m(value, ctx, dtype)\u001b[0m\n\u001b[1;32m    101\u001b[0m       \u001b[0mdtype\u001b[0m \u001b[0;34m=\u001b[0m \u001b[0mdtypes\u001b[0m\u001b[0;34m.\u001b[0m\u001b[0mas_dtype\u001b[0m\u001b[0;34m(\u001b[0m\u001b[0mdtype\u001b[0m\u001b[0;34m)\u001b[0m\u001b[0;34m.\u001b[0m\u001b[0mas_datatype_enum\u001b[0m\u001b[0;34m\u001b[0m\u001b[0;34m\u001b[0m\u001b[0m\n\u001b[1;32m    102\u001b[0m   \u001b[0mctx\u001b[0m\u001b[0;34m.\u001b[0m\u001b[0mensure_initialized\u001b[0m\u001b[0;34m(\u001b[0m\u001b[0;34m)\u001b[0m\u001b[0;34m\u001b[0m\u001b[0;34m\u001b[0m\u001b[0m\n\u001b[0;32m--> 103\u001b[0;31m   \u001b[0;32mreturn\u001b[0m \u001b[0mops\u001b[0m\u001b[0;34m.\u001b[0m\u001b[0mEagerTensor\u001b[0m\u001b[0;34m(\u001b[0m\u001b[0mvalue\u001b[0m\u001b[0;34m,\u001b[0m \u001b[0mctx\u001b[0m\u001b[0;34m.\u001b[0m\u001b[0mdevice_name\u001b[0m\u001b[0;34m,\u001b[0m \u001b[0mdtype\u001b[0m\u001b[0;34m)\u001b[0m\u001b[0;34m\u001b[0m\u001b[0;34m\u001b[0m\u001b[0m\n\u001b[0m\u001b[1;32m    104\u001b[0m \u001b[0;34m\u001b[0m\u001b[0m\n\u001b[1;32m    105\u001b[0m \u001b[0;34m\u001b[0m\u001b[0m\n",
            "\u001b[0;31mValueError\u001b[0m: Failed to convert a NumPy array to a Tensor (Unsupported object type Timestamp)."
          ]
        }
      ]
    },
    {
      "cell_type": "code",
      "source": [
        "import pandas as pd\n",
        "\n",
        "# Convert \"date\" column to Unix timestamp\n",
        "X_test['Date'] = pd.to_datetime(X_test['Date']).astype(int) / 10**9\n",
        "\n",
        "# Proceed with model evaluation\n",
        "scores = model.evaluate(X_test, y_test)\n",
        "print(scores)\n"
      ],
      "metadata": {
        "colab": {
          "base_uri": "https://localhost:8080/"
        },
        "id": "fKugpgLYhNWT",
        "outputId": "57146fa2-28ec-4455-d2b8-077ddd17c106"
      },
      "execution_count": 50,
      "outputs": [
        {
          "output_type": "stream",
          "name": "stdout",
          "text": [
            "7290/7290 [==============================] - 14s 2ms/step - loss: nan - accuracy: 0.2279\n",
            "[nan, 0.22787605226039886]\n"
          ]
        }
      ]
    },
    {
      "cell_type": "code",
      "source": [
        "model.predict(X_test)"
      ],
      "metadata": {
        "colab": {
          "base_uri": "https://localhost:8080/"
        },
        "id": "Ul1WPVGo9Vnx",
        "outputId": "282ca0e1-a515-46ca-92d0-0ffb27dfe500"
      },
      "execution_count": 52,
      "outputs": [
        {
          "output_type": "stream",
          "name": "stdout",
          "text": [
            "7290/7290 [==============================] - 15s 2ms/step\n"
          ]
        },
        {
          "output_type": "execute_result",
          "data": {
            "text/plain": [
              "array([[nan],\n",
              "       [nan],\n",
              "       [nan],\n",
              "       ...,\n",
              "       [nan],\n",
              "       [nan],\n",
              "       [nan]], dtype=float32)"
            ]
          },
          "metadata": {},
          "execution_count": 52
        }
      ]
    },
    {
      "cell_type": "code",
      "source": [
        "X_test_0 = X_test[(y_test==0).to_numpy()]\n",
        "X_test_1 = X_test[(y_test==1).to_numpy()]"
      ],
      "metadata": {
        "id": "GonuDilT9Xx_"
      },
      "execution_count": 54,
      "outputs": []
    },
    {
      "cell_type": "code",
      "source": [
        "hist,bins,_= plt.hist(model.predict(X_test_0),density=1,bins=50,alpha=0.5,label=\"Target 0\")\n",
        "hist,bins,_= plt.hist(model.predict(X_test_1),density=1,bins=bins,alpha=0.5,label=\"Target 1\")\n",
        "plt.legend()"
      ],
      "metadata": {
        "colab": {
          "base_uri": "https://localhost:8080/",
          "height": 819
        },
        "id": "TU7v3tkr9cQh",
        "outputId": "7b183053-56f2-4313-85cb-a6a5585ce78d"
      },
      "execution_count": 56,
      "outputs": [
        {
          "output_type": "stream",
          "name": "stdout",
          "text": [
            "1662/1662 [==============================] - 8s 5ms/step\n"
          ]
        },
        {
          "output_type": "stream",
          "name": "stderr",
          "text": [
            "/usr/local/lib/python3.10/dist-packages/matplotlib/axes/_axes.py:6762: RuntimeWarning: All-NaN slice encountered\n",
            "  xmin = min(xmin, np.nanmin(xi))\n",
            "/usr/local/lib/python3.10/dist-packages/matplotlib/axes/_axes.py:6763: RuntimeWarning: All-NaN slice encountered\n",
            "  xmax = max(xmax, np.nanmax(xi))\n"
          ]
        },
        {
          "output_type": "error",
          "ename": "ValueError",
          "evalue": "autodetected range of [nan, nan] is not finite",
          "traceback": [
            "\u001b[0;31m---------------------------------------------------------------------------\u001b[0m",
            "\u001b[0;31mValueError\u001b[0m                                Traceback (most recent call last)",
            "\u001b[0;32m<ipython-input-56-ff9be0b14491>\u001b[0m in \u001b[0;36m<cell line: 1>\u001b[0;34m()\u001b[0m\n\u001b[0;32m----> 1\u001b[0;31m \u001b[0mhist\u001b[0m\u001b[0;34m,\u001b[0m\u001b[0mbins\u001b[0m\u001b[0;34m,\u001b[0m\u001b[0m_\u001b[0m\u001b[0;34m=\u001b[0m \u001b[0mplt\u001b[0m\u001b[0;34m.\u001b[0m\u001b[0mhist\u001b[0m\u001b[0;34m(\u001b[0m\u001b[0mmodel\u001b[0m\u001b[0;34m.\u001b[0m\u001b[0mpredict\u001b[0m\u001b[0;34m(\u001b[0m\u001b[0mX_test_0\u001b[0m\u001b[0;34m)\u001b[0m\u001b[0;34m,\u001b[0m\u001b[0mdensity\u001b[0m\u001b[0;34m=\u001b[0m\u001b[0;36m1\u001b[0m\u001b[0;34m,\u001b[0m\u001b[0mbins\u001b[0m\u001b[0;34m=\u001b[0m\u001b[0;36m50\u001b[0m\u001b[0;34m,\u001b[0m\u001b[0malpha\u001b[0m\u001b[0;34m=\u001b[0m\u001b[0;36m0.5\u001b[0m\u001b[0;34m,\u001b[0m\u001b[0mlabel\u001b[0m\u001b[0;34m=\u001b[0m\u001b[0;34m\"Target 0\"\u001b[0m\u001b[0;34m)\u001b[0m\u001b[0;34m\u001b[0m\u001b[0;34m\u001b[0m\u001b[0m\n\u001b[0m\u001b[1;32m      2\u001b[0m \u001b[0mhist\u001b[0m\u001b[0;34m,\u001b[0m\u001b[0mbins\u001b[0m\u001b[0;34m,\u001b[0m\u001b[0m_\u001b[0m\u001b[0;34m=\u001b[0m \u001b[0mplt\u001b[0m\u001b[0;34m.\u001b[0m\u001b[0mhist\u001b[0m\u001b[0;34m(\u001b[0m\u001b[0mmodel\u001b[0m\u001b[0;34m.\u001b[0m\u001b[0mpredict\u001b[0m\u001b[0;34m(\u001b[0m\u001b[0mX_test_1\u001b[0m\u001b[0;34m)\u001b[0m\u001b[0;34m,\u001b[0m\u001b[0mdensity\u001b[0m\u001b[0;34m=\u001b[0m\u001b[0;36m1\u001b[0m\u001b[0;34m,\u001b[0m\u001b[0mbins\u001b[0m\u001b[0;34m=\u001b[0m\u001b[0mbins\u001b[0m\u001b[0;34m,\u001b[0m\u001b[0malpha\u001b[0m\u001b[0;34m=\u001b[0m\u001b[0;36m0.5\u001b[0m\u001b[0;34m,\u001b[0m\u001b[0mlabel\u001b[0m\u001b[0;34m=\u001b[0m\u001b[0;34m\"Target 1\"\u001b[0m\u001b[0;34m)\u001b[0m\u001b[0;34m\u001b[0m\u001b[0;34m\u001b[0m\u001b[0m\n\u001b[1;32m      3\u001b[0m \u001b[0mplt\u001b[0m\u001b[0;34m.\u001b[0m\u001b[0mlegend\u001b[0m\u001b[0;34m(\u001b[0m\u001b[0;34m)\u001b[0m\u001b[0;34m\u001b[0m\u001b[0;34m\u001b[0m\u001b[0m\n",
            "\u001b[0;32m/usr/local/lib/python3.10/dist-packages/matplotlib/pyplot.py\u001b[0m in \u001b[0;36mhist\u001b[0;34m(x, bins, range, density, weights, cumulative, bottom, histtype, align, orientation, rwidth, log, color, label, stacked, data, **kwargs)\u001b[0m\n\u001b[1;32m   2643\u001b[0m         \u001b[0morientation\u001b[0m\u001b[0;34m=\u001b[0m\u001b[0;34m'vertical'\u001b[0m\u001b[0;34m,\u001b[0m \u001b[0mrwidth\u001b[0m\u001b[0;34m=\u001b[0m\u001b[0;32mNone\u001b[0m\u001b[0;34m,\u001b[0m \u001b[0mlog\u001b[0m\u001b[0;34m=\u001b[0m\u001b[0;32mFalse\u001b[0m\u001b[0;34m,\u001b[0m \u001b[0mcolor\u001b[0m\u001b[0;34m=\u001b[0m\u001b[0;32mNone\u001b[0m\u001b[0;34m,\u001b[0m\u001b[0;34m\u001b[0m\u001b[0;34m\u001b[0m\u001b[0m\n\u001b[1;32m   2644\u001b[0m         label=None, stacked=False, *, data=None, **kwargs):\n\u001b[0;32m-> 2645\u001b[0;31m     return gca().hist(\n\u001b[0m\u001b[1;32m   2646\u001b[0m         \u001b[0mx\u001b[0m\u001b[0;34m,\u001b[0m \u001b[0mbins\u001b[0m\u001b[0;34m=\u001b[0m\u001b[0mbins\u001b[0m\u001b[0;34m,\u001b[0m \u001b[0mrange\u001b[0m\u001b[0;34m=\u001b[0m\u001b[0mrange\u001b[0m\u001b[0;34m,\u001b[0m \u001b[0mdensity\u001b[0m\u001b[0;34m=\u001b[0m\u001b[0mdensity\u001b[0m\u001b[0;34m,\u001b[0m \u001b[0mweights\u001b[0m\u001b[0;34m=\u001b[0m\u001b[0mweights\u001b[0m\u001b[0;34m,\u001b[0m\u001b[0;34m\u001b[0m\u001b[0;34m\u001b[0m\u001b[0m\n\u001b[1;32m   2647\u001b[0m         \u001b[0mcumulative\u001b[0m\u001b[0;34m=\u001b[0m\u001b[0mcumulative\u001b[0m\u001b[0;34m,\u001b[0m \u001b[0mbottom\u001b[0m\u001b[0;34m=\u001b[0m\u001b[0mbottom\u001b[0m\u001b[0;34m,\u001b[0m \u001b[0mhisttype\u001b[0m\u001b[0;34m=\u001b[0m\u001b[0mhisttype\u001b[0m\u001b[0;34m,\u001b[0m\u001b[0;34m\u001b[0m\u001b[0;34m\u001b[0m\u001b[0m\n",
            "\u001b[0;32m/usr/local/lib/python3.10/dist-packages/matplotlib/__init__.py\u001b[0m in \u001b[0;36minner\u001b[0;34m(ax, data, *args, **kwargs)\u001b[0m\n\u001b[1;32m   1440\u001b[0m     \u001b[0;32mdef\u001b[0m \u001b[0minner\u001b[0m\u001b[0;34m(\u001b[0m\u001b[0max\u001b[0m\u001b[0;34m,\u001b[0m \u001b[0;34m*\u001b[0m\u001b[0margs\u001b[0m\u001b[0;34m,\u001b[0m \u001b[0mdata\u001b[0m\u001b[0;34m=\u001b[0m\u001b[0;32mNone\u001b[0m\u001b[0;34m,\u001b[0m \u001b[0;34m**\u001b[0m\u001b[0mkwargs\u001b[0m\u001b[0;34m)\u001b[0m\u001b[0;34m:\u001b[0m\u001b[0;34m\u001b[0m\u001b[0;34m\u001b[0m\u001b[0m\n\u001b[1;32m   1441\u001b[0m         \u001b[0;32mif\u001b[0m \u001b[0mdata\u001b[0m \u001b[0;32mis\u001b[0m \u001b[0;32mNone\u001b[0m\u001b[0;34m:\u001b[0m\u001b[0;34m\u001b[0m\u001b[0;34m\u001b[0m\u001b[0m\n\u001b[0;32m-> 1442\u001b[0;31m             \u001b[0;32mreturn\u001b[0m \u001b[0mfunc\u001b[0m\u001b[0;34m(\u001b[0m\u001b[0max\u001b[0m\u001b[0;34m,\u001b[0m \u001b[0;34m*\u001b[0m\u001b[0mmap\u001b[0m\u001b[0;34m(\u001b[0m\u001b[0msanitize_sequence\u001b[0m\u001b[0;34m,\u001b[0m \u001b[0margs\u001b[0m\u001b[0;34m)\u001b[0m\u001b[0;34m,\u001b[0m \u001b[0;34m**\u001b[0m\u001b[0mkwargs\u001b[0m\u001b[0;34m)\u001b[0m\u001b[0;34m\u001b[0m\u001b[0;34m\u001b[0m\u001b[0m\n\u001b[0m\u001b[1;32m   1443\u001b[0m \u001b[0;34m\u001b[0m\u001b[0m\n\u001b[1;32m   1444\u001b[0m         \u001b[0mbound\u001b[0m \u001b[0;34m=\u001b[0m \u001b[0mnew_sig\u001b[0m\u001b[0;34m.\u001b[0m\u001b[0mbind\u001b[0m\u001b[0;34m(\u001b[0m\u001b[0max\u001b[0m\u001b[0;34m,\u001b[0m \u001b[0;34m*\u001b[0m\u001b[0margs\u001b[0m\u001b[0;34m,\u001b[0m \u001b[0;34m**\u001b[0m\u001b[0mkwargs\u001b[0m\u001b[0;34m)\u001b[0m\u001b[0;34m\u001b[0m\u001b[0;34m\u001b[0m\u001b[0m\n",
            "\u001b[0;32m/usr/local/lib/python3.10/dist-packages/matplotlib/axes/_axes.py\u001b[0m in \u001b[0;36mhist\u001b[0;34m(self, x, bins, range, density, weights, cumulative, bottom, histtype, align, orientation, rwidth, log, color, label, stacked, **kwargs)\u001b[0m\n\u001b[1;32m   6788\u001b[0m             \u001b[0;31m# this will automatically overwrite bins,\u001b[0m\u001b[0;34m\u001b[0m\u001b[0;34m\u001b[0m\u001b[0m\n\u001b[1;32m   6789\u001b[0m             \u001b[0;31m# so that each histogram uses the same bins\u001b[0m\u001b[0;34m\u001b[0m\u001b[0;34m\u001b[0m\u001b[0m\n\u001b[0;32m-> 6790\u001b[0;31m             \u001b[0mm\u001b[0m\u001b[0;34m,\u001b[0m \u001b[0mbins\u001b[0m \u001b[0;34m=\u001b[0m \u001b[0mnp\u001b[0m\u001b[0;34m.\u001b[0m\u001b[0mhistogram\u001b[0m\u001b[0;34m(\u001b[0m\u001b[0mx\u001b[0m\u001b[0;34m[\u001b[0m\u001b[0mi\u001b[0m\u001b[0;34m]\u001b[0m\u001b[0;34m,\u001b[0m \u001b[0mbins\u001b[0m\u001b[0;34m,\u001b[0m \u001b[0mweights\u001b[0m\u001b[0;34m=\u001b[0m\u001b[0mw\u001b[0m\u001b[0;34m[\u001b[0m\u001b[0mi\u001b[0m\u001b[0;34m]\u001b[0m\u001b[0;34m,\u001b[0m \u001b[0;34m**\u001b[0m\u001b[0mhist_kwargs\u001b[0m\u001b[0;34m)\u001b[0m\u001b[0;34m\u001b[0m\u001b[0;34m\u001b[0m\u001b[0m\n\u001b[0m\u001b[1;32m   6791\u001b[0m             \u001b[0mtops\u001b[0m\u001b[0;34m.\u001b[0m\u001b[0mappend\u001b[0m\u001b[0;34m(\u001b[0m\u001b[0mm\u001b[0m\u001b[0;34m)\u001b[0m\u001b[0;34m\u001b[0m\u001b[0;34m\u001b[0m\u001b[0m\n\u001b[1;32m   6792\u001b[0m         \u001b[0mtops\u001b[0m \u001b[0;34m=\u001b[0m \u001b[0mnp\u001b[0m\u001b[0;34m.\u001b[0m\u001b[0marray\u001b[0m\u001b[0;34m(\u001b[0m\u001b[0mtops\u001b[0m\u001b[0;34m,\u001b[0m \u001b[0mfloat\u001b[0m\u001b[0;34m)\u001b[0m  \u001b[0;31m# causes problems later if it's an int\u001b[0m\u001b[0;34m\u001b[0m\u001b[0;34m\u001b[0m\u001b[0m\n",
            "\u001b[0;32m/usr/local/lib/python3.10/dist-packages/numpy/lib/histograms.py\u001b[0m in \u001b[0;36mhistogram\u001b[0;34m(a, bins, range, density, weights)\u001b[0m\n\u001b[1;32m    778\u001b[0m     \u001b[0ma\u001b[0m\u001b[0;34m,\u001b[0m \u001b[0mweights\u001b[0m \u001b[0;34m=\u001b[0m \u001b[0m_ravel_and_check_weights\u001b[0m\u001b[0;34m(\u001b[0m\u001b[0ma\u001b[0m\u001b[0;34m,\u001b[0m \u001b[0mweights\u001b[0m\u001b[0;34m)\u001b[0m\u001b[0;34m\u001b[0m\u001b[0;34m\u001b[0m\u001b[0m\n\u001b[1;32m    779\u001b[0m \u001b[0;34m\u001b[0m\u001b[0m\n\u001b[0;32m--> 780\u001b[0;31m     \u001b[0mbin_edges\u001b[0m\u001b[0;34m,\u001b[0m \u001b[0muniform_bins\u001b[0m \u001b[0;34m=\u001b[0m \u001b[0m_get_bin_edges\u001b[0m\u001b[0;34m(\u001b[0m\u001b[0ma\u001b[0m\u001b[0;34m,\u001b[0m \u001b[0mbins\u001b[0m\u001b[0;34m,\u001b[0m \u001b[0mrange\u001b[0m\u001b[0;34m,\u001b[0m \u001b[0mweights\u001b[0m\u001b[0;34m)\u001b[0m\u001b[0;34m\u001b[0m\u001b[0;34m\u001b[0m\u001b[0m\n\u001b[0m\u001b[1;32m    781\u001b[0m \u001b[0;34m\u001b[0m\u001b[0m\n\u001b[1;32m    782\u001b[0m     \u001b[0;31m# Histogram is an integer or a float array depending on the weights.\u001b[0m\u001b[0;34m\u001b[0m\u001b[0;34m\u001b[0m\u001b[0m\n",
            "\u001b[0;32m/usr/local/lib/python3.10/dist-packages/numpy/lib/histograms.py\u001b[0m in \u001b[0;36m_get_bin_edges\u001b[0;34m(a, bins, range, weights)\u001b[0m\n\u001b[1;32m    424\u001b[0m             \u001b[0;32mraise\u001b[0m \u001b[0mValueError\u001b[0m\u001b[0;34m(\u001b[0m\u001b[0;34m'`bins` must be positive, when an integer'\u001b[0m\u001b[0;34m)\u001b[0m\u001b[0;34m\u001b[0m\u001b[0;34m\u001b[0m\u001b[0m\n\u001b[1;32m    425\u001b[0m \u001b[0;34m\u001b[0m\u001b[0m\n\u001b[0;32m--> 426\u001b[0;31m         \u001b[0mfirst_edge\u001b[0m\u001b[0;34m,\u001b[0m \u001b[0mlast_edge\u001b[0m \u001b[0;34m=\u001b[0m \u001b[0m_get_outer_edges\u001b[0m\u001b[0;34m(\u001b[0m\u001b[0ma\u001b[0m\u001b[0;34m,\u001b[0m \u001b[0mrange\u001b[0m\u001b[0;34m)\u001b[0m\u001b[0;34m\u001b[0m\u001b[0;34m\u001b[0m\u001b[0m\n\u001b[0m\u001b[1;32m    427\u001b[0m \u001b[0;34m\u001b[0m\u001b[0m\n\u001b[1;32m    428\u001b[0m     \u001b[0;32melif\u001b[0m \u001b[0mnp\u001b[0m\u001b[0;34m.\u001b[0m\u001b[0mndim\u001b[0m\u001b[0;34m(\u001b[0m\u001b[0mbins\u001b[0m\u001b[0;34m)\u001b[0m \u001b[0;34m==\u001b[0m \u001b[0;36m1\u001b[0m\u001b[0;34m:\u001b[0m\u001b[0;34m\u001b[0m\u001b[0;34m\u001b[0m\u001b[0m\n",
            "\u001b[0;32m/usr/local/lib/python3.10/dist-packages/numpy/lib/histograms.py\u001b[0m in \u001b[0;36m_get_outer_edges\u001b[0;34m(a, range)\u001b[0m\n\u001b[1;32m    321\u001b[0m         \u001b[0mfirst_edge\u001b[0m\u001b[0;34m,\u001b[0m \u001b[0mlast_edge\u001b[0m \u001b[0;34m=\u001b[0m \u001b[0ma\u001b[0m\u001b[0;34m.\u001b[0m\u001b[0mmin\u001b[0m\u001b[0;34m(\u001b[0m\u001b[0;34m)\u001b[0m\u001b[0;34m,\u001b[0m \u001b[0ma\u001b[0m\u001b[0;34m.\u001b[0m\u001b[0mmax\u001b[0m\u001b[0;34m(\u001b[0m\u001b[0;34m)\u001b[0m\u001b[0;34m\u001b[0m\u001b[0;34m\u001b[0m\u001b[0m\n\u001b[1;32m    322\u001b[0m         \u001b[0;32mif\u001b[0m \u001b[0;32mnot\u001b[0m \u001b[0;34m(\u001b[0m\u001b[0mnp\u001b[0m\u001b[0;34m.\u001b[0m\u001b[0misfinite\u001b[0m\u001b[0;34m(\u001b[0m\u001b[0mfirst_edge\u001b[0m\u001b[0;34m)\u001b[0m \u001b[0;32mand\u001b[0m \u001b[0mnp\u001b[0m\u001b[0;34m.\u001b[0m\u001b[0misfinite\u001b[0m\u001b[0;34m(\u001b[0m\u001b[0mlast_edge\u001b[0m\u001b[0;34m)\u001b[0m\u001b[0;34m)\u001b[0m\u001b[0;34m:\u001b[0m\u001b[0;34m\u001b[0m\u001b[0;34m\u001b[0m\u001b[0m\n\u001b[0;32m--> 323\u001b[0;31m             raise ValueError(\n\u001b[0m\u001b[1;32m    324\u001b[0m                 \"autodetected range of [{}, {}] is not finite\".format(first_edge, last_edge))\n\u001b[1;32m    325\u001b[0m \u001b[0;34m\u001b[0m\u001b[0m\n",
            "\u001b[0;31mValueError\u001b[0m: autodetected range of [nan, nan] is not finite"
          ]
        },
        {
          "output_type": "display_data",
          "data": {
            "text/plain": [
              "<Figure size 640x480 with 1 Axes>"
            ],
            "image/png": "[encoded data removed]"
          },
          "metadata": {}
        }
      ]
    },
    {
      "cell_type": "code",
      "source": [
        "import numpy as np\n",
        "import matplotlib.pyplot as plt\n",
        "\n",
        "# Check for NaN values in predictions for target 0\n",
        "predictions_0 = model.predict(X_test_0)\n",
        "if np.isnan(predictions_0).any():\n",
        "    print(\"Warning: NaN values found in predictions for target 0.\")\n",
        "else:\n",
        "    hist, bins, _ = plt.hist(predictions_0, density=1, bins=50, alpha=0.5, label=\"Target 0\")\n",
        "\n",
        "# Check for NaN values in predictions for target 1\n",
        "predictions_1 = model.predict(X_test_1)\n",
        "if np.isnan(predictions_1).any():\n",
        "    print(\"Warning: NaN values found in predictions for target 1.\")\n",
        "else:\n",
        "    hist, bins, _ = plt.hist(predictions_1, density=1, bins=bins, alpha=0.5, label=\"Target 1\")\n",
        "\n",
        "plt.legend()\n",
        "plt.show()\n"
      ],
      "metadata": {
        "colab": {
          "base_uri": "https://localhost:8080/",
          "height": 540
        },
        "id": "zNzNFw-Ui5jk",
        "outputId": "28da92af-6570-4e4a-b726-c05283ba4e3c"
      },
      "execution_count": 59,
      "outputs": [
        {
          "output_type": "stream",
          "name": "stdout",
          "text": [
            "1662/1662 [==============================] - 4s 2ms/step\n",
            "Warning: NaN values found in predictions for target 0.\n",
            "1744/1744 [==============================] - 3s 2ms/step\n"
          ]
        },
        {
          "output_type": "stream",
          "name": "stderr",
          "text": [
            "WARNING:matplotlib.legend:No artists with labels found to put in legend.  Note that artists whose label start with an underscore are ignored when legend() is called with no argument.\n"
          ]
        },
        {
          "output_type": "stream",
          "name": "stdout",
          "text": [
            "Warning: NaN values found in predictions for target 1.\n"
          ]
        },
        {
          "output_type": "display_data",
          "data": {
            "text/plain": [
              "<Figure size 640x480 with 1 Axes>"
            ],
            "image/png": "[encoded data removed]"
          },
          "metadata": {}
        }
      ]
    },
    {
      "cell_type": "code",
      "source": [
        "from sklearn.metrics import roc_curve, auc\n",
        "fpr, tpr, _ = roc_curve(y_test, model.predict(X_test))\n",
        "\n",
        "roc_auc = auc(fpr, tpr)\n",
        "\n",
        "plt.plot(fpr,tpr,color='darkorange',label='ROC curve (area = %0.2f)' % roc_auc)\n",
        "plt.legend(loc=\"lower right\")\n",
        "plt.xlabel('False Positive Rate')\n",
        "plt.ylabel('True Positive Rate')\n",
        "\n",
        "plt.show()"
      ],
      "metadata": {
        "colab": {
          "base_uri": "https://localhost:8080/",
          "height": 384
        },
        "id": "Kpao9IUK9fMv",
        "outputId": "6f71b6e9-4df0-4489-ecbc-c439b8d23601"
      },
      "execution_count": 61,
      "outputs": [
        {
          "output_type": "stream",
          "name": "stdout",
          "text": [
            "7290/7290 [==============================] - 17s 2ms/step\n"
          ]
        },
        {
          "output_type": "error",
          "ename": "ValueError",
          "evalue": "multiclass format is not supported",
          "traceback": [
            "\u001b[0;31m---------------------------------------------------------------------------\u001b[0m",
            "\u001b[0;31mValueError\u001b[0m                                Traceback (most recent call last)",
            "\u001b[0;32m<ipython-input-61-e34ad01c5808>\u001b[0m in \u001b[0;36m<cell line: 2>\u001b[0;34m()\u001b[0m\n\u001b[1;32m      1\u001b[0m \u001b[0;32mfrom\u001b[0m \u001b[0msklearn\u001b[0m\u001b[0;34m.\u001b[0m\u001b[0mmetrics\u001b[0m \u001b[0;32mimport\u001b[0m \u001b[0mroc_curve\u001b[0m\u001b[0;34m,\u001b[0m \u001b[0mauc\u001b[0m\u001b[0;34m\u001b[0m\u001b[0;34m\u001b[0m\u001b[0m\n\u001b[0;32m----> 2\u001b[0;31m \u001b[0mfpr\u001b[0m\u001b[0;34m,\u001b[0m \u001b[0mtpr\u001b[0m\u001b[0;34m,\u001b[0m \u001b[0m_\u001b[0m \u001b[0;34m=\u001b[0m \u001b[0mroc_curve\u001b[0m\u001b[0;34m(\u001b[0m\u001b[0my_test\u001b[0m\u001b[0;34m,\u001b[0m \u001b[0mmodel\u001b[0m\u001b[0;34m.\u001b[0m\u001b[0mpredict\u001b[0m\u001b[0;34m(\u001b[0m\u001b[0mX_test\u001b[0m\u001b[0;34m)\u001b[0m\u001b[0;34m)\u001b[0m\u001b[0;34m\u001b[0m\u001b[0;34m\u001b[0m\u001b[0m\n\u001b[0m\u001b[1;32m      3\u001b[0m \u001b[0;34m\u001b[0m\u001b[0m\n\u001b[1;32m      4\u001b[0m \u001b[0mroc_auc\u001b[0m \u001b[0;34m=\u001b[0m \u001b[0mauc\u001b[0m\u001b[0;34m(\u001b[0m\u001b[0mfpr\u001b[0m\u001b[0;34m,\u001b[0m \u001b[0mtpr\u001b[0m\u001b[0;34m)\u001b[0m\u001b[0;34m\u001b[0m\u001b[0;34m\u001b[0m\u001b[0m\n\u001b[1;32m      5\u001b[0m \u001b[0;34m\u001b[0m\u001b[0m\n",
            "\u001b[0;32m/usr/local/lib/python3.10/dist-packages/sklearn/metrics/_ranking.py\u001b[0m in \u001b[0;36mroc_curve\u001b[0;34m(y_true, y_score, pos_label, sample_weight, drop_intermediate)\u001b[0m\n\u001b[1;32m    990\u001b[0m     \u001b[0marray\u001b[0m\u001b[0;34m(\u001b[0m\u001b[0;34m[\u001b[0m\u001b[0;36m1.8\u001b[0m \u001b[0;34m,\u001b[0m \u001b[0;36m0.8\u001b[0m \u001b[0;34m,\u001b[0m \u001b[0;36m0.4\u001b[0m \u001b[0;34m,\u001b[0m \u001b[0;36m0.35\u001b[0m\u001b[0;34m,\u001b[0m \u001b[0;36m0.1\u001b[0m \u001b[0;34m]\u001b[0m\u001b[0;34m)\u001b[0m\u001b[0;34m\u001b[0m\u001b[0;34m\u001b[0m\u001b[0m\n\u001b[1;32m    991\u001b[0m     \"\"\"\n\u001b[0;32m--> 992\u001b[0;31m     fps, tps, thresholds = _binary_clf_curve(\n\u001b[0m\u001b[1;32m    993\u001b[0m         \u001b[0my_true\u001b[0m\u001b[0;34m,\u001b[0m \u001b[0my_score\u001b[0m\u001b[0;34m,\u001b[0m \u001b[0mpos_label\u001b[0m\u001b[0;34m=\u001b[0m\u001b[0mpos_label\u001b[0m\u001b[0;34m,\u001b[0m \u001b[0msample_weight\u001b[0m\u001b[0;34m=\u001b[0m\u001b[0msample_weight\u001b[0m\u001b[0;34m\u001b[0m\u001b[0;34m\u001b[0m\u001b[0m\n\u001b[1;32m    994\u001b[0m     )\n",
            "\u001b[0;32m/usr/local/lib/python3.10/dist-packages/sklearn/metrics/_ranking.py\u001b[0m in \u001b[0;36m_binary_clf_curve\u001b[0;34m(y_true, y_score, pos_label, sample_weight)\u001b[0m\n\u001b[1;32m    747\u001b[0m     \u001b[0my_type\u001b[0m \u001b[0;34m=\u001b[0m \u001b[0mtype_of_target\u001b[0m\u001b[0;34m(\u001b[0m\u001b[0my_true\u001b[0m\u001b[0;34m,\u001b[0m \u001b[0minput_name\u001b[0m\u001b[0;34m=\u001b[0m\u001b[0;34m\"y_true\"\u001b[0m\u001b[0;34m)\u001b[0m\u001b[0;34m\u001b[0m\u001b[0;34m\u001b[0m\u001b[0m\n\u001b[1;32m    748\u001b[0m     \u001b[0;32mif\u001b[0m \u001b[0;32mnot\u001b[0m \u001b[0;34m(\u001b[0m\u001b[0my_type\u001b[0m \u001b[0;34m==\u001b[0m \u001b[0;34m\"binary\"\u001b[0m \u001b[0;32mor\u001b[0m \u001b[0;34m(\u001b[0m\u001b[0my_type\u001b[0m \u001b[0;34m==\u001b[0m \u001b[0;34m\"multiclass\"\u001b[0m \u001b[0;32mand\u001b[0m \u001b[0mpos_label\u001b[0m \u001b[0;32mis\u001b[0m \u001b[0;32mnot\u001b[0m \u001b[0;32mNone\u001b[0m\u001b[0;34m)\u001b[0m\u001b[0;34m)\u001b[0m\u001b[0;34m:\u001b[0m\u001b[0;34m\u001b[0m\u001b[0;34m\u001b[0m\u001b[0m\n\u001b[0;32m--> 749\u001b[0;31m         \u001b[0;32mraise\u001b[0m \u001b[0mValueError\u001b[0m\u001b[0;34m(\u001b[0m\u001b[0;34m\"{0} format is not supported\"\u001b[0m\u001b[0;34m.\u001b[0m\u001b[0mformat\u001b[0m\u001b[0;34m(\u001b[0m\u001b[0my_type\u001b[0m\u001b[0;34m)\u001b[0m\u001b[0;34m)\u001b[0m\u001b[0;34m\u001b[0m\u001b[0;34m\u001b[0m\u001b[0m\n\u001b[0m\u001b[1;32m    750\u001b[0m \u001b[0;34m\u001b[0m\u001b[0m\n\u001b[1;32m    751\u001b[0m     \u001b[0mcheck_consistent_length\u001b[0m\u001b[0;34m(\u001b[0m\u001b[0my_true\u001b[0m\u001b[0;34m,\u001b[0m \u001b[0my_score\u001b[0m\u001b[0;34m,\u001b[0m \u001b[0msample_weight\u001b[0m\u001b[0;34m)\u001b[0m\u001b[0;34m\u001b[0m\u001b[0;34m\u001b[0m\u001b[0m\n",
            "\u001b[0;31mValueError\u001b[0m: multiclass format is not supported"
          ]
        }
      ]
    },
    {
      "cell_type": "code",
      "source": [
        "from tensorflow.keras.models import load_model\n",
        "model.save('/content/drive/MyDrive/Saved Models.hdfs')"
      ],
      "metadata": {
        "id": "j__rKEhX9iiz"
      },
      "execution_count": 64,
      "outputs": []
    },
    {
      "cell_type": "code",
      "source": [
        "# Comparison with my previous model"
      ],
      "metadata": {
        "id": "IwJIWPUYJpNW"
      },
      "execution_count": null,
      "outputs": []
    },
    {
      "cell_type": "code",
      "source": [
        "import numpy as np\n",
        "\n",
        "# Define the Node class for the Decision Tree\n",
        "class Node:\n",
        "    def __init__(self, feature=None, threshold=None, left=None, right=None, value=None):\n",
        "        self.feature = feature  # Feature index for splitting\n",
        "        self.threshold = threshold  # Threshold for splitting\n",
        "        self.left = left  # Left child node\n",
        "        self.right = right  # Right child node\n",
        "        self.value = value  # Value for leaf nodes\n",
        "\n",
        "# Define the Decision Tree class\n",
        "class DecisionTree:\n",
        "    def __init__(self, max_depth=None, min_samples_split=2):\n",
        "        self.max_depth = max_depth\n",
        "        self.min_samples_split = min_samples_split\n",
        "        self.root = None\n",
        "\n",
        "    def fit(self, X, y):\n",
        "        self.root = self._grow_tree(X, y.astype(int))\n",
        "\n",
        "\n",
        "    def predict(self, X):\n",
        "        return np.array([self._predict_row(x, self.root) for x in X])\n",
        "\n",
        "    def _grow_tree(self, X, y, depth=0):\n",
        "        n_samples, n_features = X.shape\n",
        "        n_classes = len(np.unique(y))\n",
        "\n",
        "        # Stopping criteria\n",
        "        if (self.max_depth is not None and depth >= self.max_depth) or n_classes == 1 or n_samples < self.min_samples_split:\n",
        "            value = np.bincount(y).argmax()\n",
        "            return Node(value=value)\n",
        "\n",
        "        # Find the best split\n",
        "        best_gini = float('inf')\n",
        "        best_feature, best_threshold = None, None\n",
        "        for feature in range(n_features):\n",
        "            thresholds = np.unique(X[:, feature])\n",
        "            for threshold in thresholds:\n",
        "                left_indices = np.where(X[:, feature] <= threshold)[0]\n",
        "                right_indices = np.where(X[:, feature] > threshold)[0]\n",
        "\n",
        "                if len(left_indices) == 0 or len(right_indices) == 0:\n",
        "                    continue\n",
        "\n",
        "                gini = self._gini_impurity(y[left_indices], y[right_indices])\n",
        "                if gini < best_gini:\n",
        "                    best_gini = gini\n",
        "                    best_feature = feature\n",
        "                    best_threshold = threshold\n",
        "\n",
        "        # Split the dataset\n",
        "        left_indices = np.where(X[:, best_feature] <= best_threshold)[0]\n",
        "        right_indices = np.where(X[:, best_feature] > best_threshold)[0]\n",
        "        left_child = self._grow_tree(X[left_indices], y[left_indices], depth + 1)\n",
        "        right_child = self._grow_tree(X[right_indices], y[right_indices], depth + 1)\n",
        "\n",
        "        return Node(feature=best_feature, threshold=best_threshold, left=left_child, right=right_child)\n",
        "\n",
        "    def _predict_row(self, x, node):\n",
        "        if node.value is not None:\n",
        "            return node.value\n",
        "        if x[node.feature] <= node.threshold:\n",
        "            return self._predict_row(x, node.left)\n",
        "        else:\n",
        "            return self._predict_row(x, node.right)\n",
        "\n",
        "    def _gini_impurity(self, left_y, right_y):\n",
        "        n = len(left_y) + len(right_y)\n",
        "        p_left = len(left_y) / n\n",
        "        p_right = len(right_y) / n\n",
        "        return p_left * self._calc_gini(left_y) + p_right * self._calc_gini(right_y)\n",
        "\n",
        "    def _calc_gini(self, y):\n",
        "        if len(y) == 0:\n",
        "            return 0\n",
        "        p = np.bincount(np.round(y).astype(int)) / len(y)\n",
        "        return 1 - np.sum(p ** 2)\n",
        "\n",
        "\n",
        "# Define the size of the test set (e.g., 20% of the total data)\n",
        "test_size = 0.2\n",
        "\n",
        "# Split the data into training and test sets\n",
        "train_data = df.sample(frac=1-test_size, random_state=42)  # Use 80% of the data for training\n",
        "test_data = df.drop(train_data.index)  # Use the remaining 20% for testing\n",
        "\n",
        "# Example usage:\n",
        "# Instantiate and train the model\n",
        "tree = DecisionTree(max_depth=3)\n",
        "X_train = train_data.drop(columns=['Close']).values\n",
        "y_train = train_data['Close'].values\n",
        "tree.fit(X_train, y_train)\n",
        "\n",
        "# Make predictions\n",
        "X_test = test_data.drop(columns=['Close']).values\n",
        "predictions = tree.predict(X_test)\n",
        "print(predictions)"
      ],
      "metadata": {
        "colab": {
          "base_uri": "https://localhost:8080/",
          "height": 282
        },
        "id": "Pg46SGnhI9Df",
        "outputId": "7bbf716d-5d35-4d4a-9ed9-f749bb522104"
      },
      "execution_count": 62,
      "outputs": [
        {
          "output_type": "error",
          "ename": "KeyboardInterrupt",
          "evalue": "",
          "traceback": [
            "\u001b[0;31m---------------------------------------------------------------------------\u001b[0m",
            "\u001b[0;31mKeyboardInterrupt\u001b[0m                         Traceback (most recent call last)",
            "\u001b[0;32m<ipython-input-62-5d4c28197734>\u001b[0m in \u001b[0;36m<cell line: 94>\u001b[0;34m()\u001b[0m\n\u001b[1;32m     92\u001b[0m \u001b[0mX_train\u001b[0m \u001b[0;34m=\u001b[0m \u001b[0mtrain_data\u001b[0m\u001b[0;34m.\u001b[0m\u001b[0mdrop\u001b[0m\u001b[0;34m(\u001b[0m\u001b[0mcolumns\u001b[0m\u001b[0;34m=\u001b[0m\u001b[0;34m[\u001b[0m\u001b[0;34m'Close'\u001b[0m\u001b[0;34m]\u001b[0m\u001b[0;34m)\u001b[0m\u001b[0;34m.\u001b[0m\u001b[0mvalues\u001b[0m\u001b[0;34m\u001b[0m\u001b[0;34m\u001b[0m\u001b[0m\n\u001b[1;32m     93\u001b[0m \u001b[0my_train\u001b[0m \u001b[0;34m=\u001b[0m \u001b[0mtrain_data\u001b[0m\u001b[0;34m[\u001b[0m\u001b[0;34m'Close'\u001b[0m\u001b[0;34m]\u001b[0m\u001b[0;34m.\u001b[0m\u001b[0mvalues\u001b[0m\u001b[0;34m\u001b[0m\u001b[0;34m\u001b[0m\u001b[0m\n\u001b[0;32m---> 94\u001b[0;31m \u001b[0mtree\u001b[0m\u001b[0;34m.\u001b[0m\u001b[0mfit\u001b[0m\u001b[0;34m(\u001b[0m\u001b[0mX_train\u001b[0m\u001b[0;34m,\u001b[0m \u001b[0my_train\u001b[0m\u001b[0;34m)\u001b[0m\u001b[0;34m\u001b[0m\u001b[0;34m\u001b[0m\u001b[0m\n\u001b[0m\u001b[1;32m     95\u001b[0m \u001b[0;34m\u001b[0m\u001b[0m\n\u001b[1;32m     96\u001b[0m \u001b[0;31m# Make predictions\u001b[0m\u001b[0;34m\u001b[0m\u001b[0;34m\u001b[0m\u001b[0m\n",
            "\u001b[0;32m<ipython-input-62-5d4c28197734>\u001b[0m in \u001b[0;36mfit\u001b[0;34m(self, X, y)\u001b[0m\n\u001b[1;32m     18\u001b[0m \u001b[0;34m\u001b[0m\u001b[0m\n\u001b[1;32m     19\u001b[0m     \u001b[0;32mdef\u001b[0m \u001b[0mfit\u001b[0m\u001b[0;34m(\u001b[0m\u001b[0mself\u001b[0m\u001b[0;34m,\u001b[0m \u001b[0mX\u001b[0m\u001b[0;34m,\u001b[0m \u001b[0my\u001b[0m\u001b[0;34m)\u001b[0m\u001b[0;34m:\u001b[0m\u001b[0;34m\u001b[0m\u001b[0;34m\u001b[0m\u001b[0m\n\u001b[0;32m---> 20\u001b[0;31m         \u001b[0mself\u001b[0m\u001b[0;34m.\u001b[0m\u001b[0mroot\u001b[0m \u001b[0;34m=\u001b[0m \u001b[0mself\u001b[0m\u001b[0;34m.\u001b[0m\u001b[0m_grow_tree\u001b[0m\u001b[0;34m(\u001b[0m\u001b[0mX\u001b[0m\u001b[0;34m,\u001b[0m \u001b[0my\u001b[0m\u001b[0;34m.\u001b[0m\u001b[0mastype\u001b[0m\u001b[0;34m(\u001b[0m\u001b[0mint\u001b[0m\u001b[0;34m)\u001b[0m\u001b[0;34m)\u001b[0m\u001b[0;34m\u001b[0m\u001b[0;34m\u001b[0m\u001b[0m\n\u001b[0m\u001b[1;32m     21\u001b[0m \u001b[0;34m\u001b[0m\u001b[0m\n\u001b[1;32m     22\u001b[0m \u001b[0;34m\u001b[0m\u001b[0m\n",
            "\u001b[0;32m<ipython-input-62-5d4c28197734>\u001b[0m in \u001b[0;36m_grow_tree\u001b[0;34m(self, X, y, depth)\u001b[0m\n\u001b[1;32m     39\u001b[0m             \u001b[0mthresholds\u001b[0m \u001b[0;34m=\u001b[0m \u001b[0mnp\u001b[0m\u001b[0;34m.\u001b[0m\u001b[0munique\u001b[0m\u001b[0;34m(\u001b[0m\u001b[0mX\u001b[0m\u001b[0;34m[\u001b[0m\u001b[0;34m:\u001b[0m\u001b[0;34m,\u001b[0m \u001b[0mfeature\u001b[0m\u001b[0;34m]\u001b[0m\u001b[0;34m)\u001b[0m\u001b[0;34m\u001b[0m\u001b[0;34m\u001b[0m\u001b[0m\n\u001b[1;32m     40\u001b[0m             \u001b[0;32mfor\u001b[0m \u001b[0mthreshold\u001b[0m \u001b[0;32min\u001b[0m \u001b[0mthresholds\u001b[0m\u001b[0;34m:\u001b[0m\u001b[0;34m\u001b[0m\u001b[0;34m\u001b[0m\u001b[0m\n\u001b[0;32m---> 41\u001b[0;31m                 \u001b[0mleft_indices\u001b[0m \u001b[0;34m=\u001b[0m \u001b[0mnp\u001b[0m\u001b[0;34m.\u001b[0m\u001b[0mwhere\u001b[0m\u001b[0;34m(\u001b[0m\u001b[0mX\u001b[0m\u001b[0;34m[\u001b[0m\u001b[0;34m:\u001b[0m\u001b[0;34m,\u001b[0m \u001b[0mfeature\u001b[0m\u001b[0;34m]\u001b[0m \u001b[0;34m<=\u001b[0m \u001b[0mthreshold\u001b[0m\u001b[0;34m)\u001b[0m\u001b[0;34m[\u001b[0m\u001b[0;36m0\u001b[0m\u001b[0;34m]\u001b[0m\u001b[0;34m\u001b[0m\u001b[0;34m\u001b[0m\u001b[0m\n\u001b[0m\u001b[1;32m     42\u001b[0m                 \u001b[0mright_indices\u001b[0m \u001b[0;34m=\u001b[0m \u001b[0mnp\u001b[0m\u001b[0;34m.\u001b[0m\u001b[0mwhere\u001b[0m\u001b[0;34m(\u001b[0m\u001b[0mX\u001b[0m\u001b[0;34m[\u001b[0m\u001b[0;34m:\u001b[0m\u001b[0;34m,\u001b[0m \u001b[0mfeature\u001b[0m\u001b[0;34m]\u001b[0m \u001b[0;34m>\u001b[0m \u001b[0mthreshold\u001b[0m\u001b[0;34m)\u001b[0m\u001b[0;34m[\u001b[0m\u001b[0;36m0\u001b[0m\u001b[0;34m]\u001b[0m\u001b[0;34m\u001b[0m\u001b[0;34m\u001b[0m\u001b[0m\n\u001b[1;32m     43\u001b[0m \u001b[0;34m\u001b[0m\u001b[0m\n",
            "\u001b[0;32m/usr/local/lib/python3.10/dist-packages/pandas/_libs/tslibs/timestamps.pyx\u001b[0m in \u001b[0;36mpandas._libs.tslibs.timestamps._Timestamp.__richcmp__\u001b[0;34m()\u001b[0m\n",
            "\u001b[0;31mKeyboardInterrupt\u001b[0m: "
          ]
        }
      ]
    },
    {
      "cell_type": "code",
      "source": [
        "import pandas as pd\n",
        "import numpy as np\n",
        "\n",
        "# Define the Node class for the Decision Tree\n",
        "class Node:\n",
        "    def __init__(self, feature=None, threshold=None, left=None, right=None, value=None):\n",
        "        self.feature = feature  # Feature index for splitting\n",
        "        self.threshold = threshold  # Threshold for splitting\n",
        "        self.left = left  # Left child node\n",
        "        self.right = right  # Right child node\n",
        "        self.value = value  # Value for leaf nodes\n",
        "\n",
        "# Define the Decision Tree class\n",
        "class DecisionTree:\n",
        "    def __init__(self, max_depth=None, min_samples_split=2):\n",
        "        self.max_depth = max_depth\n",
        "        self.min_samples_split = min_samples_split\n",
        "        self.root = None\n",
        "\n",
        "    def fit(self, X, y):\n",
        "        self.root = self._grow_tree(X, y.astype(int))\n",
        "\n",
        "    def predict(self, X):\n",
        "        return np.array([self._predict_row(x, self.root) for x in X])\n",
        "\n",
        "    def _grow_tree(self, X, y, depth=0):\n",
        "        n_samples, n_features = X.shape\n",
        "        n_classes = len(np.unique(y))\n",
        "\n",
        "        # Stopping criteria\n",
        "        if (self.max_depth is not None and depth >= self.max_depth) or n_classes == 1 or n_samples < self.min_samples_split:\n",
        "            value = np.bincount(y).argmax()\n",
        "            return Node(value=value)\n",
        "\n",
        "        # Find the best split\n",
        "        best_gini = float('inf')\n",
        "        best_feature, best_threshold = None, None\n",
        "        for feature in range(n_features):\n",
        "            thresholds = np.unique(X[:, feature])\n",
        "            for threshold in thresholds:\n",
        "                left_indices = np.where(X[:, feature] <= threshold)[0]\n",
        "                right_indices = np.where(X[:, feature] > threshold)[0]\n",
        "\n",
        "                if len(left_indices) == 0 or len(right_indices) == 0:\n",
        "                    continue\n",
        "\n",
        "                gini = self._gini_impurity(y[left_indices], y[right_indices])\n",
        "                if gini < best_gini:\n",
        "                    best_gini = gini\n",
        "                    best_feature = feature\n",
        "                    best_threshold = threshold\n",
        "\n",
        "        # Split the dataset\n",
        "        left_indices = np.where(X[:, best_feature] <= best_threshold)[0]\n",
        "        right_indices = np.where(X[:, best_feature] > best_threshold)[0]\n",
        "        left_child = self._grow_tree(X[left_indices], y[left_indices], depth + 1)\n",
        "        right_child = self._grow_tree(X[right_indices], y[right_indices], depth + 1)\n",
        "\n",
        "        return Node(feature=best_feature, threshold=best_threshold, left=left_child, right=right_child)\n",
        "\n",
        "    def _predict_row(self, x, node):\n",
        "        if node.value is not None:\n",
        "            return node.value\n",
        "        if x[node.feature] <= node.threshold:\n",
        "            return self._predict_row(x, node.left)\n",
        "        else:\n",
        "            return self._predict_row(x, node.right)\n",
        "\n",
        "    def _gini_impurity(self, left_y, right_y):\n",
        "        n = len(left_y) + len(right_y)\n",
        "        p_left = len(left_y) / n\n",
        "        p_right = len(right_y) / n\n",
        "        return p_left * self._calc_gini(left_y) + p_right * self._calc_gini(right_y)\n",
        "\n",
        "    def _calc_gini(self, y):\n",
        "        if len(y) == 0:\n",
        "            return 0\n",
        "        p = np.bincount(np.round(y).astype(int)) / len(y)\n",
        "        return 1 - np.sum(p ** 2)\n",
        "\n",
        "\n",
        "import pandas as pd\n",
        "import numpy as np\n",
        "\n",
        "# Assuming 'df' contains your DataFrame with the 'Close' column\n",
        "# Instantiate and train the model\n",
        "tree = DecisionTree(max_depth=3)\n",
        "X_train = train_data.drop(columns=['Close']).values\n",
        "y_train = train_data['Close'].values\n",
        "tree.fit(X_train, y_train)\n",
        "\n",
        "# Make predictions\n",
        "X_test = test_data.drop(columns=['Close']).values\n",
        "predictions = tree.predict(X_test)\n",
        "\n",
        "# Create a DataFrame to store predictions\n",
        "predictions_df = pd.DataFrame()\n",
        "\n",
        "# Assign 'Date' column from 'test_data' to the predictions DataFrame\n",
        "predictions_df['Date'] = test_data['Date']\n",
        "\n",
        "# Reset index to start from 0\n",
        "predictions_df.reset_index(drop=True, inplace=True)\n",
        "\n",
        "# Assign the predicted values to the 'Close' column\n",
        "predictions_df['Close'] = predictions\n",
        "\n",
        "# Add a placeholder for the 'Rank' column (you'll compute it later)\n",
        "predictions_df['Rank'] = np.arange(len(predictions_df))\n",
        "\n",
        "# Now predictions_df should have the required structure\n",
        "print(predictions_df.head())"
      ],
      "metadata": {
        "id": "xyzkQ6aF9oXd"
      },
      "execution_count": null,
      "outputs": []
    },
    {
      "cell_type": "code",
      "source": [
        "\n",
        "import numpy as np\n",
        "import matplotlib.pyplot as plt\n",
        "\n",
        "# Calculate Mean Absolute Error (MAE)\n",
        "mae = np.mean(np.abs(test_data['Close'] - predictions))\n",
        "\n",
        "# Calculate Mean Squared Error (MSE)\n",
        "mse = np.mean((test_data['Close'] - predictions) ** 2)\n",
        "\n",
        "# Calculate Root Mean Squared Error (RMSE)\n",
        "rmse = np.sqrt(mse)\n",
        "\n",
        "print(\"Mean Absolute Error:\", mae)\n",
        "print(\"Mean Squared Error:\", mse)\n",
        "print(\"Root Mean Squared Error:\", rmse)\n",
        "\n",
        "# Visualize the results\n",
        "plt.figure(figsize=(10, 6))\n",
        "plt.plot(test_data['Date'], test_data['Close'], label='Actual Close')\n",
        "plt.plot(test_data['Date'], predictions, label='Predicted Close')\n",
        "plt.xlabel('Date')\n",
        "plt.ylabel('Close Price')\n",
        "plt.title('Actual vs Predicted Close Prices')\n",
        "plt.legend()\n",
        "plt.show()"
      ],
      "metadata": {
        "id": "SgNoIDP5Jn6v"
      },
      "execution_count": null,
      "outputs": []
    },
    {
      "cell_type": "markdown",
      "source": [
        "Applying ML to the Challenge Data Set"
      ],
      "metadata": {
        "id": "UHc08LV5-tQh"
      }
    },
    {
      "cell_type": "code",
      "source": [
        "\n",
        "# Make predictions on the test data\n",
        "X_test = test_data.drop(columns=['Close']).values\n",
        "predictions_test = tree.predict(X_test)\n",
        "\n",
        "# Display the predictions\n",
        "print(predictions_test)"
      ],
      "metadata": {
        "id": "AUhPLYO_-jn-"
      },
      "execution_count": null,
      "outputs": []
    },
    {
      "cell_type": "code",
      "source": [
        "# Make predictions on the test data\n",
        "X_test = test_data.drop(columns=['Close']).values\n",
        "y_test = test_data['Close'].values\n",
        "predictions_test = tree.predict(X_test)\n",
        "\n",
        "# Evaluate model performance\n",
        "def accuracy_score(y_true, y_pred):\n",
        "    \"\"\"Compute the accuracy score.\"\"\"\n",
        "    correct = sum(y_true == y_pred)\n",
        "    total = len(y_true)\n",
        "    return correct / total\n",
        "\n",
        "accuracy = accuracy_score(y_test, predictions_test)\n",
        "print(\"Accuracy on test set:\", accuracy)"
      ],
      "metadata": {
        "id": "Jswuv_y7-muD"
      },
      "execution_count": null,
      "outputs": []
    },
    {
      "cell_type": "markdown",
      "source": [
        "Conclusion:\n"
      ],
      "metadata": {
        "id": "U2pbilhV-xO7"
      }
    }
  ]
}